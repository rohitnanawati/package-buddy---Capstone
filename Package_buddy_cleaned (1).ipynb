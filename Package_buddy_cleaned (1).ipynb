{
  "cells": [
    {
      "cell_type": "code",
      "source": [
        "#!pip install flair\n",
        "# reference to flair: https://github.com/flairNLP/flair\n",
        "!pip3 install google-cloud-vision\n",
        "#!pip install transformers"
      ],
      "metadata": {
        "id": "1Y6mGrqTBF1a",
        "colab": {
          "base_uri": "https://localhost:8080/",
          "height": 940
        },
        "outputId": "9690ebe4-14a3-4e4b-92bf-cd08b287b2a5"
      },
      "execution_count": 1,
      "outputs": [
        {
          "output_type": "stream",
          "name": "stdout",
          "text": [
            "Collecting google-cloud-vision\n",
            "  Downloading google_cloud_vision-2.6.3-py2.py3-none-any.whl (370 kB)\n",
            "\u001b[K     |████████████████████████████████| 370 kB 5.1 MB/s \n",
            "\u001b[?25hCollecting google-api-core[grpc]<3.0.0dev,>=1.28.0\n",
            "  Downloading google_api_core-2.5.0-py2.py3-none-any.whl (111 kB)\n",
            "\u001b[K     |████████████████████████████████| 111 kB 6.4 MB/s \n",
            "\u001b[?25hCollecting proto-plus>=1.15.0\n",
            "  Downloading proto_plus-1.20.0-py3-none-any.whl (45 kB)\n",
            "\u001b[K     |████████████████████████████████| 45 kB 840 kB/s \n",
            "\u001b[?25hRequirement already satisfied: requests<3.0.0dev,>=2.18.0 in /usr/local/lib/python3.7/dist-packages (from google-api-core[grpc]<3.0.0dev,>=1.28.0->google-cloud-vision) (2.23.0)\n",
            "Requirement already satisfied: googleapis-common-protos<2.0dev,>=1.52.0 in /usr/local/lib/python3.7/dist-packages (from google-api-core[grpc]<3.0.0dev,>=1.28.0->google-cloud-vision) (1.54.0)\n",
            "Requirement already satisfied: google-auth<3.0dev,>=1.25.0 in /usr/local/lib/python3.7/dist-packages (from google-api-core[grpc]<3.0.0dev,>=1.28.0->google-cloud-vision) (1.35.0)\n",
            "Requirement already satisfied: protobuf>=3.12.0 in /usr/local/lib/python3.7/dist-packages (from google-api-core[grpc]<3.0.0dev,>=1.28.0->google-cloud-vision) (3.17.3)\n",
            "Collecting grpcio-status<2.0dev,>=1.33.2\n",
            "  Downloading grpcio_status-1.43.0-py3-none-any.whl (10.0 kB)\n",
            "Requirement already satisfied: grpcio<2.0dev,>=1.33.2 in /usr/local/lib/python3.7/dist-packages (from google-api-core[grpc]<3.0.0dev,>=1.28.0->google-cloud-vision) (1.43.0)\n",
            "Requirement already satisfied: pyasn1-modules>=0.2.1 in /usr/local/lib/python3.7/dist-packages (from google-auth<3.0dev,>=1.25.0->google-api-core[grpc]<3.0.0dev,>=1.28.0->google-cloud-vision) (0.2.8)\n",
            "Requirement already satisfied: cachetools<5.0,>=2.0.0 in /usr/local/lib/python3.7/dist-packages (from google-auth<3.0dev,>=1.25.0->google-api-core[grpc]<3.0.0dev,>=1.28.0->google-cloud-vision) (4.2.4)\n",
            "Requirement already satisfied: rsa<5,>=3.1.4 in /usr/local/lib/python3.7/dist-packages (from google-auth<3.0dev,>=1.25.0->google-api-core[grpc]<3.0.0dev,>=1.28.0->google-cloud-vision) (4.8)\n",
            "Requirement already satisfied: setuptools>=40.3.0 in /usr/local/lib/python3.7/dist-packages (from google-auth<3.0dev,>=1.25.0->google-api-core[grpc]<3.0.0dev,>=1.28.0->google-cloud-vision) (57.4.0)\n",
            "Requirement already satisfied: six>=1.9.0 in /usr/local/lib/python3.7/dist-packages (from google-auth<3.0dev,>=1.25.0->google-api-core[grpc]<3.0.0dev,>=1.28.0->google-cloud-vision) (1.15.0)\n",
            "Collecting protobuf>=3.12.0\n",
            "  Downloading protobuf-3.19.4-cp37-cp37m-manylinux_2_17_x86_64.manylinux2014_x86_64.whl (1.1 MB)\n",
            "\u001b[K     |████████████████████████████████| 1.1 MB 12.4 MB/s \n",
            "\u001b[?25hRequirement already satisfied: pyasn1<0.5.0,>=0.4.6 in /usr/local/lib/python3.7/dist-packages (from pyasn1-modules>=0.2.1->google-auth<3.0dev,>=1.25.0->google-api-core[grpc]<3.0.0dev,>=1.28.0->google-cloud-vision) (0.4.8)\n",
            "Requirement already satisfied: idna<3,>=2.5 in /usr/local/lib/python3.7/dist-packages (from requests<3.0.0dev,>=2.18.0->google-api-core[grpc]<3.0.0dev,>=1.28.0->google-cloud-vision) (2.10)\n",
            "Requirement already satisfied: certifi>=2017.4.17 in /usr/local/lib/python3.7/dist-packages (from requests<3.0.0dev,>=2.18.0->google-api-core[grpc]<3.0.0dev,>=1.28.0->google-cloud-vision) (2021.10.8)\n",
            "Requirement already satisfied: chardet<4,>=3.0.2 in /usr/local/lib/python3.7/dist-packages (from requests<3.0.0dev,>=2.18.0->google-api-core[grpc]<3.0.0dev,>=1.28.0->google-cloud-vision) (3.0.4)\n",
            "Requirement already satisfied: urllib3!=1.25.0,!=1.25.1,<1.26,>=1.21.1 in /usr/local/lib/python3.7/dist-packages (from requests<3.0.0dev,>=2.18.0->google-api-core[grpc]<3.0.0dev,>=1.28.0->google-cloud-vision) (1.24.3)\n",
            "Installing collected packages: protobuf, grpcio-status, google-api-core, proto-plus, google-cloud-vision\n",
            "  Attempting uninstall: protobuf\n",
            "    Found existing installation: protobuf 3.17.3\n",
            "    Uninstalling protobuf-3.17.3:\n",
            "      Successfully uninstalled protobuf-3.17.3\n",
            "  Attempting uninstall: google-api-core\n",
            "    Found existing installation: google-api-core 1.26.3\n",
            "    Uninstalling google-api-core-1.26.3:\n",
            "      Successfully uninstalled google-api-core-1.26.3\n",
            "\u001b[31mERROR: pip's dependency resolver does not currently take into account all the packages that are installed. This behaviour is the source of the following dependency conflicts.\n",
            "google-cloud-translate 1.5.0 requires google-api-core[grpc]<2.0.0dev,>=1.6.0, but you have google-api-core 2.5.0 which is incompatible.\n",
            "google-cloud-language 1.2.0 requires google-api-core[grpc]<2.0.0dev,>=1.6.0, but you have google-api-core 2.5.0 which is incompatible.\n",
            "google-cloud-firestore 1.7.0 requires google-api-core[grpc]<2.0.0dev,>=1.14.0, but you have google-api-core 2.5.0 which is incompatible.\n",
            "google-cloud-datastore 1.8.0 requires google-api-core[grpc]<2.0.0dev,>=1.6.0, but you have google-api-core 2.5.0 which is incompatible.\n",
            "google-cloud-core 1.0.3 requires google-api-core<2.0.0dev,>=1.14.0, but you have google-api-core 2.5.0 which is incompatible.\n",
            "google-cloud-bigquery-storage 1.1.0 requires google-api-core[grpc]<2.0.0dev,>=1.14.0, but you have google-api-core 2.5.0 which is incompatible.\n",
            "firebase-admin 4.4.0 requires google-api-core[grpc]<2.0.0dev,>=1.14.0; platform_python_implementation != \"PyPy\", but you have google-api-core 2.5.0 which is incompatible.\u001b[0m\n",
            "Successfully installed google-api-core-2.5.0 google-cloud-vision-2.6.3 grpcio-status-1.43.0 proto-plus-1.20.0 protobuf-3.19.4\n"
          ]
        },
        {
          "output_type": "display_data",
          "data": {
            "application/vnd.colab-display-data+json": {
              "pip_warning": {
                "packages": [
                  "google"
                ]
              }
            }
          },
          "metadata": {}
        }
      ]
    },
    {
      "cell_type": "code",
      "source": [
        "from google.colab import drive\n",
        "drive.mount('/content/drive')"
      ],
      "metadata": {
        "colab": {
          "base_uri": "https://localhost:8080/"
        },
        "id": "Vf2y5V46COm4",
        "outputId": "9f66aaa7-4c16-41c2-9ff4-b26b5b4f62fd"
      },
      "execution_count": 1,
      "outputs": [
        {
          "output_type": "stream",
          "name": "stdout",
          "text": [
            "Mounted at /content/drive\n"
          ]
        }
      ]
    },
    {
      "cell_type": "code",
      "execution_count": 2,
      "metadata": {
        "id": "akFWiQAx_KnA"
      },
      "outputs": [],
      "source": [
        "from os import listdir\n",
        "from os.path import isfile, join\n",
        "mypath = '/content/drive/MyDrive/validation_images/'\n",
        "imagefiles = [mypath+f for f in listdir(mypath) if isfile(join(mypath, f))]"
      ]
    },
    {
      "cell_type": "code",
      "execution_count": 4,
      "metadata": {
        "colab": {
          "base_uri": "https://localhost:8080/"
        },
        "id": "Tmmyzmlk_KnB",
        "outputId": "0ef4afae-b126-4c7e-d10e-8039347e5c2a"
      },
      "outputs": [
        {
          "output_type": "execute_result",
          "data": {
            "text/plain": [
              "['/content/drive/MyDrive/validation_images/PXL_20220206_174349772.jpg',\n",
              " '/content/drive/MyDrive/validation_images/PXL_20220206_174433452.jpg',\n",
              " '/content/drive/MyDrive/validation_images/PXL_20220206_174443920.jpg',\n",
              " '/content/drive/MyDrive/validation_images/PXL_20220206_174454670.jpg',\n",
              " '/content/drive/MyDrive/validation_images/PXL_20220206_174509888.jpg',\n",
              " '/content/drive/MyDrive/validation_images/PXL_20220206_174516806.jpg',\n",
              " '/content/drive/MyDrive/validation_images/PXL_20220206_174627450.jpg',\n",
              " '/content/drive/MyDrive/validation_images/PXL_20220206_185443416.jpg']"
            ]
          },
          "metadata": {},
          "execution_count": 4
        }
      ],
      "source": [
        "imagefiles = imagefiles[1:]\n",
        "imagefiles"
      ]
    },
    {
      "cell_type": "code",
      "execution_count": 5,
      "metadata": {
        "id": "SjyIHN8L_KnD"
      },
      "outputs": [],
      "source": [
        "import google"
      ]
    },
    {
      "cell_type": "code",
      "execution_count": 9,
      "metadata": {
        "id": "l6Py7jgZ_KnH"
      },
      "outputs": [],
      "source": [
        "import os\n",
        "os.environ[\"GOOGLE_APPLICATION_CREDENTIALS\"]=\"/content/drive/MyDrive/validation_images/package-buddy-capstone-d9edc5dfd127.json\""
      ]
    },
    {
      "cell_type": "code",
      "source": [
        ""
      ],
      "metadata": {
        "id": "ivP_mJDyDE3_"
      },
      "execution_count": 9,
      "outputs": []
    },
    {
      "cell_type": "code",
      "execution_count": 10,
      "metadata": {
        "id": "vUOdZYlo_KnI"
      },
      "outputs": [],
      "source": [
        "def detect_text(path):\n",
        "    \"\"\"Detects text in the file.\"\"\"\n",
        "    from google.cloud import vision\n",
        "    import io\n",
        "    client = vision.ImageAnnotatorClient()\n",
        "\n",
        "    with io.open(path, 'rb') as image_file:\n",
        "        content = image_file.read()\n",
        "\n",
        "    image = vision.Image(content=content)\n",
        "\n",
        "    response = client.text_detection(image=image)\n",
        "    texts = response.text_annotations\n",
        "    #print('Texts:')\n",
        "\n",
        "    for text in texts:\n",
        "         #print('\\n\"{}\"'.format(text.description))\n",
        "\n",
        "         vertices = (['({},{})'.format(vertex.x, vertex.y)\n",
        "                     for vertex in text.bounding_poly.vertices])\n",
        "\n",
        "         #print('bounds: {}'.format(','.join(vertices)))\n",
        "    \n",
        "    return texts\n",
        "\n",
        "    if response.error.message:\n",
        "        raise Exception(\n",
        "            '{}\\nFor more info on error messages, check: '\n",
        "            'https://cloud.google.com/apis/design/errors'.format(\n",
        "                response.error.message))"
      ]
    },
    {
      "cell_type": "code",
      "execution_count": 11,
      "metadata": {
        "id": "FMsKdRHN_Knh"
      },
      "outputs": [],
      "source": [
        "output_list = [detect_text(i) for i in imagefiles]"
      ]
    },
    {
      "cell_type": "code",
      "execution_count": 12,
      "metadata": {
        "id": "arFcdfxy_Knh"
      },
      "outputs": [],
      "source": [
        "output_list = [str(i) for i in output_list]"
      ]
    },
    {
      "cell_type": "code",
      "execution_count": 13,
      "metadata": {
        "id": "a1YqsLhb_Kni"
      },
      "outputs": [],
      "source": [
        "import re\n",
        "def clear_text(text: str) -> str:\n",
        "    # Remove emojis\n",
        "    #text = text.encode('ascii', errors='ignore').decode('ascii')\n",
        "\n",
        "    #Remove the 'RT's\n",
        "    #text = re.sub('RT\\s', '', text)\n",
        "\n",
        "    # Remove the links\n",
        "    #text = re.sub('http\\S*|www\\S*', '', text)\n",
        "    \n",
        "\n",
        "    # Remove the breakline code\n",
        "    text = text.replace('\\\\n', ' ')\n",
        "    \n",
        "\n",
        "    # Remove the breakline code\n",
        "    #text = re.sub('\\\\ ', '', text)\n",
        "\n",
        "    # Remove the breakline code\n",
        "    #text = re.sub(' \\\\ n', '', text)\n",
        "\n",
        "    # Remove usernames \n",
        "    #text = re.sub('\\@\\S*', '', text)\n",
        "\n",
        "    # Remove hashtags\n",
        "    # text = re.sub('#\\S*', '', text)\n",
        "\n",
        "    # Remove numbers\n",
        "    #text = re.sub('[0-9]+', '', text)\n",
        "\n",
        "    # Split before a word\n",
        "    text = text.split(\"bounding\")[0]\n",
        "    text = text.split(\"locale\")[1]\n",
        "    \n",
        "    \n",
        "    \n",
        "\n",
        "    # Remove punctuation and extra blank spaces\n",
        "    text = re.sub('\\W+', ' ', text)\n",
        "    \n",
        "\n",
        "    \n",
        "    text = re.sub(\"[0-9][A-Z][a-z]+\", \"\", text)\n",
        "    \n",
        "    # Remove stop words and words with 2 or fewer letters\n",
        "    #text = [word for word in text.split() if \n",
        "    #        (len(word) >= 3) and (word not in stop_words)]\n",
        "\n",
        "    #text = ' '.join(text).lower()\n",
        "\n",
        "    return text"
      ]
    },
    {
      "cell_type": "code",
      "execution_count": 14,
      "metadata": {
        "colab": {
          "base_uri": "https://localhost:8080/",
          "height": 261
        },
        "id": "yncKiDyZ_Knj",
        "outputId": "eb65eb53-dd1a-4569-af09-1f0cd019b4a8"
      },
      "outputs": [
        {
          "output_type": "execute_result",
          "data": {
            "application/vnd.google.colaboratory.intrinsic+json": {
              "type": "string"
            },
            "text/plain": [
              "'[locale: \"en\"\\ndescription: \"135 EF\\\\nlizeriz\\\\304\\\\261u\\\\304\\\\261\\\\nYYZ1\\\\n4.9Lbs\\\\nDT03\\\\nGeraldine Mercado\\\\n112George Street\\\\nSUITE S533\\\\nM5A 2M5 Toronto, Ontario Canada\\\\nTBC369899292009\\\\nCYCLE 1\\\\nYYZ4\\\\nO T03\\\\nYHM5\\\\nC ART\\\\n\"\\nbounding_poly {\\n  vertices {\\n    x: 390\\n    y: 395\\n  }\\n  vertices {\\n    x: 3591\\n    y: 395\\n  }\\n  vertices {\\n    x: 3591\\n    y: 2688\\n  }\\n  vertices {\\n    x: 390\\n    y: 2688\\n  }\\n}\\n, description: \"135\"\\nbounding_poly {\\n  vertices {\\n    x: 2985\\n    y: 395\\n  }\\n  vertices {\\n    x: 3065\\n    y: 396\\n  }\\n  vertices {\\n    x: 3065\\n    y: 417\\n  }\\n  vertices {\\n    x: 2985\\n    y: 416\\n  }\\n}\\n, description: \"EF\"\\nbounding_poly {\\n  vertices {\\n    x: 3108\\n    y: 397\\n  }\\n  vertices {\\n    x: 3153\\n    y: 398\\n  }\\n  vertices {\\n    x: 3153\\n    y: 419\\n  }\\n  vertices {\\n    x: 3108\\n    y: 418\\n  }\\n}\\n, description: \"lizeriz\\\\304\\\\261u\\\\304\\\\261\"\\nbounding_poly {\\n  vertices {\\n    x: 2954\\n    y: 423\\n  }\\n  vertices {\\n    x: 3168\\n    y: 427\\n  }\\n  vertices {\\n    x: 3167\\n    y: 483\\n  }\\n  vertices {\\n    x: 2953\\n    y: 479\\n  }\\n}\\n, description: \"YYZ1\"\\nbounding_poly {\\n  vertices {\\n    x: 390\\n    y: 2668\\n  }\\n  vertices {\\n    x: 403\\n    y: 2437\\n  }\\n  vertices {\\n    x: 501\\n    y: 2443\\n  }\\n  vertices {\\n    x: 489\\n    y: 2673\\n  }\\n}\\n, description: \"4.9Lbs\"\\nbounding_poly {\\n  vertices {\\n    x: 438\\n    y: 2335\\n  }\\n  vertices {\\n    x: 434\\n    y: 1986\\n  }\\n  vertices {\\n    x: 522\\n    y: 1985\\n  }\\n  vertices {\\n    x: 526\\n    y: 2334\\n  }\\n}\\n, description: \"DT03\"\\nbounding_poly {\\n  vertices {\\n    x: 426\\n    y: 1168\\n  }\\n  vertices {\\n    x: 429\\n    y: 921\\n  }\\n  vertices {\\n    x: 518\\n    y: 922\\n  }\\n  vertices {\\n    x: 515\\n    y: 1169\\n  }\\n}\\n, description: \"Geraldine\"\\nbounding_poly {\\n  vertices {\\n    x: 670\\n    y: 2673\\n  }\\n  vertices {\\n    x: 668\\n    y: 2376\\n  }\\n  vertices {\\n    x: 727\\n    y: 2376\\n  }\\n  vertices {\\n    x: 729\\n    y: 2673\\n  }\\n}\\n, description: \"Mercado\"\\nbounding_poly {\\n  vertices {\\n    x: 669\\n    y: 2343\\n  }\\n  vertices {\\n    x: 667\\n    y: 2074\\n  }\\n  vertices {\\n    x: 724\\n    y: 2074\\n  }\\n  vertices {\\n    x: 726\\n    y: 2343\\n  }\\n}\\n, description: \"112George\"\\nbounding_poly {\\n  vertices {\\n    x: 748\\n    y: 2671\\n  }\\n  vertices {\\n    x: 744\\n    y: 2224\\n  }\\n  vertices {\\n    x: 831\\n    y: 2223\\n  }\\n  vertices {\\n    x: 835\\n    y: 2670\\n  }\\n}\\n, description: \"Street\"\\nbounding_poly {\\n  vertices {\\n    x: 743\\n    y: 2183\\n  }\\n  vertices {\\n    x: 741\\n    y: 1952\\n  }\\n  vertices {\\n    x: 817\\n    y: 1951\\n  }\\n  vertices {\\n    x: 819\\n    y: 2182\\n  }\\n}\\n, description: \"SUITE\"\\nbounding_poly {\\n  vertices {\\n    x: 845\\n    y: 2677\\n  }\\n  vertices {\\n    x: 845\\n    y: 2492\\n  }\\n  vertices {\\n    x: 906\\n    y: 2492\\n  }\\n  vertices {\\n    x: 906\\n    y: 2677\\n  }\\n}\\n, description: \"S533\"\\nbounding_poly {\\n  vertices {\\n    x: 835\\n    y: 2453\\n  }\\n  vertices {\\n    x: 835\\n    y: 2307\\n  }\\n  vertices {\\n    x: 910\\n    y: 2307\\n  }\\n  vertices {\\n    x: 910\\n    y: 2453\\n  }\\n}\\n, description: \"M5A\"\\nbounding_poly {\\n  vertices {\\n    x: 909\\n    y: 2689\\n  }\\n  vertices {\\n    x: 908\\n    y: 2544\\n  }\\n  vertices {\\n    x: 983\\n    y: 2543\\n  }\\n  vertices {\\n    x: 984\\n    y: 2688\\n  }\\n}\\n, description: \"2M5\"\\nbounding_poly {\\n  vertices {\\n    x: 907\\n    y: 2513\\n  }\\n  vertices {\\n    x: 906\\n    y: 2380\\n  }\\n  vertices {\\n    x: 982\\n    y: 2379\\n  }\\n  vertices {\\n    x: 983\\n    y: 2512\\n  }\\n}\\n, description: \"Toronto,\"\\nbounding_poly {\\n  vertices {\\n    x: 915\\n    y: 2351\\n  }\\n  vertices {\\n    x: 913\\n    y: 2072\\n  }\\n  vertices {\\n    x: 980\\n    y: 2071\\n  }\\n  vertices {\\n    x: 982\\n    y: 2350\\n  }\\n}\\n, description: \"Ontario\"\\nbounding_poly {\\n  vertices {\\n    x: 912\\n    y: 2039\\n  }\\n  vertices {\\n    x: 910\\n    y: 1812\\n  }\\n  vertices {\\n    x: 970\\n    y: 1812\\n  }\\n  vertices {\\n    x: 972\\n    y: 2039\\n  }\\n}\\n, description: \"Canada\"\\nbounding_poly {\\n  vertices {\\n    x: 907\\n    y: 1783\\n  }\\n  vertices {\\n    x: 905\\n    y: 1552\\n  }\\n  vertices {\\n    x: 968\\n    y: 1552\\n  }\\n  vertices {\\n    x: 970\\n    y: 1783\\n  }\\n}\\n, description: \"TBC369899292009\"\\nbounding_poly {\\n  vertices {\\n    x: 2114\\n    y: 2249\\n  }\\n  vertices {\\n    x: 2113\\n    y: 1444\\n  }\\n  vertices {\\n    x: 2195\\n    y: 1444\\n  }\\n  vertices {\\n    x: 2196\\n    y: 2249\\n  }\\n}\\n, description: \"CYCLE\"\\nbounding_poly {\\n  vertices {\\n    x: 2274\\n    y: 1167\\n  }\\n  vertices {\\n    x: 2271\\n    y: 765\\n  }\\n  vertices {\\n    x: 2417\\n    y: 764\\n  }\\n  vertices {\\n    x: 2420\\n    y: 1166\\n  }\\n}\\n, description: \"1\"\\nbounding_poly {\\n  vertices {\\n    x: 2271\\n    y: 687\\n  }\\n  vertices {\\n    x: 2271\\n    y: 619\\n  }\\n  vertices {\\n    x: 2416\\n    y: 618\\n  }\\n  vertices {\\n    x: 2416\\n    y: 686\\n  }\\n}\\n, description: \"YYZ4\"\\nbounding_poly {\\n  vertices {\\n    x: 3353\\n    y: 2601\\n  }\\n  vertices {\\n    x: 3356\\n    y: 2306\\n  }\\n  vertices {\\n    x: 3475\\n    y: 2307\\n  }\\n  vertices {\\n    x: 3472\\n    y: 2602\\n  }\\n}\\n, description: \"O\"\\nbounding_poly {\\n  vertices {\\n    x: 3469\\n    y: 2543\\n  }\\n  vertices {\\n    x: 3470\\n    y: 2478\\n  }\\n  vertices {\\n    x: 3581\\n    y: 2480\\n  }\\n  vertices {\\n    x: 3580\\n    y: 2545\\n  }\\n}\\n, description: \"T03\"\\nbounding_poly {\\n  vertices {\\n    x: 3470\\n    y: 2471\\n  }\\n  vertices {\\n    x: 3472\\n    y: 2342\\n  }\\n  vertices {\\n    x: 3584\\n    y: 2344\\n  }\\n  vertices {\\n    x: 3582\\n    y: 2473\\n  }\\n}\\n, description: \"YHM5\"\\nbounding_poly {\\n  vertices {\\n    x: 3355\\n    y: 2032\\n  }\\n  vertices {\\n    x: 3358\\n    y: 1683\\n  }\\n  vertices {\\n    x: 3474\\n    y: 1684\\n  }\\n  vertices {\\n    x: 3471\\n    y: 2033\\n  }\\n}\\n, description: \"C\"\\nbounding_poly {\\n  vertices {\\n    x: 3468\\n    y: 1956\\n  }\\n  vertices {\\n    x: 3469\\n    y: 1885\\n  }\\n  vertices {\\n    x: 3588\\n    y: 1887\\n  }\\n  vertices {\\n    x: 3587\\n    y: 1958\\n  }\\n}\\n, description: \"ART\"\\nbounding_poly {\\n  vertices {\\n    x: 3469\\n    y: 1880\\n  }\\n  vertices {\\n    x: 3472\\n    y: 1745\\n  }\\n  vertices {\\n    x: 3591\\n    y: 1747\\n  }\\n  vertices {\\n    x: 3588\\n    y: 1882\\n  }\\n}\\n]'"
            ]
          },
          "metadata": {},
          "execution_count": 14
        }
      ],
      "source": [
        "output_list[0]"
      ]
    },
    {
      "cell_type": "code",
      "execution_count": 18,
      "metadata": {
        "colab": {
          "base_uri": "https://localhost:8080/",
          "height": 157
        },
        "id": "yvGQYaA8_Knj",
        "outputId": "fc4c858e-2feb-44eb-ea77-114493d8051d"
      },
      "outputs": [
        {
          "output_type": "execute_result",
          "data": {
            "application/vnd.google.colaboratory.intrinsic+json": {
              "type": "string"
            },
            "text/plain": [
              "' en description REAKBULK entiro Sy stems v 1 1 16 1605 BBX HL Contact FROM Mango Barcelona Origin Mercaders 9 11 Pol Ind Riera de Caldes 08184 Palau Solit Plegamans SPAIN BCN TO leah travaglini 2008 112 george street Contact 4169995948 M5A 2M5 TORONTO Canada CA YHM YTZ Day Time Ret code Pickup date Package Shpt Wght Piece CYD08J00 0 20kg 0 20kg 1 1 2022 02 01 Content Clothes Cleared under waybill WAYBILL 98 4285 7765 2L 303 207AM5A2M5 41000000 00 38427907 500553542 9 SAP 3001 101 PED 00 38427907500553542 Canada leah travaglini 01 02 22 T Clent sig nature CYD08J00 '"
            ]
          },
          "metadata": {},
          "execution_count": 18
        }
      ],
      "source": [
        "list1 = []\n",
        "\n",
        "for i in output_list:\n",
        "    x = clear_text(i)\n",
        "    list1.append(x)\n",
        "#print(list1)\n",
        "list1[7]"
      ]
    },
    {
      "cell_type": "code",
      "source": [
        ""
      ],
      "metadata": {
        "id": "12Q_9f5f1o3H"
      },
      "execution_count": null,
      "outputs": []
    },
    {
      "cell_type": "code",
      "source": [
        "for i in list1:\n",
        "  print(i)"
      ],
      "metadata": {
        "colab": {
          "base_uri": "https://localhost:8080/"
        },
        "id": "h0z0vuoa1T1Y",
        "outputId": "d1c443c2-d686-44f4-e955-809ee9e1dc4c"
      },
      "execution_count": 20,
      "outputs": [
        {
          "output_type": "stream",
          "name": "stdout",
          "text": [
            " en description 135 EF lizeriz 304 261u 304 261 YYZ1 4  DT03 Geraldine Mercado 11 Street SUITE S533 M5A 2M5 Toronto Ontario Canada TBC369899292009 CYCLE 1 YYZ4 O T03 YHM5 C ART \n",
            " en description YYZ1 1 6 Lbs 02 06 DT03 Alison Roy 1503 112 George Street M5A 2M5 Toronto Ontario Canada Not restricted as per special provision A199 TBC370081708009 DT03 CYCLE 1 YYZ7 O T03 YHM5 C ART livr Is MhmbHHtj \n",
            " en description GIES in M7vxB3 1 404 based Dia riqu 303 251e 303 240 par e v 303 251g 303 251tale orn size 6 n 303 251 talle 6 Ou Sont mounl 303 251es simplement avec une d al humedecerse Si observa una peque 303 261a on una toallita para beb 303 251s o un pa 303 261o h 303 272medo un keep plastic bags away from babies a to their mouths To avoid risk of choking e most articles of clothing HUGGIES 302 256 dia INGE8XAL 1 404 IMPORTANT Pour 303 251viter tout risque de ATTENTION Les enfants peu un b 303 251b 303 251 d 303 251chirer lac risquent de of flame 22 YYZ1 5 5 Lbs 02 06 DT03 Nell Chitty N711 116 George St M5A 3S2 Toronto Ontarlo Canada TBC369722990009 DT03 CYCLE YYZ2 Y HM5 YHM5 D T03 \n",
            " en description apide delivery fast free livraiso YYZ1 3  02 06 DT03 John Michael Tamburro S430 112 George Street M5A 2M5 Toronto Ontario Canada TBC369836993009 DT03 CYCLE 1 YYZ9 T03 MajrWHwSj 3 106 MajrWHwSj 3 106 \n",
            " en description A 18 3C YCLE 1 livrais et gr RIB 6424 IBC369753115009 DTOS 02 06 YYZ1 0 6 Lbs Dave Creamer S518 112 George Street M5A 2M5 Toronto Ontario Canada TBC369753115009 CYCLE 1 DT03 YYZ4 O T03 YHM5 C ART 1 3031 \n",
            " en description MtWq3NZOj UVles tv streamina YYZ1 1 2 Lbs 02 06 DT03 Antoine Lebrun N1404 116 George Street M5A 3S2 Toronto Ontario Canada TBC370042221009 CYCLE 1 DT03 YYZ9 T03 series \n",
            " en description YYZ1 1  02 06 DT03 Nell Chitty 116 George Street Unit 711 M5A 3S2 Toronto Ontario Canada Not restricted as per special provision A123 TBC369659309009 DT03 CYCLE 1 YYZ9 T03 MtmJs 7C4j 4 105 MimJs7C4j 41 105 \n",
            " en description REAKBULK entiro Sy stems v 1 1 16 1605 BBX HL Contact FROM Mango Barcelona Origin Mercaders 9 11 Pol Ind Riera de Caldes 08184 Palau Solit Plegamans SPAIN BCN TO leah travaglini 2008 112 george street Contact 4169995948 M5A 2M5 TORONTO Canada CA YHM YTZ Day Time Ret code Pickup date Package Shpt Wght Piece CYD08J00 0 20kg 0 20kg 1 1 2022 02 01 Content Clothes Cleared under waybill WAYBILL 98 4285 7765 2L 303 207AM5A2M5 41000000 00 38427907 500553542 9 SAP 3001 101 PED 00 38427907500553542 Canada leah travaglini 01 02 22 T Clent sig nature CYD08J00 \n"
          ]
        }
      ]
    },
    {
      "cell_type": "code",
      "source": [
        "list1[10][48]"
      ],
      "metadata": {
        "colab": {
          "base_uri": "https://localhost:8080/",
          "height": 35
        },
        "id": "k-XoLsf3fuDS",
        "outputId": "10371c74-70af-4a16-c026-b3537e12fb59"
      },
      "execution_count": null,
      "outputs": [
        {
          "output_type": "execute_result",
          "data": {
            "application/vnd.google.colaboratory.intrinsic+json": {
              "type": "string"
            },
            "text/plain": [
              "'0'"
            ]
          },
          "metadata": {},
          "execution_count": 12
        }
      ]
    },
    {
      "cell_type": "code",
      "source": [
        "len(output_list)"
      ],
      "metadata": {
        "colab": {
          "base_uri": "https://localhost:8080/"
        },
        "id": "NzCw7KJyGMmU",
        "outputId": "2f7cb4b9-8545-4e63-ac1e-e7204b66a4ad"
      },
      "execution_count": null,
      "outputs": [
        {
          "output_type": "execute_result",
          "data": {
            "text/plain": [
              "83"
            ]
          },
          "metadata": {},
          "execution_count": 13
        }
      ]
    },
    {
      "cell_type": "code",
      "execution_count": null,
      "metadata": {
        "colab": {
          "base_uri": "https://localhost:8080/"
        },
        "id": "lYD9v_ho_Knk",
        "outputId": "17adedbc-be11-4280-bb73-1d5a4f669301"
      },
      "outputs": [
        {
          "output_type": "execute_result",
          "data": {
            "text/plain": [
              "83"
            ]
          },
          "metadata": {},
          "execution_count": 14
        }
      ],
      "source": [
        "len(list1)"
      ]
    },
    {
      "cell_type": "code",
      "execution_count": null,
      "metadata": {
        "id": "8SJpDyEr_Knk"
      },
      "outputs": [],
      "source": [
        "# from transformers import AutoModelForTokenClassification, AutoTokenizer\n",
        "# import torch\n",
        "\n",
        "# model = AutoModelForTokenClassification.from_pretrained(\"dbmdz/bert-large-cased-finetuned-conll03-english\")\n",
        "# tokenizer = AutoTokenizer.from_pretrained(\"bert-base-cased\")\n",
        "\n",
        "# label_list = [\n",
        "#     \"O\",       # Outside of a named entity\n",
        "#     \"B-MISC\",  # Beginning of a miscellaneous entity right after another miscellaneous entity\n",
        "#     \"I-MISC\",  # Miscellaneous entity\n",
        "#     \"B-PER\",   # Beginning of a person's name right after another person's name\n",
        "#     \"I-PER\",   # Person's name\n",
        "#     \"B-ORG\",   # Beginning of an organisation right after another organisation\n",
        "#     \"I-ORG\",   # Organisation\n",
        "#     \"B-LOC\",   # Beginning of a location right after another location\n",
        "#     \"I-LOC\"    # Location\n",
        "# ]\n",
        "\n",
        "# sequence = list1[0]\n",
        "\n",
        "# # Bit of a hack to get the tokens with the special tokens\n",
        "# tokens = tokenizer.tokenize(tokenizer.decode(tokenizer.encode(sequence)))\n",
        "# inputs = tokenizer.encode(sequence, return_tensors=\"pt\")\n",
        "\n",
        "# outputs = model(inputs)[0]\n",
        "# predictions = torch.argmax(outputs, dim=2)\n",
        "\n",
        "# print([(token, label_list[prediction]) for token, prediction in zip(tokens, predictions[0].tolist())])"
      ]
    },
    {
      "cell_type": "code",
      "source": [
        "# from transformers import AutoModelForTokenClassification, AutoTokenizer\n",
        "# import torch\n",
        "\n",
        "# model = AutoModelForTokenClassification.from_pretrained(\"dbmdz/bert-large-cased-finetuned-conll03-english\")\n",
        "# tokenizer = AutoTokenizer.from_pretrained(\"bert-base-cased\")\n",
        "\n",
        "# label_list = [\n",
        "#     \"O\",       # Outside of a named entity\n",
        "#     \"B-MISC\",  # Beginning of a miscellaneous entity right after another miscellaneous entity\n",
        "#     \"I-MISC\",  # Miscellaneous entity\n",
        "#     \"B-PER\",   # Beginning of a person's name right after another person's name\n",
        "#     \"I-PER\",   # Person's name\n",
        "#     \"B-ORG\",   # Beginning of an organisation right after another organisation\n",
        "#     \"I-ORG\",   # Organisation\n",
        "#     \"B-LOC\",   # Beginning of a location right after another location\n",
        "#     \"I-LOC\"    # Location\n",
        "# ]\n",
        "\n",
        "# sequence = list1[0]\n",
        "\n",
        "# # Bit of a hack to get the tokens with the special tokens\n",
        "# tokens = tokenizer.tokenize(tokenizer.decode(tokenizer.encode(sequence)))\n",
        "# inputs = tokenizer.encode(sequence, return_tensors=\"pt\")\n",
        "\n",
        "# outputs = model(inputs)[0]\n",
        "# predictions = torch.argmax(outputs, dim=2)\n",
        "\n",
        "# print([(token, label_list[prediction]) for token, prediction in zip(tokens, predictions[0].tolist())])"
      ],
      "metadata": {
        "id": "F9UVZO8KJN3Q"
      },
      "execution_count": null,
      "outputs": []
    },
    {
      "cell_type": "code",
      "source": [
        "# from flair.data import Sentence\n",
        "# from flair.models import SequenceTagger\n",
        "\n",
        "# # make a sentence\n",
        "# sentence = []\n",
        "# for i in list1:\n",
        "#     x = Sentence(i)\n",
        "#     sentence.append(x)\n",
        "\n",
        "\n",
        "\n",
        "# # load the NER tagger\n",
        "# tagger = SequenceTagger.load('ner')\n",
        "\n",
        "# # run NER over sentence\n",
        "# tagger.predict(sentence)"
      ],
      "metadata": {
        "id": "31BlKwG9KFhl"
      },
      "execution_count": null,
      "outputs": []
    },
    {
      "cell_type": "code",
      "source": [
        "# sentence"
      ],
      "metadata": {
        "id": "--xU2HrOHm0e"
      },
      "execution_count": null,
      "outputs": []
    },
    {
      "cell_type": "code",
      "source": [
        "# print(sentence)\n",
        "# print('The following NER tags are found:')\n",
        "\n",
        "# # iterate over entities and print\n",
        "# for entity in Sentence.get_spans('ner'):\n",
        "#     print(entity)"
      ],
      "metadata": {
        "id": "q5GTu7RXKY1o"
      },
      "execution_count": null,
      "outputs": []
    },
    {
      "cell_type": "code",
      "source": [
        "# !pip install spacy"
      ],
      "metadata": {
        "id": "UGCiMcC3R0xQ"
      },
      "execution_count": null,
      "outputs": []
    },
    {
      "cell_type": "code",
      "source": [
        "# import spacy\n",
        "# from spacy.tokens import DocBin\n",
        "# import pandas as pd\n",
        "# import re\n",
        "# pd.set_option('display.max_colwidth', -1)\n",
        "\n",
        "# def massage_data(address):\n",
        "#     '''Pre process address string to remove new line characters, add comma punctuations etc.'''\n",
        "#     cleansed_address1=re.sub(r'(,)(?!\\s)',', ',address)\n",
        "#     cleansed_address2=re.sub(r'(\\\\n)',', ',cleansed_address1)\n",
        "#     cleansed_address3=re.sub(r'(?!\\s)(-)(?!\\s)',' - ',cleansed_address2)\n",
        "#     cleansed_address=re.sub(r'\\.','',cleansed_address3)\n",
        "#     return cleansed_address\n",
        "\n",
        "# def get_address_span(address=None,address_component=None,label=None):\n",
        "#     '''Search for specified address component and get the span.\n",
        "#     Eg: get_address_span(address=\"221 B, Baker Street, London\",address_component=\"221\",label=\"BUILDING_NO\") would return (0,2,\"BUILDING_NO\")'''\n",
        "\n",
        "#     if pd.isna(address_component) or str(address_component)=='nan':\n",
        "#         pass\n",
        "#     else:\n",
        "#         address_component1=re.sub('\\.','',address_component)\n",
        "#         address_component2=re.sub(r'(?!\\s)(-)(?!\\s)',' - ',address_component1)\n",
        "#         span=re.search('\\\\b(?:'+address_component2+')\\\\b',address)\n",
        "#         #print(span)\n",
        "#         return (span.start(),span.end(),label)\n",
        "\n",
        "# def extend_list(entity_list,entity):\n",
        "#     if pd.isna(entity):\n",
        "#         return entity_list\n",
        "#     else:\n",
        "#         entity_list.append(entity)\n",
        "#         return entity_list\n",
        "\n",
        "# def create_entity_spans(df,tag_list):\n",
        "#     '''Create entity spans for training/test datasets'''\n",
        "#     df['Address']=df['Address'].apply(lambda x: massage_data(x))\n",
        "#     df[\"BuildingTag\"]=df.apply(lambda row:get_address_span(address=row['Address'],address_component=row['Building_Name'],label='BUILDING_NAME'),axis=1)\n",
        "#     df[\"BuildingNoTag\"]=df.apply(lambda row:get_address_span(address=row['Address'],address_component=row['Building_Number'],label='BUILDING_NO'),axis=1)\n",
        "#     df[\"RecipientTag\"]=df.apply(lambda row:get_address_span(address=row['Address'],address_component=row['Recipient'],label='RECIPIENT'),axis=1)\n",
        "#     df[\"StreetNameTag\"]=df.apply(lambda row:get_address_span(address=row['Address'],address_component=row['Street_Name'],label='STREET_NAME'),axis=1)\n",
        "#     df[\"ZipCodeTag\"]=df.apply(lambda row:get_address_span(address=row['Address'],address_component=row['Zip_Code'],label='ZIP_CODE'),axis=1)\n",
        "#     df[\"CityTag\"]=df.apply(lambda row:get_address_span(address=row['Address'],address_component=row['City'],label='CITY'),axis=1)\n",
        "#     df[\"CountryTag\"]=df.apply(lambda row:get_address_span(address=row['Address'],address_component=row['Country'],label='COUNTRY'),axis=1)\n",
        "#     df[\"StateTag\"]=df.apply(lambda row:get_address_span(address=row['Address'],address_component=row['State'],label='STATE'),axis=1)\n",
        "#     df['EmptySpan']=df.apply(lambda x: [], axis=1)\n",
        "\n",
        "#     for i in tag_list:\n",
        "#         df['EntitySpans']=df.apply(lambda row: extend_list(row['EmptySpan'],row[i]),axis=1)\n",
        "#         df['EntitySpans']=df[['EntitySpans','Address']].apply(lambda x: (x[1], x[0]),axis=1)\n",
        "#     return df['EntitySpans']\n",
        "\n",
        "# def get_doc_bin(training_data,nlp):\n",
        "#     '''Create DocBin object for building training/test corpus'''\n",
        "#     # the DocBin will store the example documents\n",
        "#     db = DocBin()\n",
        "#     for text, annotations in training_data:\n",
        "#         doc = nlp(text) #Construct a Doc object\n",
        "#         ents = []\n",
        "#         for start, end, label in annotations:\n",
        "#             span = doc.char_span(start, end, label=label)\n",
        "#             ents.append(span)\n",
        "#         doc.ents = ents\n",
        "#         db.add(doc)\n",
        "#     return db\n",
        "\n",
        "# #Load blank English model. This is needed for initializing a Document object for our training/test set.\n",
        "# nlp = spacy.blank(\"en\")\n",
        "\n",
        "# #Define custom entity tag list\n",
        "# tag_list=[\"BuildingTag\",\"BuildingNoTag\",\"RecipientTag\",\"StreetNameTag\",\"ZipCodeTag\",\"CityTag\",\"StateTag\",\"CountryTag\"]\n",
        "\n",
        "# ###### Training dataset prep ###########\n",
        "# # Read the training dataset into pandas\n",
        "# df_train=pd.read_csv(filepath_or_buffer=\"./corpus/dataset/us-train-dataset.csv\",sep=\",\",dtype=str)\n",
        "\n",
        "# # Get entity spans\n",
        "# df_entity_spans= create_entity_spans(df_train.astype(str),tag_list)\n",
        "# training_data= df_entity_spans.values.tolist()\n",
        "\n",
        "# # Get & Persist DocBin to disk\n",
        "# doc_bin_train= get_doc_bin(training_data,nlp)\n",
        "# doc_bin_train.to_disk(\"./corpus/spacy-docbins/train.spacy\")\n",
        "# ######################################\n",
        "\n",
        "\n",
        "# ###### Validation dataset prep ###########\n",
        "# # Read the validation dataset into pandas\n",
        "# df_test=pd.read_csv(filepath_or_buffer=\"./corpus/dataset/us-test-dataset.csv\",sep=\",\",dtype=str)\n",
        "\n",
        "# # Get entity spans\n",
        "# df_entity_spans= create_entity_spans(df_test.astype(str),tag_list)\n",
        "# validation_data= df_entity_spans.values.tolist()\n",
        "\n",
        "# # Get & Persist DocBin to disk\n",
        "# doc_bin_test= get_doc_bin(validation_data,nlp)\n",
        "# doc_bin_test.to_disk(\"./corpus/spacy-docbins/test.spacy\")\n",
        "# ##########################################"
      ],
      "metadata": {
        "id": "bEztuL70SgGL"
      },
      "execution_count": null,
      "outputs": []
    },
    {
      "cell_type": "code",
      "source": [
        "#sentence[:][:]"
      ],
      "metadata": {
        "id": "yrvaidIkfXaQ"
      },
      "execution_count": null,
      "outputs": []
    },
    {
      "cell_type": "code",
      "source": [
        "import spacy\n",
        "from spacy.tokens import DocBin\n",
        "import pandas as pd\n",
        "import re\n",
        "pd.set_option('display.max_colwidth', None)"
      ],
      "metadata": {
        "id": "qQVwQq92dpOw"
      },
      "execution_count": null,
      "outputs": []
    },
    {
      "cell_type": "code",
      "source": [
        "def massage_data(sentence):\n",
        "  '''Pre process address string to remove new line characters, add comma punctuations etc.'''\n",
        "  cleansed_sentence1=re.sub(r'(,)(?!\\s)',', ',sentence)\n",
        "  cleansed_sentence2=re.sub(r'(\\\\n)',', ',cleansed_sentence1)\n",
        "  cleansed_sentence3=re.sub(r'(?!\\s)(-)(?!\\s)',' - ',cleansed_sentence2)\n",
        "  cleansed_sentence=re.sub(r'\\.','',cleansed_sentence3)\n",
        "  return(cleansed_sentence)"
      ],
      "metadata": {
        "id": "mmFei7IJeKrk"
      },
      "execution_count": null,
      "outputs": []
    },
    {
      "cell_type": "code",
      "source": [
        "# list2 = []\n",
        "\n",
        "# for i in output_list:\n",
        "#     x = massage_data(i)\n",
        "#     list2.append(x)\n",
        "# #print(list1)\n",
        "# list2[9]"
      ],
      "metadata": {
        "id": "4Ag3rNTMgwbU"
      },
      "execution_count": null,
      "outputs": []
    },
    {
      "cell_type": "code",
      "source": [
        "# from flair.data import Sentence\n",
        "# from flair.models import SequenceTagger\n",
        "\n",
        "# # make a sentence\n",
        "# sentence2 = []\n",
        "# for i in list2:\n",
        "#     x = Sentence(i)\n",
        "#     sentence2.append(x)\n",
        "\n",
        "\n",
        "\n",
        "# # load the NER tagger\n",
        "# tagger = SequenceTagger.load('ner')\n",
        "\n",
        "# # run NER over sentence\n",
        "# tagger.predict(sentence2)"
      ],
      "metadata": {
        "id": "rSeHizzrhSf5"
      },
      "execution_count": null,
      "outputs": []
    },
    {
      "cell_type": "code",
      "source": [
        "#list1"
      ],
      "metadata": {
        "id": "uSp6W_b9jnWY"
      },
      "execution_count": null,
      "outputs": []
    },
    {
      "cell_type": "code",
      "source": [
        "# sentence[0][:]"
      ],
      "metadata": {
        "id": "n_UJ725tiAY-"
      },
      "execution_count": null,
      "outputs": []
    },
    {
      "cell_type": "code",
      "source": [
        "list2 = []\n",
        "\n",
        "for i in list1:\n",
        "    x = massage_data(i)\n",
        "    list2.append(x)\n",
        "#print(list1)\n",
        "list2[9]"
      ],
      "metadata": {
        "colab": {
          "base_uri": "https://localhost:8080/",
          "height": 105
        },
        "id": "UyLRz814idF0",
        "outputId": "173f51ca-d077-4160-b497-c510a5d610fb"
      },
      "execution_count": null,
      "outputs": [
        {
          "output_type": "execute_result",
          "data": {
            "application/vnd.google.colaboratory.intrinsic+json": {
              "type": "string"
            },
            "text/plain": [
              "' en description CANADA POST POSTES CANADA TM Expedited Parcel Colis acc 303 251l 303 251r 303 251s TO A Tel Tel 800 832 7569 CYNTHIA INNES CYNTHIA INNES 116 GEORGE STREET APT 1506 TORONTO ON M5A 3S2 M5A 3S2 TRACKING NUMBER 7036 7330 5514 9304 N 302 260 DE REP 303 211RAGE Sender warrants that this item does not contain non mailable matter L exp 303 251diteur garantit que cet envoi ne contient pas d objet inadmissible ereuses FROM DE INDIGO BOOKS MUSIC CDF BLDG 50 100 ALFRED KUEHNE BLVD BRAMPTON ON L6T 4K4 1 00 KG VE EV MANIFEST REQ MANIFESTE REQ P F 7036733 A C VIN NIF 019 SPEC 3696 V2 0 Reference No 657182164 '"
            ]
          },
          "metadata": {},
          "execution_count": 29
        }
      ]
    },
    {
      "cell_type": "code",
      "source": [
        "#list2"
      ],
      "metadata": {
        "id": "qym4mWyGmT6S"
      },
      "execution_count": null,
      "outputs": []
    },
    {
      "cell_type": "code",
      "source": [
        "new_list = [massage_data(i) for i in list2]\n",
        "new_list[0]"
      ],
      "metadata": {
        "colab": {
          "base_uri": "https://localhost:8080/",
          "height": 53
        },
        "id": "4K-bMS0seco6",
        "outputId": "fce57cac-4dd3-4edd-b852-6b9eecab5262"
      },
      "execution_count": null,
      "outputs": [
        {
          "output_type": "execute_result",
          "data": {
            "application/vnd.google.colaboratory.intrinsic+json": {
              "type": "string"
            },
            "text/plain": [
              "' en description YYZ1 1 1 Lbs 01 23 DT03 Leslie Walsh 626 112 George Street M5A 2M5 Toronto Ontarlo Canada TBC360938832009 DT03 CYCLE 1 YYZ9 T03 MWSrgRSF5 MW5 9RSF5 A 20 3 INO '"
            ]
          },
          "metadata": {},
          "execution_count": 31
        }
      ]
    },
    {
      "cell_type": "code",
      "source": [
        "import pandas as pd"
      ],
      "metadata": {
        "id": "NwLx_YAblgPD"
      },
      "execution_count": null,
      "outputs": []
    },
    {
      "cell_type": "code",
      "source": [
        "df = pd.DataFrame(list2[0:-1])"
      ],
      "metadata": {
        "id": "IuL1hlCwmu6L"
      },
      "execution_count": null,
      "outputs": []
    },
    {
      "cell_type": "code",
      "source": [
        "df_train = pd.DataFrame(list2[0:50])\n",
        "df_test = pd.DataFrame(list2[50:])\n"
      ],
      "metadata": {
        "id": "vUDfk09srGiD"
      },
      "execution_count": null,
      "outputs": []
    },
    {
      "cell_type": "code",
      "source": [
        "df_train[0] = df_train[0].astype(str)\n",
        "print(df_train.dtypes)\n",
        "df_test[0] = df_test[0].astype(str)\n",
        "print(df_test.dtypes)"
      ],
      "metadata": {
        "colab": {
          "base_uri": "https://localhost:8080/"
        },
        "id": "eAAa3nGBsizw",
        "outputId": "a5c13405-404b-47a8-deed-65038fd48787"
      },
      "execution_count": null,
      "outputs": [
        {
          "output_type": "stream",
          "name": "stdout",
          "text": [
            "0    object\n",
            "dtype: object\n",
            "0    object\n",
            "dtype: object\n"
          ]
        }
      ]
    },
    {
      "cell_type": "code",
      "source": [
        "df.rename(columns={0: 'Address'}, inplace=True)"
      ],
      "metadata": {
        "id": "FyKdRXFgr6yt"
      },
      "execution_count": null,
      "outputs": []
    },
    {
      "cell_type": "code",
      "source": [
        "csv_data = df.to_csv(index=False)"
      ],
      "metadata": {
        "id": "M01FCCk3qtB2"
      },
      "execution_count": null,
      "outputs": []
    },
    {
      "cell_type": "code",
      "source": [
        "csv_data"
      ],
      "metadata": {
        "colab": {
          "base_uri": "https://localhost:8080/",
          "height": 139
        },
        "id": "2DRRem_Squfa",
        "outputId": "0e55f1f0-0730-41e7-9660-f647e34190f8"
      },
      "execution_count": null,
      "outputs": [
        {
          "output_type": "execute_result",
          "data": {
            "application/vnd.google.colaboratory.intrinsic+json": {
              "type": "string"
            },
            "text/plain": [
              "'Address\\n en description YYZ1 1 1 Lbs 01 23 DT03 Leslie Walsh 626 112 George Street M5A 2M5 Toronto Ontarlo Canada TBC360938832009 DT03 CYCLE 1 YYZ9 T03 MWSrgRSF5 MW5 9RSF5 A 20 3 INO \\n en description CANADA POSTES POST 12 Expedited Parcel TM Colis acc 303 251l 303 251r 303 251g CANADA TO Tel TI BRITTANY DHAMALIE 112 GEORGE ST S628 TORONTO ON M5A 2M5 18555576844 320 2345 320 220 2 320 2345 20 3 x 13 3 x880 CU KG VE EU d object inadmissible S1 REQ \\n en description YYZ1 0 4 Lbs 01 23 DT03 Daniel Trigiani 1208 112 George Street pri M5A 2M5 Toronto Ontario Canada TBC361089405009 DT03 CYCLE 1 cit 303 251 sans MARR ee YYZ7 O TO3 YHM5 C ART M7apBWS85 1 801 M7DPBWS85 1 801 \\n en description 1 23 22 5 57 PM Production Sheet G70 TORFS1 GC Toronto WOW 1 Order ID 25399741 Wow Totes 1 1 Alexandra Name Sukhareva Address 112 George Street App S617 Toronto Ontario M5A2M5 Phone 647 991 2926 320 242 321 203 321 200 320 265 App Apt 2022 01 23 Created at 17 40 29 Special Instructions Delivery Day Sunday Delivery Date 2022 01 23 Route TBD Sequence 00 25399741 \\n en description YYZ1 1 0 Lbs 01 23 DT03 Don Ho mes 112 George Street Suite 1 06 M5A 2N5 Toronto Ontario Canada TBC360972961009 DT03 CYCLE 1 YYZ4 O T03 YHM5 C ART spNi1v Mvf9C4SS5 1 3022 Mivi9C4SS5 \\n en description Mhvs605w5 1 801 Mhvs605w5 1 801 Duvrii C ART YHM5 351 227 234 Ppen he alimite eading O T03 ute il tim d free stening ute sans ublicit 303 251 CYCLE 1 T03 TBC361069059009 ori ne S603 112 George St Andrea Goguen M5A 2M5 Toronto Ontario Canada DT03 01 23 342 200 242 YYZ1 0 3 Lbs \\n en description Postage on Account GB International Priority Royal Mail Privacy policy www royalmail com privacy AIR MAIL PAR AVION 08 011 721 2000 030 227 184 UY 7932 5657 0GB Kimberley Kubath 112 George St 1102 Toronto Ontario M5A 2M5 CANADA Customer Reference 701 4511620 6554647 Department reference 1783881944561 Retun Address 1 Apollo Rise GU14 0GT \\n en description YYZ1 1 8 Lbs 01 23 DT03 Rupelyn Osorio 112 George Street Suite S501 SPRLK1 M5A 2M5 Toronto ON Canada Not restricted as per special provision A199 TBC361154935009 DT03 CYCLE 1 YYZ4 OTO3 YHM5 C ART MWZ6 BXF5 5 5061 5 5061 \\n en description rime DT03 01 23 Cameron Capel 1903 112 George Street YYZ1 0 3 Lbs d me M5A 2M5 Toronto Ontario Canada et gratuite livraison rapide vide delivery fast free CYCLE 1 TBC360694063009 DT03 1 Open here 342 206 221 YYZ7 O T03 YHM5 CART EAR HENL MCys5 MCys5 1 804 \\n en description CANADA POST POSTES CANADA TM Expedited Parcel Colis acc 303 251l 303 251r 303 251s TO A Tel Tel 800 832 7569 CYNTHIA INNES CYNTHIA INNES 116 GEORGE STREET APT 1506 TORONTO ON M5A 3S2 M5A 3S2 TRACKING NUMBER 7036 7330 5514 9304 N 302 260 DE REP 303 211RAGE Sender warrants that this item does not contain non mailable matter L exp 303 251diteur garantit que cet envoi ne contient pas d objet inadmissible ereuses FROM DE INDIGO BOOKS MUSIC CDF BLDG 50 100 ALFRED KUEHNE BLVD BRAMPTON ON L6T 4K4 1 00 KG VE EV MANIFEST REQ MANIFESTE REQ P F 7036733 A C VIN NIF 019 SPEC 3696 V2 0 Reference No 657182164 \\n en description EY S SYS 6174 J 1D YYZ1 2 4 Lbs 01 23 DT03 Shelly Ann Rampersad S605 112 George Street M5A 2M5 Toronto Ontario Canada TBC360486977009 DT03 CYCLE 1 CLE2 THM5 YHM5 C ART Mxj3B5 1 811 Mxj3B5 \\n en description YYZ1 0 7 Lbs 01 23 DT03 Alan Roach S210 112 George Street M5A 2M5 Toronto Ontario Canada TBC361049563009 DT03 CYCLE 1 YYZ7 O T03 YHM5 C ART sp CLYCHIAR 1 3061 \\n en description MelaPadk CANADA POSTES POST CANADA 2 MC Expedited Parcel Colis acc 303 251l 303 251r 303 251s TM TO JA SLOANE CLAIRVILLE Tel T 303 251l 4166975975 101 112 GEORGE ST SPH101 TORONTO ON M5A 2M5 M5A 2M5 TRACKING NUMBER 4007 3531 7682 5351 N 302 260 DE REP 303 211RAGE Sender warrants that this item does not contain non mailable matter L exp 303 251diteur garantit que cet envoi ne contient pas d objet inadmissible FROM DE 6x6x6cm KG VE EV MANIFEST REQ MANIFESTE REQ 4567 Dixie Rd Mississauga ON MOR 2A2 A C P F 4007353 VIN NIF V 413 SPEC 3696 V2 0 PuroPost M PP M 000 \\n en description 342 206 221 Open here Open here t Ouvrir ici O T03 YYZ7 PEN TIREZ ICH C ART YHM5 Open here T Ouvrir ici vrir ici unlimited reading l 303 251cture illNhit 303 251e ad free listening 303 251coute sans publicit 303 251 DT03 TBC361032420009 CYCLE 1 prime M5A 2M5 Toronto Ontario Canada S302 112 George Street Kazuma Matsunaga rir ud 01 23 YYZ1 0 3 Lbs DT03 prime prime Remove Papor Label Belore Remove Paper Label Before Recycling 10 doid PLASTIC BAG Store Drop off PLASTIC BAG how2recycle info how2recycle info info ONE A 20 3C YCLE 1 1 806 MHVRWRVK5 6167 DRIVER IBC561052420009 \\n en description YYZ1 3  01 23 DT03 Kazuma Matsunaga S302 112 George Street M5A 2M5 Toronto Ontarlo Canada TBC360992074009 DT03 CYCLE 1 345 212 211 LY YYZ4 O T03 YHM5 C ART MS1WN1X45 214141 \\n en description YYZ1 1 0 Lbs 01 23 DT03 Don Ho mes 112 George Street Suite 1706 M5A 2N5 Toronto Ontario Canada TBC360972961009 DT03 CYCLE 1 YYZ4 TO3 YHM5 C ART Mvf9C4SS5 1 3022 spNi1v \\n en description Expedited Parcel 342 204 242 I Colis acc 303 251l 303 251r 303 251s TM MC TO 303 200 EBE BRUGES 112 GEORGE ST SUITE S717 TORONTO ON M5A 2M5 M5A 2 320 2345 TRACKING NUMBER 1026 1677 2403 1392 N DE REP 303 211RAGE Sender warrants that this item does not contain non mailable matter L exp 303 251diteur garantit que cet envoi ne contient pas d objet inadmissible FROM DE 0 750 KG VE EV Alycia Charchuk 85 Sunset Way SE Calgary AB T2X 3C1 MANIFEST NOT REQ MANIFESTE NON REQ EST O 303 211E V2109AD 1 720 SPEC 3696 V2 P F 1026167 A C PIN NIP 1026 1677 2403 1392 Ref R 303 251t 1 Order 61e352c7ca86649e2ff7a162 Ref R 303 251f 2 Buyer ebe22 Order No N 302 260 d commande P253457825 \\n en description YYZ1 0 8 Lbs 01 23 DT03 Saleha Shafiq 116 George Street Unit Nth105 M5A 3S2 Toronto Ontario Canada TBC361118301009 DT03 CYCLE 1 YYZ4 O T03 YHM5 C ART fast free delivery ad free li 305 237tening fast del livrais streaming reading lecture illimit 303 251e anconti 303 251coute sans raison ranide MBHR1DXF5 1 806 \\n en description en ligne 1 111 MhpONI SPS movies tv stre YYZ1 2  01 23 DT03 Jennifer Le 116 George Street Unit N109 M5A 3S2 Toronto Ontario Canada TBC360916581009 DT03 CYCLE 1 6ZA T03 \\n en description SHIPPING 416 640 5833 UNIVERSITY OF TORONTO BOOKSTOR 214 COLLEGE ST TORONTO ON M5T3A1 8 LBS 1 OF 1 SHP A321 OXHJ TL4 SHP WT 8 LBS DATE 20 JAN 2022 SHIP TO SAAD SHAFIQ 6479853035 116 GEORGE ST NTH 105 TORONTO ON M5A3S2 CAN 457 9 02 UPS STANDARD TRACKING 1Z A32 10X DK 4776 9558 BILLING P P SIGNATURE REQUIRED REF 1 WO 165158K we 23 9 8 Zobra ZP 450 04 0A Q1 z022 \\n en description 3 9 Lbs YYZ1 3 9 Lbs 01 23 DT03 Gregory LeBianc 112 116 George Street Suite 2108 M5A 2M5 Toronto Ontario Canada TBC361010441009 DT03 CYCLE 1 YHM5 C ART O T03 M76cnrSr5 112071 \\n en description MIGSFKWIS 1 4021 fast free delivery apide ite YYZ1 6 9 Lbs 01 23 DT03 Elis Lila S1207 112 George Street M5A 2M5 Toronto Ontario Canada tv ing s 303 251ries ne TBC359373235009 DT03 CYCLE 1 au 322 256X2 JHM5 CYHM Y HM5 YHM5 D T03 free ery tivraison rapide et gratuite \\n en description 25346460PM1 0IG13121017 OD GOODE GO OOD G13 ON1 GC Toronto 3 Order ID 25346460 OF Private Label Meal Kit 1 1 Name Kimberley Medel Address 116 George Street App 1102 Toronto Ontario M5A3S2 Phone 647 624 8332 320 242 321 203 321 200 320 265 App Apt 2022 01 20 Created at 02 00 01 Special Instructions Please leave with concierge located at 112 George Street Delivery Day Sunday Delivery Date 2022 01 23 121017 SUN Route GTA 17 FOO Sequence 42 \\n en description 25338850PM101G13121017 GO G13 ON1 GC FOOD Toronto 3 Order ID 25338850 Private Label Meal Kit 1 1 Name Saleha Shafiq Address 116 George Street Unit Nth 105 TORONTO Ontario COOD MSA3S2 Phone 416 648 4781 320 242 321 203 321 200 320 265 App Apt 2022 01 20 Created at 01 54 09 Special Instructions Please leave package with the reception desk OFOOD Delivery Day Sunday Delivery Date 2022 01 23 121017 SUN GTA 17 Route Sequence 44 SODA good \\n en description S1208 112 George Street M5A 2M5 Toronto Ontario Canada YYZ1 1 3 Lbs 01 22 DT03 Daniel Trigiani TBC359730996009 DT03 CYCLE 1 YUL2 YHM5 Y HM5 DTO3 MtrbKCtD5 1 304 MtrbKCID5 \\n en description YYZ1 4 4 Lbs 01 23 DT03 Nikhil Mistry 112 George Street Unit S711 M5A 2M5 Toronto Ontario Canada TBC361121539009 DT03 CYCLE 1 YYZ4 O T03 316 245 316 227M5 C ART MhxbRwPGq 1 3021 \\n en description MBaFyxX45 2 4151 A 20 EC2 CYCLE 1 ZONE YYZ1 1 6 Lbs 01 23 DT03 Katie Stewart S1007 112 George Street M5A 2M5 Toronto Ontario Canada spRdH TBC360968582009 DT03 CYCLE 1 YYZ4 O T03 YHM5 CART TIDEZ LCI POUR OUVRIR IR TEAR HERE TOOR EN \\n en description CO 30 DT03 7 0 8 11 g Mathias Sommer 529 112 George Street M5A 2M5 Toronto Ontario Canada TBC204673826009 DT03 CYCLE 1 YYZ4 A T03 Tvy03hR3W 1J117 \\n en description YYZ1 4 5 Lbs 01 23 DT03 Stephen Clairville 112 George Street SPH 101 M5A 2M5 Toronto Ontario Canada POP TBC360697215009 DT03 CYCLE 1 DE 00 345 260 217 345 234 222 YOW1 Y HM5 YHM5 D TO3 M4q5 1 401 \\n en description free delivery venient fast fre YYZ1 1 1 Lbs 01 23 DT03 B 303 254nh Chuong S808 112 George St pi M5A 2M5 Toronto Ontario Canada TBC360611224009 DT03 CYCLE 1 vide mo CLE2 Y HM5 YHM5 C ART fr mittions M45d15 2 3052 M45d15 \\n en description Open here Ouvrir ici Open here t Ouvrir ici MXY1WXXM5 1 302 ntinu nu MXY1WXXM5 YYZ1 0 2 Lbs DT03 01 23 Monique Leclerc 338 112 George Street M5A 2M5 Toronto Ontario Canada TBC361112576009 DT03 CYCLE 1 YYZ4 O T03 YHM5 C ART \\n en description GYUS I G 2 5062 YYZ1 1 3 Lbs 01 23 DT03 Eren Alp 112 George St Apt S214 M5A 2M5 Toronto Ontario Canada TBC360929113009 DT03 CYCLE 1 YHM5 CART T03 \\n en description CANADIAN SHIELD 3083628 CANADIAN SHIELD BRIDGE ST W ERLOO ON N2K4M9 1 KG 1 OF 1 SHP RA56 36TV RPX SHP WT 1 KG SHP DWT 1 KG P TO 4162008927 VICKY VYAS 112 GEORGE STREET SPH103 TORONTO ON M5A2M5 CAN 457 9 02 PS STANDARD CKING 1Z RA5 636 20 9521 2231 ING P P Ref No 90813 TM TL 22 01 18 NV45 4 0A 01 2022 \\n en description CAVILIAAI 1 3061 MvHC45 1 3061 fast deliv livraison YYZ1 3 7 Lbs 01 23 DT03 et grat Katie Stewart S1007 112 George Street M5A 2M5 Toronto Ontario Canada movies streami films et s 303 251 en ligne TBC360975588009 CYCLE 1 orim fast free delivery LZK C ART YHM5 O T03 ivraison apic et gratuite \\n en description fast free delivery ivraison et grat ad free listening unlimited reading fast deli streamig MkKPsdSx5 IOS gra 908 6 MkKPsdSx5 JUO I YYZ1 17 Lbs 01 23 DT03 Rabani Bakshi N504 116 George Street M5A 3S2 Toronto Ontario Canada 345 233 236 350 214 203 TBC360980889009 DT03 CYCLE 1 YHM5 CART O TO3 \\n en description 8 LBS SHIPPING 416 640 5833 UNIVERSITY OF TORONTO BOOKSTOR 214 COLLEGE ST TORONTO ON M5T3A1 1 OF 1 SHP A321 0XHJ TL4 SHP WT 8 LBS DATE 20 JAN 2022 SHIP TO SAAD SHAFIQ 6479853035 116 GEORGE ST NTH 105 TORONTO ON M5A3S2 CAN 457 9 02 UPS STANDARD TRACKING 1Z A32 10X DK 4776 9558 BILLING P P SIGNATURE REQUIRED REF 1 WO 166168K we 23 0 8 Zobra ZP 450 04 0A Q1 2022 \\n en description 1 3061 CAVIOLIAAI 1 3061 fast del livraisc et gr YYZ1 3  01 23 DT03 Katie Stewart S1007 112 George Street M5A 2M5 Toronto Ontario Canada movie strea films et TBC360975588009 CYCLE 1 prin DT03 YHM5 C ART deliver ivraison ra et gratuit O T03 \\n en description T LBS TUF1 STAPLES 1865 MEYERSIDE DRIVE 1 11 MISSISSAUGA ON L5T1G6 KASSANDRA TOFFOLO NANCI 15147746253 112 GEORGE STREET APT S1108 SHIP TO TORONTO ONTARIO M5A2M5 CAN 457 9 02 UPS STANDARD TRACKING 1Z W9E 111 20 0136 5370 BILLING P P REF1 9254302 REF2 83302699 PSGL 19 0 2105SL 02 5V 01 2022 KASSANDRA TOFFOLO NANCI 112 GEORGE ST TORONTO ON M5A2M5 P 2MBL s BXL2R 242 662S 1ZW9E111200136 MOBILO0009 DESTI Jan 20 05 CA DM HIPPS 21 6 0 ZQ520 \\n en description Around Legs Extra Soft oxtra doux DT03 Doublure Liner 01 23 Banues adh 303 251rentes 12 3 Lbs doubles LZM Strips uble Rebecca Shaw 729 112 George Street M5A2M5 Toronto Ontario Canada CYCLE 1 CYCLE_1 OVERSIZE TBC360065190009 DT03 sdus YYZ1 12 3 Lbs YHM5 D T03 TOR5 E 008 ers Mt7JVWtz5 1 M7 JVWZ5 1 \\n en description MtkDysXw5 1 3021 YYZ1 3 0 Lbs 01 23 DT03 Rabani Baksh 303 254 N504 116 George Street M5A 3S2 Toronto Ontario Canada TBC360954718009 DT03 CYCLE 1 YHM5 CART YYZ4 \\n en description DT03 01 22 YYZ1 0  Saad Shahid Shatig 116 George Street Nth 105 M5A 3S2 Toronto Ontarlo Canada TBC359910031009 CYCLE 1 DT03 YYZ9 TO3 ONI A 18 31 CYCIE 1 JR OUVRIR MMsrOH5 7 714 6650 EC1 MxMarOH15 \\n en description YYZ1 1 5 Lbs 01 23 DT03 Daniel Trigiani 1208 112 George Street M5A 2M5 Toronto Ontario Canada TBC359839173009 DT03 CYCLE 1 YVR4 J HM5 CYHM Y HM5 YHM5 D T03 Spend le 1 704 Mv G69V1R5 2LC \\n en description 4 3041 en films et s 303 251ries streaming movies tv YYZ1 6 4 Lbs 01 22 DT03 Binh Chuong S808 112 George St M5A 2M5 Toronto Ontario Canada Liv TBC360497798009 DT03 CYCLE 1 O TO3 YHM5 C ART \\n en description YYZ1 3 5 Lbs 01 22 DT03 es tv aming et s 303 251ries ligne Doug Floyd 312 116 George Street M5A 3S2 Toronto Ontario Canada ime TBC359399369009 DT03 CYCLE 1 st free delivery aison rapide OVERSIZE TOR5 E 008 YHM5 D T03 \\n en description IBC560251642009 YCIL 1 INO A 20 2D YYZ1 1 4 Lbs 01 23 DT03 Jordan Chi Tak Li S803 112 George Street M5A 2M5 Toronto Ontario Canada OH TBC360251642009 DT03 CYCLE 1 YEG1 J HM5 CYHM Y HM5 YHM5 D T03 MhY71rMSS 1 822 2 8 3 5cm 1 1 Ordinary Mo 11822 \\n en description 6073042444 endicia COMMERCIAL E PACKET STOMS DECLARATION MID 901229413 Date of Mailing 03 23 2020 U S POSTAGE PAID brice lee 179 Rickey Blvd C MBEAR DE 19701 2591 JAMAICA NY POST PERMIT NO 9203 Expr 303 250s ens NOEEI 30 37 a on of Contents 33A 4817 VSS 00127 T 21 CHRISTOPHER STENGS O 112 GEORGE ST TORONTO ONTARIO M5A2M5 CANADA Value HS Tariff Number Country of Origin USS 10 00 US CANADA POSTES POST CANADA TM MC Xpresspost 10 00 TOTAL culars given in this customs correct This form does not contain any gerous articles or articles prohibited by postal or customs regulations I have e export filing requirements under egulations ature and Date TRACKING NUMBER LX 714 486 224 US No DE REPERAGE 03 23 2020 BC0015T 2020 03 30 20 57 Harch 2015 Dc T 43 074 298 13 10 \\n en description 2 Expedited Parcel Colis acc 303 251l 303 251r 303 251s POSTES CANADA CANADA POST TO A JING XU N1410 116 GEORGE STREET TORONTO ON M5A 3S2 M5A 3S2 TRACKING NUMBER 7313 4110 5992 9608 N DE REP 303 211RAGE Sender warrants that this item does not contain non mailable matter L exp 303 251diteur garantit que cet envoi ne contient pas d objet inadmissible FROM DE 1 61 4240 Harvester Rd KG VE EV Unit 2 MANIFEST REQ MANIFESTE REQ Burlington ON L7LOE8 VININIF 330V7 SPEC 3696 V2 0 Piece 1 of 1 5 TOR CTRY CA P F 7313411 A C Ref 1 LTN183677436 Ref 2 76614202 1 Landmark \\n en description YYZ1 1 0 Lbs 01 23 DT03 Kristina J Ejem 112 Ceorge St 623 M5A2M5 Toronto ON Canada TBC361126590009 DT03 CYCLE 1 YYZ4 OT03 enh Ouvrir ici Open here here 342 206 221 Ouvrir ici Z08 Free enin te sa licite YCLE 1 UP3 A 20 2 \\n en description YYZ1 0 2 Lbs 01 23 DT03 Alan Roach 210 112 George Street M5A 2M5 Toronto Ontario Canada Not restricted as per special provision A123 TBC361129911009 DT03 CYCLE 1 YYZ4 O T03 YHM5 CART ONE A 20 YCLE 1 DRIVER AID NANT REGARDEZ M7gDfyXk5 1 3032 M7gDfyXk5 \\n en description LULULEMON Ship Date 21 JAN22 ActWgt 0 7 LBS CAD 1656 PLUS007 Bill Sender MILTON ON L9E OG1 1 877 263 9300 TO ANA POPOVIC 1110 116 GEORGE STREET TORONTO ON M6A 3S2 416 727 9023 320 241A REF C25343550577 2022011616043381419090 INV 00000999990267992505 PO FDXD 92 DEPT FedEx Ground TRK 5569 3227 3876 M5A 3S2 8632 0019 6 000 000 0000 0 00 5569 3227 3876 \\n en description en ligne 1 111 movies tv streami YYZ1 2  01 23 DT03 Jennifer Le 116 George Street Unit N109 M5A 3S2 Toronto Ontario Canada 350 255 234 TBC360916581009 DT03 CYCLE 1 T03 \\n en description LZAA Mhvs6Q5w5 1 801 Mhvs605w5 1 801 0 3 Lbs 01 23 DT03 Andrea Goguen S603 112 George St ne M5A 2M5 Toronto Ontario Canada pri TBC361069059009 CYCLE 1 ablicit 303 251 ute sans stening d ffee lim ing ite YHM5 C ART O TO3 Dpen he \\n en description en ligne prime YYZ1 4 1 Lbs 01 23 DT03 SM Livingstone N812 116 George Street M5A 3S2 Toronto Ontario Canada TBC360811431009 DT03 CYCLE 1 YYZ9 T03 fast free 1 114 \\n en description 1 808 MBXF7JK55 1 808 Tho NR D Groun Inc YYZ1 3 0 Lbs 01 23 DT03 Vasista Ponduru 422 112 George Street M5A 2M5 Toronto Ontario Canada TBC360602063009 DT03 CYCLE 1 YO01 Y HM5 YHM5 D T03 \\n en description DT03 01 22 VYZ1 0 7 Lbs Stephen Clairville 112 George Street SPH 101 M5A 2M5 Toronto Ontario Canada TBC359750379009 DT03 CYCLE 1 YYC1 JHM5 CYHM YHM5 YHM5 D T03 urir ici Open here MAstRdzH5 rir ici 342 206 221 1 801 mit din illin 303 251e liv M4stRdzH5 \\n en description YYZ1 0 2 Lbs 01 07 DT03 Carley McNell N808 116 George St M5A 3S2 TORONTO Ontarlo Canada TBC350096720009 DT03 CYCLE 1 344 270 255 345 212 211 YYZ9 T03 LUL MIZIWwjiC AILER \\n en description YYZ1 2 7 Lbs 01 23 DT03 Zita Zadorvolgyi S217 112 George Street M5A 2M5 Toronto Ontario Canada TBC360611510009 DT03 CYCLE 1 YYZ4 O T03 YHM5 CART STNA 414131 \\n en description Tast 320 265 delivery livraiso YYZ1 1 6 Lbs et gr 01 23 DT03 Saleha Shafiq 116 George Street Unit Nth105 M5A 3S2 Toronto Ontario Canada movie strea Ims e en li TBC361005121009 CYCLE 1 ori DT03 YYZ7 st o TO3 YHM5 C ART deliv ONE A 2 MsY9j4vJ5 DR AID \\n en description YYZ1 0 2 Lbs 01 23 DT03 Plerce Sahagian 116 George street Apt N703 M5A 3S2 Toronto Ontarlo Canada TBC360956249009 DT03 CYCLE YYZ9 T03 PA 1 712 SHANZZN \\n en description YYZ1 0 9 Lbs 01 23 DT03 Elaf Quadri N401 116 George Street M5A 3S2 Toronto Ontario Canada TBC360795193009 DT03 CYCLE 1 DTW1 Y HM5 YHM5 CART 1 122 1 122 \\n en description YYZ1 4 4 Lbs 01 23 DT03 Katie Stewart S1007 112 George Street M5A 2M5 Toronto Ontario Canada TBC361041909009 DT03 CYCLE 1 345 234 210 YYZ9 TO3 MsgVF5 1 111 Mwes tv streaming \\n en description YCLE 1 A INO sp YYZ1 0 7 Lbs 01 23 DT03 Alan Roach S210 112 George Street M5A 2M5 Toronto Ontario Canada TO TBC361049563009 DT03 CYCLE 1 YHM5 CART O T03 \\n en description 25345579PM101G13121017 OD GO GO OD G13 ON1 GC Toronto 3 Order ID 25345579 Private Label Meal Kit 1 1 Name Kathleen Sinnott Address 112 George Street App S707 Toronto Ontario M5A2M5 Phone 416 435 9025 320 242 321 203 321 200 320 265 App Apt 2022 01 20 Created at 01 59 21 FOOD Special Instructions Please leave package with concierge Delivery Day Sunday Delivery Date 2022 01 23 121017 SUN Route GTA 17 Sequence GO 43 GOO GOC OFOUD \\n en description 1 804 MixTKVv45 ONE A 20 20 YCLE T 1 804 6198 IBC361102262009 Mix TKVv45 ne YYZ1 1 2 Lbs 01 23 DT03 Bailey Quirion 112 George Street Unit S517 pr rim M5A 2M5 Toronto Ontario Canada TBC361102262009 DT03 CYCLE 1 ecoute sanst Tad free LZAA OT03 Duvrir ic YHM5 C ART 346 234 203 Open here \\n en description YYZ1 0 2 Lbs 01 23 DT03 Eiaf Quadri N401 116 George Street M5A 3S2 Toronto Ontario Canada TBC359373692009 DT03 CYCLE 1 343 202 213 YXX2 JHM5 CYHM Y HM5 YHM5 D T03 xqM \\n en description YYZ1 0 4 Lbs 01 23 DT03 Karen Atkin 116 George Street Suite N1409 M5A 3S2 Toronto Ontario Canada TBC361071929009 rii DT03 CYCLE 1 et g d 303 251o en co vrais streami ap de fas YYZ7 O T03 YHM5 CART Ouvrir ici Open here MHgv5nKh5 MHgv5nKh5 1 806 \\n en description YYZ1 01 23 DT03 4  Charlie Zheng 116 George Street Suite 110 M5A 3S2 Toronto Ontario Canada TBC361139475009 CYCLE 1 DT03 ONE A 20 YYZ4 O T03 YHM5 CART YCLE 1 DRIVER AID UP MH40kHPrq 3 4121 hile en MH40kHPrg \\n en description YYZ1 1 0 Lbs 01 22 DT03 Matthew Cory 116 George Street Suite N508 M5A 3S2 Toronto Ontario Canada TBC360426086009 DT03 CYCLE 1 are illimit 303 251e reading nlimited YYZ7 O TO3 YHM5 CART Ouvrir ici ere MxBpSskf5 908 \\n en description YYZ1 2 7 Lbs 01 22 DT03 Robert Kelbel 16 George Street N1010 M5A 3S2 Toronto ON Canada TBC360455299009 DT03 CYCLE 1 jarments shoe YYZ4 YHM5 CART boxes I O T03 riginal pa UTOR RETURNS 1 129 MIDS653G5 1 129 \\n en description YYZ1 0 1 Lbs 01 23 DT03 Katarina Boehringer 116 George street PH 102 S M5A 3S2 Toronto Ontario Canada TBC360508741009 DT03 CYCLE 1 YYC1 JHM5 CYHM Y HM5 YHM5 DIT03 Ouwrici Open here Ouvrir ici Ouvri MkkM123s5 1 802 video str streaming vid 303 251o d 303 251o en conti MkkM123s5 \\n en description HOPPERS DRUG MART 135 Millcreek Drive 1 Of De 1 Date 2022 01 23 Mississauga ON L5N7K6 866 220 3837 H S2 Ship to Expedi Victoria Sun 112 George St Unit s708 Toronto ON M5A2M5 416 823 3173 Tracking Number Num de suivi A4F33 D6EOBDA2 P1 293138872 lef 1 P1 293138872 lef 2 2022012103193001 M5A P1 \\n en description delivery livraison rapide et gratuite YYZ1 1 6 Lbs 01 23 DT03 Grace Liu 116 George St Suite N513 es tv ming M5A 3S2 Toronto ON Canada t s 303 251ries igne TBC359731323009 DT03 CYCLE 1 free livery CYHM YHM5 YHM5 D T03 on rapide ratuite SHM5 movies tv streaming MvMm26195 1 4021 6009 MvMm26195 1 4021 \\n en description YYZ1 1 1 Lbs 01 23 DT03 Bill Currie N101 116 George Street M5A 3S2 Toronto Ontario Canada TBC361014441009 DT03 CYCLE 1 YYZ7 O TO3 YHM5 CART MvVWcHSs5 1 812 MvVWcHSs5 11812 \\n en description 1 23 22 11 54 AM Production Sheet G70 TORFS1 GC Toronto WOW 1 Order ID 25399102 Wow Bags 1 1 Name Hassan El Ghoul Address 112 George St App S504 Toronto Ontario M5A2M5 647 334 3242 Phone App Apt 320 242 321 203 321 200 320 265 2022 01 23 11 43 22 Created at Special Instructions Please leave package with concierge Delivery Day Sunday Delivery Date 2022 01 23 Route TBD Sequence 00 Directement de 25399102 \\n en description d YYZ1 1 2 Lbs 01 23 DT03 Orvin Lao Unit 516 112 George St South Bldg M5A 2M5 Toronto Ontario Canada st TBC361082456009 DT03 CYCLE 1 et livra YYZ7 O T03 YHM5 C ART prime Im 1 3061 1 3061 \\n en description YYZ1 0 9 Lbs 01 23 DT03 Corey Boomsluiter 116 George Street N313 M5A 3S2 Toronto Ontario Canada TBC360421996009 DT03 CYCLE 1 YUL2 Y HM5 YHM5 D T03 M4wcBHKZ5 1 301 M4wcBHkZ5 IBC360421996009 A 20 3D ONI NVER YCII 1 \\n en description IPurolator Purolator Same EDD 01 23 22 FROM DE TO A Amazon com ca Inc o o ACFSI 6363 MIlloreek Drive Mississauga ON L6N 1L8 esther chol 432 112 George Street Toronto Ontario M5A 2M5 DATE 23 JAN 2022 PIECES 1 of de 1 WEIGHT POIDS 43 LB 56 GRD SAME OSNR PUROLATOR PIN MWG004228521 Purolator s published terms and conditions of service apply see wwWw purolator com Les Modalles at conditions de service publiees de Purolator s appliquent volr www purolator com YYZ3 P TOR \\n en description JIPurolator Purolator Express Envelope TO A ALISON ROY ALISON ROY FROM DE HONDA DOWNTOWN 47 EASTERN AVE TORONTO ON M5A 1H1 112 GEORGE ST 416 368 8181 x 28221 SUITE 1503 TORONTO ON M5A 2M5 DATE WEIGHT POIDS 56 19 JAN 2022 1 LB PIECES 1 of de 1 EXP OSNR PUROLATOR PIN 333344101113 ESO PDF Purolator s published terms and conditions of service apply see www purolator com Les Modalit 303 251s et conditions de service publi 303 251es de Purolator s appliquent voir www purolato com TolaLor \\n en description YYZ1 0 3 Lbs 01 23 DT03 David Metcalfe 116 George Street Unit 316 M5A 3S2 Toronto Ontario Canada TBC360391823009 DT03 CYCLE 1 YYC1 JHM5 CYHM Y HM5 YHM5 D T03 1 804 here jun re 6 lectur su 1 804 \\n fr description 2 CANADA POSTES POST CANADA MC Expedited Parcel Colis acc 303 251l 303 251r 303 251s TO A ERICA MCLACHLAN 112 GEORGE ST 437 TORONTO ON M5A 2M5 SIGNATURE M5A 2M5 TRACKING NUMBER 8854 4836 0455 4343 N 302 260 DE REP 303 211RAGE Sender warrants that this item does not contain non mailable matter L exp 303 251diteur garantit que cet envoi ne contient pas d objet inadmissible FROM DE 1 000 KG VE EV oxio 5255 rue Rideau Qu 303 251bec QC GZE 5H5 MANIFEST NOT REQ MANIFESTE NON REQ EST D 303 211E V2109AD 1 720 SPEC 3696 V2 P F 8854483 A C PIN NIP 8854 4836 0455 4343 Order No N 302 260 d commande P253691528 \\n en description te 327 225 EL grctu YYZ1 5 0 Lbs 01 22 DT03 Charlie Zheng novies tv 116 George Street Suite 110 M5A 3S2 Toronto Ontario Canada streaming ms et s 303 251ries en ligne WIme TBC360386139009 DT03 CYCLE 1 st free elivery son rapide gratuite YHM5 CART O T03 vies tv eaming s et s 303 251ries 2 3031 MHFP6djw5 \\n en description N708 Jo IPurolator Purolator Express FROM DE College of Nurses of Ontario 101 DAVENPORT RD O S TORONTO ON M5R 3P1 416 963 7582 TO A Julie Garcia 116 GEORGE ST SUITE 708N Attn Omar Sulaiman TORONTO ON M5A 3S2 416 804 5351 DATE 17 NOV 2021 WEIGHT POIDS 56 3 LB PIECES 1 of de 1 EXP PUROLATOR PIN 333219232027 ESO PDF Purolator s published terms and conditions of service apply see www purolator com Les Modalit 303 251s et conditions de service publi 303 251es de Purolator s appliquent voir www purolator com \\n'"
            ]
          },
          "metadata": {},
          "execution_count": 70
        }
      ]
    },
    {
      "cell_type": "code",
      "source": [
        "df_train.rename(columns={0: 'Address'}, inplace=True)\n",
        "df_test.rename(columns={0: 'Address'}, inplace=True)"
      ],
      "metadata": {
        "id": "iPUZt7v8trut"
      },
      "execution_count": null,
      "outputs": []
    },
    {
      "cell_type": "code",
      "source": [
        "df_train.head()"
      ],
      "metadata": {
        "colab": {
          "base_uri": "https://localhost:8080/",
          "height": 354
        },
        "id": "xbEA_Z-cm3I4",
        "outputId": "6c9e1a69-3d9f-41ed-a63d-1607c3b139a0"
      },
      "execution_count": null,
      "outputs": [
        {
          "output_type": "execute_result",
          "data": {
            "text/html": [
              "\n",
              "  <div id=\"df-c59ec6e8-665d-4c33-aaf2-79c18e4cec2f\">\n",
              "    <div class=\"colab-df-container\">\n",
              "      <div>\n",
              "<style scoped>\n",
              "    .dataframe tbody tr th:only-of-type {\n",
              "        vertical-align: middle;\n",
              "    }\n",
              "\n",
              "    .dataframe tbody tr th {\n",
              "        vertical-align: top;\n",
              "    }\n",
              "\n",
              "    .dataframe thead th {\n",
              "        text-align: right;\n",
              "    }\n",
              "</style>\n",
              "<table border=\"1\" class=\"dataframe\">\n",
              "  <thead>\n",
              "    <tr style=\"text-align: right;\">\n",
              "      <th></th>\n",
              "      <th>Address</th>\n",
              "    </tr>\n",
              "  </thead>\n",
              "  <tbody>\n",
              "    <tr>\n",
              "      <th>0</th>\n",
              "      <td>en description YYZ1 1 1 Lbs 01 23 DT03 Leslie Walsh 626 112 George Street M5A 2M5 Toronto Ontarlo Canada TBC360938832009 DT03 CYCLE 1 YYZ9 T03 MWSrgRSF5 MW5 9RSF5 A 20 3 INO</td>\n",
              "    </tr>\n",
              "    <tr>\n",
              "      <th>1</th>\n",
              "      <td>en description CANADA POSTES POST 12 Expedited Parcel TM Colis acc 303 251l 303 251r 303 251g CANADA TO Tel TI BRITTANY DHAMALIE 112 GEORGE ST S628 TORONTO ON M5A 2M5 18555576844 320 2345 320 220 2 320 2345 20 3 x 13 3 x880 CU KG VE EU d object inadmissible S1 REQ</td>\n",
              "    </tr>\n",
              "    <tr>\n",
              "      <th>2</th>\n",
              "      <td>en description YYZ1 0 4 Lbs 01 23 DT03 Daniel Trigiani 1208 112 George Street pri M5A 2M5 Toronto Ontario Canada TBC361089405009 DT03 CYCLE 1 cit 303 251 sans MARR ee YYZ7 O TO3 YHM5 C ART M7apBWS85 1 801 M7DPBWS85 1 801</td>\n",
              "    </tr>\n",
              "    <tr>\n",
              "      <th>3</th>\n",
              "      <td>en description 1 23 22 5 57 PM Production Sheet G70 TORFS1 GC Toronto WOW 1 Order ID 25399741 Wow Totes 1 1 Alexandra Name Sukhareva Address 112 George Street App S617 Toronto Ontario M5A2M5 Phone 647 991 2926 320 242 321 203 321 200 320 265 App Apt 2022 01 23 Created at 17 40 29 Special Instructions Delivery Day Sunday Delivery Date 2022 01 23 Route TBD Sequence 00 25399741</td>\n",
              "    </tr>\n",
              "    <tr>\n",
              "      <th>4</th>\n",
              "      <td>en description YYZ1 1 0 Lbs 01 23 DT03 Don Ho mes 112 George Street Suite 1 06 M5A 2N5 Toronto Ontario Canada TBC360972961009 DT03 CYCLE 1 YYZ4 O T03 YHM5 C ART spNi1v Mvf9C4SS5 1 3022 Mivi9C4SS5</td>\n",
              "    </tr>\n",
              "  </tbody>\n",
              "</table>\n",
              "</div>\n",
              "      <button class=\"colab-df-convert\" onclick=\"convertToInteractive('df-c59ec6e8-665d-4c33-aaf2-79c18e4cec2f')\"\n",
              "              title=\"Convert this dataframe to an interactive table.\"\n",
              "              style=\"display:none;\">\n",
              "        \n",
              "  <svg xmlns=\"http://www.w3.org/2000/svg\" height=\"24px\"viewBox=\"0 0 24 24\"\n",
              "       width=\"24px\">\n",
              "    <path d=\"M0 0h24v24H0V0z\" fill=\"none\"/>\n",
              "    <path d=\"M18.56 5.44l.94 2.06.94-2.06 2.06-.94-2.06-.94-.94-2.06-.94 2.06-2.06.94zm-11 1L8.5 8.5l.94-2.06 2.06-.94-2.06-.94L8.5 2.5l-.94 2.06-2.06.94zm10 10l.94 2.06.94-2.06 2.06-.94-2.06-.94-.94-2.06-.94 2.06-2.06.94z\"/><path d=\"M17.41 7.96l-1.37-1.37c-.4-.4-.92-.59-1.43-.59-.52 0-1.04.2-1.43.59L10.3 9.45l-7.72 7.72c-.78.78-.78 2.05 0 2.83L4 21.41c.39.39.9.59 1.41.59.51 0 1.02-.2 1.41-.59l7.78-7.78 2.81-2.81c.8-.78.8-2.07 0-2.86zM5.41 20L4 18.59l7.72-7.72 1.47 1.35L5.41 20z\"/>\n",
              "  </svg>\n",
              "      </button>\n",
              "      \n",
              "  <style>\n",
              "    .colab-df-container {\n",
              "      display:flex;\n",
              "      flex-wrap:wrap;\n",
              "      gap: 12px;\n",
              "    }\n",
              "\n",
              "    .colab-df-convert {\n",
              "      background-color: #E8F0FE;\n",
              "      border: none;\n",
              "      border-radius: 50%;\n",
              "      cursor: pointer;\n",
              "      display: none;\n",
              "      fill: #1967D2;\n",
              "      height: 32px;\n",
              "      padding: 0 0 0 0;\n",
              "      width: 32px;\n",
              "    }\n",
              "\n",
              "    .colab-df-convert:hover {\n",
              "      background-color: #E2EBFA;\n",
              "      box-shadow: 0px 1px 2px rgba(60, 64, 67, 0.3), 0px 1px 3px 1px rgba(60, 64, 67, 0.15);\n",
              "      fill: #174EA6;\n",
              "    }\n",
              "\n",
              "    [theme=dark] .colab-df-convert {\n",
              "      background-color: #3B4455;\n",
              "      fill: #D2E3FC;\n",
              "    }\n",
              "\n",
              "    [theme=dark] .colab-df-convert:hover {\n",
              "      background-color: #434B5C;\n",
              "      box-shadow: 0px 1px 3px 1px rgba(0, 0, 0, 0.15);\n",
              "      filter: drop-shadow(0px 1px 2px rgba(0, 0, 0, 0.3));\n",
              "      fill: #FFFFFF;\n",
              "    }\n",
              "  </style>\n",
              "\n",
              "      <script>\n",
              "        const buttonEl =\n",
              "          document.querySelector('#df-c59ec6e8-665d-4c33-aaf2-79c18e4cec2f button.colab-df-convert');\n",
              "        buttonEl.style.display =\n",
              "          google.colab.kernel.accessAllowed ? 'block' : 'none';\n",
              "\n",
              "        async function convertToInteractive(key) {\n",
              "          const element = document.querySelector('#df-c59ec6e8-665d-4c33-aaf2-79c18e4cec2f');\n",
              "          const dataTable =\n",
              "            await google.colab.kernel.invokeFunction('convertToInteractive',\n",
              "                                                     [key], {});\n",
              "          if (!dataTable) return;\n",
              "\n",
              "          const docLinkHtml = 'Like what you see? Visit the ' +\n",
              "            '<a target=\"_blank\" href=https://colab.research.google.com/notebooks/data_table.ipynb>data table notebook</a>'\n",
              "            + ' to learn more about interactive tables.';\n",
              "          element.innerHTML = '';\n",
              "          dataTable['output_type'] = 'display_data';\n",
              "          await google.colab.output.renderOutput(dataTable, element);\n",
              "          const docLink = document.createElement('div');\n",
              "          docLink.innerHTML = docLinkHtml;\n",
              "          element.appendChild(docLink);\n",
              "        }\n",
              "      </script>\n",
              "    </div>\n",
              "  </div>\n",
              "  "
            ],
            "text/plain": [
              "                                                                                                                                                                                                                                                                                                                                                                                       Address\n",
              "0                                                                                                                                                                                                               en description YYZ1 1 1 Lbs 01 23 DT03 Leslie Walsh 626 112 George Street M5A 2M5 Toronto Ontarlo Canada TBC360938832009 DT03 CYCLE 1 YYZ9 T03 MWSrgRSF5 MW5 9RSF5 A 20 3 INO \n",
              "1                                                                                                                    en description CANADA POSTES POST 12 Expedited Parcel TM Colis acc 303 251l 303 251r 303 251g CANADA TO Tel TI BRITTANY DHAMALIE 112 GEORGE ST S628 TORONTO ON M5A 2M5 18555576844 320 2345 320 220 2 320 2345 20 3 x 13 3 x880 CU KG VE EU d object inadmissible S1 REQ \n",
              "2                                                                                                                                                                en description YYZ1 0 4 Lbs 01 23 DT03 Daniel Trigiani 1208 112 George Street pri M5A 2M5 Toronto Ontario Canada TBC361089405009 DT03 CYCLE 1 cit 303 251 sans MARR ee YYZ7 O TO3 YHM5 C ART M7apBWS85 1 801 M7DPBWS85 1 801 \n",
              "3   en description 1 23 22 5 57 PM Production Sheet G70 TORFS1 GC Toronto WOW 1 Order ID 25399741 Wow Totes 1 1 Alexandra Name Sukhareva Address 112 George Street App S617 Toronto Ontario M5A2M5 Phone 647 991 2926 320 242 321 203 321 200 320 265 App Apt 2022 01 23 Created at 17 40 29 Special Instructions Delivery Day Sunday Delivery Date 2022 01 23 Route TBD Sequence 00 25399741 \n",
              "4                                                                                                                                                                                         en description YYZ1 1 0 Lbs 01 23 DT03 Don Ho mes 112 George Street Suite 1 06 M5A 2N5 Toronto Ontario Canada TBC360972961009 DT03 CYCLE 1 YYZ4 O T03 YHM5 C ART spNi1v Mvf9C4SS5 1 3022 Mivi9C4SS5 "
            ]
          },
          "metadata": {},
          "execution_count": 38
        }
      ]
    },
    {
      "cell_type": "code",
      "source": [
        "!python -m spacy download en_core_web_sm"
      ],
      "metadata": {
        "colab": {
          "base_uri": "https://localhost:8080/"
        },
        "id": "xJh26v304FEJ",
        "outputId": "12aeff7d-8a94-4468-fac6-0253a8f38ddd"
      },
      "execution_count": null,
      "outputs": [
        {
          "output_type": "stream",
          "name": "stdout",
          "text": [
            "Collecting en_core_web_sm==2.2.5\n",
            "  Downloading https://github.com/explosion/spacy-models/releases/download/en_core_web_sm-2.2.5/en_core_web_sm-2.2.5.tar.gz (12.0 MB)\n",
            "\u001b[K     |████████████████████████████████| 12.0 MB 8.4 MB/s \n",
            "\u001b[?25hRequirement already satisfied: spacy>=2.2.2 in /usr/local/lib/python3.7/dist-packages (from en_core_web_sm==2.2.5) (2.2.4)\n",
            "Requirement already satisfied: preshed<3.1.0,>=3.0.2 in /usr/local/lib/python3.7/dist-packages (from spacy>=2.2.2->en_core_web_sm==2.2.5) (3.0.6)\n",
            "Requirement already satisfied: setuptools in /usr/local/lib/python3.7/dist-packages (from spacy>=2.2.2->en_core_web_sm==2.2.5) (57.4.0)\n",
            "Requirement already satisfied: catalogue<1.1.0,>=0.0.7 in /usr/local/lib/python3.7/dist-packages (from spacy>=2.2.2->en_core_web_sm==2.2.5) (1.0.0)\n",
            "Requirement already satisfied: srsly<1.1.0,>=1.0.2 in /usr/local/lib/python3.7/dist-packages (from spacy>=2.2.2->en_core_web_sm==2.2.5) (1.0.5)\n",
            "Requirement already satisfied: requests<3.0.0,>=2.13.0 in /usr/local/lib/python3.7/dist-packages (from spacy>=2.2.2->en_core_web_sm==2.2.5) (2.27.1)\n",
            "Requirement already satisfied: thinc==7.4.0 in /usr/local/lib/python3.7/dist-packages (from spacy>=2.2.2->en_core_web_sm==2.2.5) (7.4.0)\n",
            "Requirement already satisfied: blis<0.5.0,>=0.4.0 in /usr/local/lib/python3.7/dist-packages (from spacy>=2.2.2->en_core_web_sm==2.2.5) (0.4.1)\n",
            "Requirement already satisfied: murmurhash<1.1.0,>=0.28.0 in /usr/local/lib/python3.7/dist-packages (from spacy>=2.2.2->en_core_web_sm==2.2.5) (1.0.6)\n",
            "Requirement already satisfied: wasabi<1.1.0,>=0.4.0 in /usr/local/lib/python3.7/dist-packages (from spacy>=2.2.2->en_core_web_sm==2.2.5) (0.9.0)\n",
            "Requirement already satisfied: numpy>=1.15.0 in /usr/local/lib/python3.7/dist-packages (from spacy>=2.2.2->en_core_web_sm==2.2.5) (1.19.5)\n",
            "Requirement already satisfied: tqdm<5.0.0,>=4.38.0 in /usr/local/lib/python3.7/dist-packages (from spacy>=2.2.2->en_core_web_sm==2.2.5) (4.62.3)\n",
            "Requirement already satisfied: plac<1.2.0,>=0.9.6 in /usr/local/lib/python3.7/dist-packages (from spacy>=2.2.2->en_core_web_sm==2.2.5) (1.1.3)\n",
            "Requirement already satisfied: cymem<2.1.0,>=2.0.2 in /usr/local/lib/python3.7/dist-packages (from spacy>=2.2.2->en_core_web_sm==2.2.5) (2.0.6)\n",
            "Requirement already satisfied: importlib-metadata>=0.20 in /usr/local/lib/python3.7/dist-packages (from catalogue<1.1.0,>=0.0.7->spacy>=2.2.2->en_core_web_sm==2.2.5) (3.10.1)\n",
            "Requirement already satisfied: typing-extensions>=3.6.4 in /usr/local/lib/python3.7/dist-packages (from importlib-metadata>=0.20->catalogue<1.1.0,>=0.0.7->spacy>=2.2.2->en_core_web_sm==2.2.5) (3.10.0.2)\n",
            "Requirement already satisfied: zipp>=0.5 in /usr/local/lib/python3.7/dist-packages (from importlib-metadata>=0.20->catalogue<1.1.0,>=0.0.7->spacy>=2.2.2->en_core_web_sm==2.2.5) (3.7.0)\n",
            "Requirement already satisfied: urllib3<1.27,>=1.21.1 in /usr/local/lib/python3.7/dist-packages (from requests<3.0.0,>=2.13.0->spacy>=2.2.2->en_core_web_sm==2.2.5) (1.24.3)\n",
            "Requirement already satisfied: idna<4,>=2.5 in /usr/local/lib/python3.7/dist-packages (from requests<3.0.0,>=2.13.0->spacy>=2.2.2->en_core_web_sm==2.2.5) (2.10)\n",
            "Requirement already satisfied: certifi>=2017.4.17 in /usr/local/lib/python3.7/dist-packages (from requests<3.0.0,>=2.13.0->spacy>=2.2.2->en_core_web_sm==2.2.5) (2021.10.8)\n",
            "Requirement already satisfied: charset-normalizer~=2.0.0 in /usr/local/lib/python3.7/dist-packages (from requests<3.0.0,>=2.13.0->spacy>=2.2.2->en_core_web_sm==2.2.5) (2.0.11)\n",
            "\u001b[38;5;2m✔ Download and installation successful\u001b[0m\n",
            "You can now load the model via spacy.load('en_core_web_sm')\n"
          ]
        }
      ]
    },
    {
      "cell_type": "code",
      "source": [
        "import spacy\n",
        "from spacy import displacy \n",
        "nlp = spacy.load('en_core_web_sm')\n",
        "# Text with nlp\n",
        "doc = nlp(list2[3])\n",
        "# Display Entities\n",
        "displacy.render(doc, style=\"ent\")"
      ],
      "metadata": {
        "colab": {
          "base_uri": "https://localhost:8080/",
          "height": 139
        },
        "id": "mTXZGSZw3__y",
        "outputId": "8eb40a7c-ecc0-46ca-b572-b06e1fbe2e03"
      },
      "execution_count": null,
      "outputs": [
        {
          "output_type": "execute_result",
          "data": {
            "application/vnd.google.colaboratory.intrinsic+json": {
              "type": "string"
            },
            "text/plain": [
              "'<div class=\"entities\" style=\"line-height: 2.5; direction: ltr\"> en description \\n<mark class=\"entity\" style=\"background: #e4e7d2; padding: 0.45em 0.6em; margin: 0 0.25em; line-height: 1; border-radius: 0.35em;\">\\n    1\\n    <span style=\"font-size: 0.8em; font-weight: bold; line-height: 1; border-radius: 0.35em; text-transform: uppercase; vertical-align: middle; margin-left: 0.5rem\">CARDINAL</span>\\n</mark>\\n 23 22 \\n<mark class=\"entity\" style=\"background: #bfe1d9; padding: 0.45em 0.6em; margin: 0 0.25em; line-height: 1; border-radius: 0.35em;\">\\n    5 57 PM\\n    <span style=\"font-size: 0.8em; font-weight: bold; line-height: 1; border-radius: 0.35em; text-transform: uppercase; vertical-align: middle; margin-left: 0.5rem\">TIME</span>\\n</mark>\\n \\n<mark class=\"entity\" style=\"background: #ffeb80; padding: 0.45em 0.6em; margin: 0 0.25em; line-height: 1; border-radius: 0.35em;\">\\n    Production Sheet G70\\n    <span style=\"font-size: 0.8em; font-weight: bold; line-height: 1; border-radius: 0.35em; text-transform: uppercase; vertical-align: middle; margin-left: 0.5rem\">EVENT</span>\\n</mark>\\n TORFS1 \\n<mark class=\"entity\" style=\"background: #7aecec; padding: 0.45em 0.6em; margin: 0 0.25em; line-height: 1; border-radius: 0.35em;\">\\n    GC Toronto\\n    <span style=\"font-size: 0.8em; font-weight: bold; line-height: 1; border-radius: 0.35em; text-transform: uppercase; vertical-align: middle; margin-left: 0.5rem\">ORG</span>\\n</mark>\\n WOW \\n<mark class=\"entity\" style=\"background: #e4e7d2; padding: 0.45em 0.6em; margin: 0 0.25em; line-height: 1; border-radius: 0.35em;\">\\n    1\\n    <span style=\"font-size: 0.8em; font-weight: bold; line-height: 1; border-radius: 0.35em; text-transform: uppercase; vertical-align: middle; margin-left: 0.5rem\">CARDINAL</span>\\n</mark>\\n Order ID \\n<mark class=\"entity\" style=\"background: #bfe1d9; padding: 0.45em 0.6em; margin: 0 0.25em; line-height: 1; border-radius: 0.35em;\">\\n    25399741\\n    <span style=\"font-size: 0.8em; font-weight: bold; line-height: 1; border-radius: 0.35em; text-transform: uppercase; vertical-align: middle; margin-left: 0.5rem\">DATE</span>\\n</mark>\\n Wow Totes \\n<mark class=\"entity\" style=\"background: #e4e7d2; padding: 0.45em 0.6em; margin: 0 0.25em; line-height: 1; border-radius: 0.35em;\">\\n    1\\n    <span style=\"font-size: 0.8em; font-weight: bold; line-height: 1; border-radius: 0.35em; text-transform: uppercase; vertical-align: middle; margin-left: 0.5rem\">CARDINAL</span>\\n</mark>\\n 1 Alexandra Name Sukhareva Address \\n<mark class=\"entity\" style=\"background: #e4e7d2; padding: 0.45em 0.6em; margin: 0 0.25em; line-height: 1; border-radius: 0.35em;\">\\n    112\\n    <span style=\"font-size: 0.8em; font-weight: bold; line-height: 1; border-radius: 0.35em; text-transform: uppercase; vertical-align: middle; margin-left: 0.5rem\">CARDINAL</span>\\n</mark>\\n George Street App S617 Toronto \\n<mark class=\"entity\" style=\"background: #feca74; padding: 0.45em 0.6em; margin: 0 0.25em; line-height: 1; border-radius: 0.35em;\">\\n    Ontario M5A2M5\\n    <span style=\"font-size: 0.8em; font-weight: bold; line-height: 1; border-radius: 0.35em; text-transform: uppercase; vertical-align: middle; margin-left: 0.5rem\">GPE</span>\\n</mark>\\n Phone \\n<mark class=\"entity\" style=\"background: #e4e7d2; padding: 0.45em 0.6em; margin: 0 0.25em; line-height: 1; border-radius: 0.35em;\">\\n    647\\n    <span style=\"font-size: 0.8em; font-weight: bold; line-height: 1; border-radius: 0.35em; text-transform: uppercase; vertical-align: middle; margin-left: 0.5rem\">CARDINAL</span>\\n</mark>\\n \\n<mark class=\"entity\" style=\"background: #e4e7d2; padding: 0.45em 0.6em; margin: 0 0.25em; line-height: 1; border-radius: 0.35em;\">\\n    991\\n    <span style=\"font-size: 0.8em; font-weight: bold; line-height: 1; border-radius: 0.35em; text-transform: uppercase; vertical-align: middle; margin-left: 0.5rem\">CARDINAL</span>\\n</mark>\\n 2926 \\n<mark class=\"entity\" style=\"background: #e4e7d2; padding: 0.45em 0.6em; margin: 0 0.25em; line-height: 1; border-radius: 0.35em;\">\\n    320\\n    <span style=\"font-size: 0.8em; font-weight: bold; line-height: 1; border-radius: 0.35em; text-transform: uppercase; vertical-align: middle; margin-left: 0.5rem\">CARDINAL</span>\\n</mark>\\n \\n<mark class=\"entity\" style=\"background: #bfeeb7; padding: 0.45em 0.6em; margin: 0 0.25em; line-height: 1; border-radius: 0.35em;\">\\n    242\\n    <span style=\"font-size: 0.8em; font-weight: bold; line-height: 1; border-radius: 0.35em; text-transform: uppercase; vertical-align: middle; margin-left: 0.5rem\">PRODUCT</span>\\n</mark>\\n \\n<mark class=\"entity\" style=\"background: #e4e7d2; padding: 0.45em 0.6em; margin: 0 0.25em; line-height: 1; border-radius: 0.35em;\">\\n    321\\n    <span style=\"font-size: 0.8em; font-weight: bold; line-height: 1; border-radius: 0.35em; text-transform: uppercase; vertical-align: middle; margin-left: 0.5rem\">CARDINAL</span>\\n</mark>\\n \\n<mark class=\"entity\" style=\"background: #e4e7d2; padding: 0.45em 0.6em; margin: 0 0.25em; line-height: 1; border-radius: 0.35em;\">\\n    203\\n    <span style=\"font-size: 0.8em; font-weight: bold; line-height: 1; border-radius: 0.35em; text-transform: uppercase; vertical-align: middle; margin-left: 0.5rem\">CARDINAL</span>\\n</mark>\\n \\n<mark class=\"entity\" style=\"background: #e4e7d2; padding: 0.45em 0.6em; margin: 0 0.25em; line-height: 1; border-radius: 0.35em;\">\\n    321\\n    <span style=\"font-size: 0.8em; font-weight: bold; line-height: 1; border-radius: 0.35em; text-transform: uppercase; vertical-align: middle; margin-left: 0.5rem\">CARDINAL</span>\\n</mark>\\n \\n<mark class=\"entity\" style=\"background: #e4e7d2; padding: 0.45em 0.6em; margin: 0 0.25em; line-height: 1; border-radius: 0.35em;\">\\n    200\\n    <span style=\"font-size: 0.8em; font-weight: bold; line-height: 1; border-radius: 0.35em; text-transform: uppercase; vertical-align: middle; margin-left: 0.5rem\">CARDINAL</span>\\n</mark>\\n \\n<mark class=\"entity\" style=\"background: #e4e7d2; padding: 0.45em 0.6em; margin: 0 0.25em; line-height: 1; border-radius: 0.35em;\">\\n    320\\n    <span style=\"font-size: 0.8em; font-weight: bold; line-height: 1; border-radius: 0.35em; text-transform: uppercase; vertical-align: middle; margin-left: 0.5rem\">CARDINAL</span>\\n</mark>\\n \\n<mark class=\"entity\" style=\"background: #e4e7d2; padding: 0.45em 0.6em; margin: 0 0.25em; line-height: 1; border-radius: 0.35em;\">\\n    265\\n    <span style=\"font-size: 0.8em; font-weight: bold; line-height: 1; border-radius: 0.35em; text-transform: uppercase; vertical-align: middle; margin-left: 0.5rem\">CARDINAL</span>\\n</mark>\\n App Apt 2022 \\n<mark class=\"entity\" style=\"background: #bfe1d9; padding: 0.45em 0.6em; margin: 0 0.25em; line-height: 1; border-radius: 0.35em;\">\\n    01 23\\n    <span style=\"font-size: 0.8em; font-weight: bold; line-height: 1; border-radius: 0.35em; text-transform: uppercase; vertical-align: middle; margin-left: 0.5rem\">DATE</span>\\n</mark>\\n Created at \\n<mark class=\"entity\" style=\"background: #e4e7d2; padding: 0.45em 0.6em; margin: 0 0.25em; line-height: 1; border-radius: 0.35em;\">\\n    17 40 29\\n    <span style=\"font-size: 0.8em; font-weight: bold; line-height: 1; border-radius: 0.35em; text-transform: uppercase; vertical-align: middle; margin-left: 0.5rem\">CARDINAL</span>\\n</mark>\\n Special Instructions Delivery Day \\n<mark class=\"entity\" style=\"background: #bfe1d9; padding: 0.45em 0.6em; margin: 0 0.25em; line-height: 1; border-radius: 0.35em;\">\\n    Sunday\\n    <span style=\"font-size: 0.8em; font-weight: bold; line-height: 1; border-radius: 0.35em; text-transform: uppercase; vertical-align: middle; margin-left: 0.5rem\">DATE</span>\\n</mark>\\n Delivery Date 2022 01 23 \\n<mark class=\"entity\" style=\"background: #ddd; padding: 0.45em 0.6em; margin: 0 0.25em; line-height: 1; border-radius: 0.35em;\">\\n    Route TBD\\n    <span style=\"font-size: 0.8em; font-weight: bold; line-height: 1; border-radius: 0.35em; text-transform: uppercase; vertical-align: middle; margin-left: 0.5rem\">FAC</span>\\n</mark>\\n Sequence \\n<mark class=\"entity\" style=\"background: #bfe1d9; padding: 0.45em 0.6em; margin: 0 0.25em; line-height: 1; border-radius: 0.35em;\">\\n    00 25399741\\n    <span style=\"font-size: 0.8em; font-weight: bold; line-height: 1; border-radius: 0.35em; text-transform: uppercase; vertical-align: middle; margin-left: 0.5rem\">DATE</span>\\n</mark>\\n </div>'"
            ]
          },
          "metadata": {},
          "execution_count": 40
        }
      ]
    },
    {
      "cell_type": "code",
      "source": [
        "import spacy\n",
        "from spacy.tokens import DocBin\n",
        "import pandas as pd\n",
        "import re\n",
        "pd.set_option('display.max_colwidth', None)\n",
        "\n",
        "def massage_data(address):\n",
        "    '''Pre process address string to remove new line characters, add comma punctuations etc.'''\n",
        "    cleansed_address1=re.sub(r'(,)(?!\\s)',', ',address)\n",
        "    cleansed_address2=re.sub(r'(\\\\n)',', ',cleansed_address1)\n",
        "    cleansed_address3=re.sub(r'(?!\\s)(-)(?!\\s)',' - ',cleansed_address2)\n",
        "    cleansed_address=re.sub(r'\\.','',cleansed_address3)\n",
        "    return cleansed_address\n",
        "\n",
        "def get_address_span(address=None,address_component=None,label=None):\n",
        "    '''Search for specified address component and get the span.\n",
        "    Eg: get_address_span(address=\"221 B, Baker Street, London\",address_component=\"221\",label=\"BUILDING_NO\") would return (0,2,\"BUILDING_NO\")'''\n",
        "\n",
        "    if pd.isna(address_component) or str(address_component)=='nan':\n",
        "        pass\n",
        "    else:\n",
        "        address_component1=re.sub('\\.','',address_component)\n",
        "        address_component2=re.sub(r'(?!\\s)(-)(?!\\s)',' - ',address_component1)\n",
        "        span=re.search('\\\\b(?:'+address_component2+')\\\\b',address)\n",
        "        #print(span)\n",
        "        return (span.start(),span.end(),label)\n",
        "\n",
        "def extend_list(entity_list,entity):\n",
        "    if pd.isna(entity):\n",
        "        return entity_list\n",
        "    else:\n",
        "        entity_list.append(entity)\n",
        "        return entity_list"
      ],
      "metadata": {
        "id": "lZXcyunjxQlD"
      },
      "execution_count": null,
      "outputs": []
    },
    {
      "cell_type": "code",
      "source": [
        "from transformers import AutoModelForTokenClassification,AutoTokenizer\n",
        "import torch\n",
        "\n",
        "\n",
        "model = AutoModelForTokenClassification.from_pretrained(\"dbmdz/bert-large-cased-finetuned-conll03-english\")\n",
        "tokenizer = AutoTokenizer.from_pretrained(\"bert-base-cased\")"
      ],
      "metadata": {
        "id": "z_LO5icq2WBU",
        "colab": {
          "base_uri": "https://localhost:8080/",
          "height": 209,
          "referenced_widgets": [
            "b6e81cb54d1f40e4b359dd094e92cfae",
            "e917a2b9e8fd4c44b6df14c24be2a96c",
            "4ef7851f1355406492cf4b82f674de33",
            "ab8bbc62d7f94d54928827fb18b0b74f",
            "26c5d48dd7564977aca12904d79fe0b6",
            "feb9caf83fa3433aac6e6b0aafd4c263",
            "71320e06518943b0b31542513d7ea75b",
            "51fcb3f3b5ad4c24ac7a5fdd75abee60",
            "1ffdc58f8d9e445a813f772d82d14c72",
            "95f4f3fa3c58492db4c18eed72a897db",
            "f2ddee7625464ac0ae7ae469af56eae3",
            "95c98db061d949039b8b128bdabf727d",
            "f644458dc3be443c9775521135373441",
            "38efd566fb5149bf9127c731e1ebac9d",
            "111a35e2b2a54af7a7f10447c3cf9780",
            "d88d13768c7346f2bd8c023e1edee441",
            "dcaaa0b59bdf4abe9a4d7f59969fc6b4",
            "d634676742b44231ab1964b1b7415cdd",
            "9bb80ba6b3994d93bc47e2357bc6b856",
            "37b5674b41584c68a4d8f9c71850f982",
            "22224048ac0f486bb8efef21f48b2236",
            "c4c90b502e70410b8708be28470dac0b",
            "a4ca38085c4840f9957d63b57c5c62a5",
            "55904f6038fa42c19dbd1fa9f2e8e4af",
            "ab426066543944efab05451e1dee4af6",
            "351fd2b680b84115822534176dedd061",
            "9238484dd80b4885a33c951530896b79",
            "3f783e93e1cb437ea7378cc4c7b005c8",
            "a4364124bf594f2182b50ab8a323faa2",
            "3774af19d0e440c9b9dc290c9d4dcad2",
            "df4d8f6f448444b78593cf84a82fc8d6",
            "471251b51bdf4d338d1f509abdf1198f",
            "1b22a364c9434c48a8307daa5ff4deeb",
            "8f0fcb8e054e4a22ac12aa51a613399e",
            "cfb6165a0b714339ae750d7e28fe0d99",
            "9016f0d0706249bbb457758b2acd2ae2",
            "97d4cc505d1d4feb97e97f4b30a73f66",
            "5bb8e655bf96407b8334bb6879e20cd5",
            "c07288ecd1f54e1f9adbb6fd20514862",
            "eed3363ee7054ba3ba6ee23110fa9f0b",
            "bd54b11244ff41d6bdd76ad8f014db38",
            "7d3cafdfe0424e0daf9fc19f9475efe1",
            "37e1b133452f4690b936a3cd1ec7a0b1",
            "b3acd0e9e4ee42ae8317b1754442fd70",
            "d6449f89ff974314abeff664de2667f8",
            "187a5fbbe99348c3a078758c87940add",
            "df27e8c074f14e29a1ee4a09bc49688b",
            "12ba5028546f4750b236ccf40e01cab2",
            "66c6df348ae74bc3a300ba9a61e32543",
            "a25a271f7ba8440ead45bd34fdac744d",
            "c050f1d9b3e5474cb817bf89dd0b3be5",
            "912c2e34c4d4456dbf020f7c20602265",
            "1959b6d523c94e93a6d470694ff08957",
            "41923a4b5a16413890ddcd08d9c47e2d",
            "08b2aa712da7477a8bff99d66f863c76",
            "45b749acdbd34a0da6fcea6e5c0d1594",
            "0d88fc47313d49b2bd626ebf55d40080",
            "28e4c0f85cbc42b990b39966f747e5be",
            "3c60e19d55034e67850c8c1571f4f5cd",
            "b63063bcfacd4cc78b00958eff73628d",
            "737eb0a194b54241850b12721f7ebad9",
            "f30345919dc44c289011103697496a9d",
            "1fc8f1f41eca450d9622b6eee70e25f5",
            "5ee308eb9d5c4e4682d224c4291818cf",
            "a6118bf118184c39874ea5b19a220333",
            "5d18785a54a34f5d843fc5ccbc372ee0"
          ]
        },
        "outputId": "2ebb38cd-1438-47cd-ddde-df9e1e5a2fb3"
      },
      "execution_count": null,
      "outputs": [
        {
          "output_type": "display_data",
          "data": {
            "application/vnd.jupyter.widget-view+json": {
              "model_id": "b6e81cb54d1f40e4b359dd094e92cfae",
              "version_minor": 0,
              "version_major": 2
            },
            "text/plain": [
              "Downloading:   0%|          | 0.00/998 [00:00<?, ?B/s]"
            ]
          },
          "metadata": {}
        },
        {
          "output_type": "display_data",
          "data": {
            "application/vnd.jupyter.widget-view+json": {
              "model_id": "95c98db061d949039b8b128bdabf727d",
              "version_minor": 0,
              "version_major": 2
            },
            "text/plain": [
              "Downloading:   0%|          | 0.00/1.24G [00:00<?, ?B/s]"
            ]
          },
          "metadata": {}
        },
        {
          "output_type": "display_data",
          "data": {
            "application/vnd.jupyter.widget-view+json": {
              "model_id": "a4ca38085c4840f9957d63b57c5c62a5",
              "version_minor": 0,
              "version_major": 2
            },
            "text/plain": [
              "Downloading:   0%|          | 0.00/29.0 [00:00<?, ?B/s]"
            ]
          },
          "metadata": {}
        },
        {
          "output_type": "display_data",
          "data": {
            "application/vnd.jupyter.widget-view+json": {
              "model_id": "8f0fcb8e054e4a22ac12aa51a613399e",
              "version_minor": 0,
              "version_major": 2
            },
            "text/plain": [
              "Downloading:   0%|          | 0.00/570 [00:00<?, ?B/s]"
            ]
          },
          "metadata": {}
        },
        {
          "output_type": "display_data",
          "data": {
            "application/vnd.jupyter.widget-view+json": {
              "model_id": "d6449f89ff974314abeff664de2667f8",
              "version_minor": 0,
              "version_major": 2
            },
            "text/plain": [
              "Downloading:   0%|          | 0.00/208k [00:00<?, ?B/s]"
            ]
          },
          "metadata": {}
        },
        {
          "output_type": "display_data",
          "data": {
            "application/vnd.jupyter.widget-view+json": {
              "model_id": "45b749acdbd34a0da6fcea6e5c0d1594",
              "version_minor": 0,
              "version_major": 2
            },
            "text/plain": [
              "Downloading:   0%|          | 0.00/426k [00:00<?, ?B/s]"
            ]
          },
          "metadata": {}
        }
      ]
    },
    {
      "cell_type": "code",
      "source": [
        "label_list = [\n",
        "    \"O\",       # Outside of a named entity\n",
        "    \"B-MISC\",  # Beginning of a miscellaneous entity right after another miscellaneous entity\n",
        "    \"I-MISC\",  # Miscellaneous entity\n",
        "    \"B-PER\",   # Beginning of a person's name right after another person's name\n",
        "    \"I-PER\",   # Person's name\n",
        "    \"B-ORG\",   # Beginning of an organisation right after another organisation\n",
        "    \"I-ORG\",   # Organisation\n",
        "    \"B-LOC\",   # Beginning of a location right after another location\n",
        "    \"I-LOC\"    # Location\n",
        "]\n",
        "\n",
        "sequence = list2[0]\n",
        "\n",
        "# Bit of a hack to get the tokens with the special tokens\n",
        "tokens = tokenizer.tokenize(tokenizer.decode(tokenizer.encode(sequence)))\n",
        "inputs = tokenizer.encode(sequence, return_tensors=\"pt\")\n",
        "\n",
        "outputs = model(inputs)[0]\n",
        "predictions = torch.argmax(outputs, dim=2)\n",
        "\n",
        "print([(token, label_list[prediction]) for token, prediction in zip(tokens, predictions[0].tolist())])"
      ],
      "metadata": {
        "colab": {
          "base_uri": "https://localhost:8080/"
        },
        "id": "IXnCmR3C3BR2",
        "outputId": "fe79336a-40cf-4503-8f7c-f7563d53f69b"
      },
      "execution_count": null,
      "outputs": [
        {
          "output_type": "stream",
          "name": "stdout",
          "text": [
            "[('[CLS]', 'O'), ('en', 'O'), ('description', 'O'), ('Y', 'O'), ('##Y', 'O'), ('##Z', 'O'), ('##1', 'O'), ('1', 'O'), ('1', 'O'), ('L', 'O'), ('##bs', 'O'), ('01', 'O'), ('23', 'O'), ('D', 'O'), ('##T', 'O'), ('##0', 'O'), ('##3', 'O'), ('Leslie', 'I-ORG'), ('Walsh', 'I-ORG'), ('62', 'O'), ('##6', 'O'), ('112', 'O'), ('George', 'I-LOC'), ('Street', 'I-LOC'), ('M', 'O'), ('##5', 'O'), ('##A', 'O'), ('2', 'O'), ('##M', 'O'), ('##5', 'O'), ('Toronto', 'I-ORG'), ('On', 'I-ORG'), ('##tar', 'I-ORG'), ('##lo', 'I-ORG'), ('Canada', 'I-ORG'), ('T', 'I-ORG'), ('##BC', 'I-ORG'), ('##36', 'O'), ('##0', 'O'), ('##9', 'O'), ('##38', 'O'), ('##8', 'O'), ('##32', 'O'), ('##00', 'O'), ('##9', 'O'), ('D', 'O'), ('##T', 'O'), ('##0', 'O'), ('##3', 'O'), ('C', 'O'), ('##Y', 'O'), ('##CL', 'O'), ('##E', 'O'), ('1', 'O'), ('Y', 'O'), ('##Y', 'O'), ('##Z', 'O'), ('##9', 'O'), ('T', 'O'), ('##0', 'O'), ('##3', 'O'), ('MW', 'O'), ('##S', 'O'), ('##rg', 'O'), ('##RS', 'O'), ('##F', 'O'), ('##5', 'O'), ('MW', 'O'), ('##5', 'O'), ('9', 'O'), ('##RS', 'O'), ('##F', 'O'), ('##5', 'O'), ('A', 'O'), ('20', 'O'), ('3', 'O'), ('IN', 'O'), ('##O', 'O'), ('[SEP]', 'O')]\n"
          ]
        }
      ]
    },
    {
      "cell_type": "code",
      "source": [
        "sequence = new_list[0]\n",
        "tokens = tokenizer.tokenize(tokenizer.decode(tokenizer.encode(sequence)))\n",
        "\n",
        "inputs = tokenizer.encode(sequence, return_tensors=\"pt\")\n",
        "\n",
        "outputs = model(inputs)[0]\n",
        "predictions = torch.argmax(outputs, dim=2)\n",
        "\n",
        "# print([(token, label_list[prediction]) for token, prediction in zip(tokens, predictions[0].tolist())])\n",
        "List_Of_Full_Names = []\n",
        "List_of_names = []\n",
        "Last_index = -1\n",
        "for i in range(0, predictions.shape[1]):\n",
        "  if predictions[0,i] == 3 or predictions[0,i] == 4:\n",
        "      List_of_names.append(tokens[i])\n",
        "  else:\n",
        "    if List_of_names !=[]:\n",
        "      List_Of_Full_Names.append(List_of_names)\n",
        "    Last_index = -1\n",
        "    List_of_names = []\n",
        "Final_Names = []\n",
        "strname = ''\n",
        "replaced_name = ''\n",
        "for i in range(0, len(List_Of_Full_Names)):\n",
        "  if List_Of_Full_Names[i] !=[]:\n",
        "    for ii in List_Of_Full_Names[i]:\n",
        "      if '#' in ii:\n",
        "        replaced_name = re.sub('#','',ii)\n",
        "      else:\n",
        "        replaced_name = ii\n",
        "      for chars in replaced_name:\n",
        "        if chars.isupper():\n",
        "          strname+=\" \"\n",
        "      strname+=replaced_name\n",
        "print(strname)"
      ],
      "metadata": {
        "colab": {
          "base_uri": "https://localhost:8080/"
        },
        "id": "Ch3r3GJS1ebZ",
        "outputId": "fc8ca844-c11d-459c-d4c5-72daa4f15c3b"
      },
      "execution_count": null,
      "outputs": [
        {
          "output_type": "stream",
          "name": "stdout",
          "text": [
            "\n"
          ]
        }
      ]
    },
    {
      "cell_type": "code",
      "source": [
        "List_Of_Full_Names\n"
      ],
      "metadata": {
        "colab": {
          "base_uri": "https://localhost:8080/"
        },
        "id": "k4GmTUTy2Bgk",
        "outputId": "e513e5e3-fab2-4a4b-83f7-6f6787a44e95"
      },
      "execution_count": null,
      "outputs": [
        {
          "output_type": "execute_result",
          "data": {
            "text/plain": [
              "[]"
            ]
          },
          "metadata": {},
          "execution_count": 48
        }
      ]
    },
    {
      "cell_type": "code",
      "source": [
        "def create_entity_spans(df,tag_list):\n",
        "    '''Create entity spans for training/test datasets'''\n",
        "    df['Address']=df['Address'].apply(lambda x: massage_data(x))\n",
        "    df[\"BuildingTag\"]=df.apply(lambda row:get_address_span(address=row['Address']),axis=1)\n",
        "    df[\"BuildingNoTag\"]=df.apply(lambda row:get_address_span(address=row['Address']),axis=1)\n",
        "    df[\"RecipientTag\"]=df.apply(lambda row:get_address_span(address=row['Address']),axis=1)\n",
        "    df[\"StreetNameTag\"]=df.apply(lambda row:get_address_span(address=row['Address']),axis=1)\n",
        "    df[\"ZipCodeTag\"]=df.apply(lambda row:get_address_span(address=row['Address']),axis=1)\n",
        "    df[\"CityTag\"]=df.apply(lambda row:get_address_span(address=row['Address']),axis=1)\n",
        "    df[\"CountryTag\"]=df.apply(lambda row:get_address_span(address=row['Address']),axis=1)\n",
        "    df[\"StateTag\"]=df.apply(lambda row:get_address_span(address=row['Address']),axis=1)\n",
        "    df['EmptySpan']=df.apply(lambda x: [], axis=1)\n",
        "\n",
        "    for i in tag_list:\n",
        "        df['EntitySpans']=df.apply(lambda row: extend_list(row['EmptySpan'],row[i]),axis=1)\n",
        "        df['EntitySpans']=df[['EntitySpans','Address']].apply(lambda x: (x[1], x[0]),axis=1)\n",
        "    return df['EntitySpans']"
      ],
      "metadata": {
        "id": "CtwyH6V1xVy2"
      },
      "execution_count": null,
      "outputs": []
    },
    {
      "cell_type": "code",
      "source": [
        "def get_doc_bin(training_data,nlp):\n",
        "    '''Create DocBin object for building training/test corpus'''\n",
        "    # the DocBin will store the example documents\n",
        "    db = DocBin()\n",
        "    for text, annotations in training_data:\n",
        "        doc = nlp(text) #Construct a Doc object\n",
        "        ents = []\n",
        "        for start, end, label in annotations:\n",
        "            span = doc.char_span(start, end, label=label)\n",
        "            ents.append(span)\n",
        "        doc.ents = ents\n",
        "        db.add(doc)\n",
        "    return db"
      ],
      "metadata": {
        "id": "z3oFof7Axc3X"
      },
      "execution_count": null,
      "outputs": []
    },
    {
      "cell_type": "code",
      "source": [
        "#Load blank English model. This is needed for initializing a Document object for our training/test set.\n",
        "nlp = spacy.blank(\"en\")\n",
        "\n",
        "#Define custom entity tag list\n",
        "tag_list=[\"BuildingTag\",\"BuildingNoTag\",\"RecipientTag\",\"StreetNameTag\",\"ZipCodeTag\",\"CityTag\",\"StateTag\",\"CountryTag\"]\n",
        "\n",
        "###### Training dataset prep ###########\n",
        "# Read the training dataset into pandas\n",
        "df_train\n",
        "\n",
        "# Get entity spans\n",
        "df_entity_spans= create_entity_spans(df_train.astype(str),tag_list)\n",
        "training_data= df_entity_spans.values.tolist()"
      ],
      "metadata": {
        "id": "94diP8ojxgGx"
      },
      "execution_count": null,
      "outputs": []
    },
    {
      "cell_type": "code",
      "source": [
        "!pip install spacy==3.0.6"
      ],
      "metadata": {
        "colab": {
          "base_uri": "https://localhost:8080/",
          "height": 1000
        },
        "id": "JEDhAcoa6ojr",
        "outputId": "ac764a90-a1b1-431a-ecf7-d24defc1144e"
      },
      "execution_count": null,
      "outputs": [
        {
          "output_type": "stream",
          "name": "stdout",
          "text": [
            "Collecting spacy==3.0.6\n",
            "  Downloading spacy-3.0.6-cp37-cp37m-manylinux2014_x86_64.whl (12.8 MB)\n",
            "\u001b[K     |████████████████████████████████| 12.8 MB 7.9 MB/s \n",
            "\u001b[?25hRequirement already satisfied: requests<3.0.0,>=2.13.0 in /usr/local/lib/python3.7/dist-packages (from spacy==3.0.6) (2.27.1)\n",
            "Requirement already satisfied: packaging>=20.0 in /usr/local/lib/python3.7/dist-packages (from spacy==3.0.6) (21.3)\n",
            "Requirement already satisfied: cymem<2.1.0,>=2.0.2 in /usr/local/lib/python3.7/dist-packages (from spacy==3.0.6) (2.0.6)\n",
            "Requirement already satisfied: wasabi<1.1.0,>=0.8.1 in /usr/local/lib/python3.7/dist-packages (from spacy==3.0.6) (0.9.0)\n",
            "Requirement already satisfied: blis<0.8.0,>=0.4.0 in /usr/local/lib/python3.7/dist-packages (from spacy==3.0.6) (0.4.1)\n",
            "Collecting pydantic<1.8.0,>=1.7.1\n",
            "  Downloading pydantic-1.7.4-cp37-cp37m-manylinux2014_x86_64.whl (9.1 MB)\n",
            "\u001b[K     |████████████████████████████████| 9.1 MB 22.3 MB/s \n",
            "\u001b[?25hRequirement already satisfied: preshed<3.1.0,>=3.0.2 in /usr/local/lib/python3.7/dist-packages (from spacy==3.0.6) (3.0.6)\n",
            "Requirement already satisfied: typing-extensions<4.0.0.0,>=3.7.4 in /usr/local/lib/python3.7/dist-packages (from spacy==3.0.6) (3.10.0.2)\n",
            "Requirement already satisfied: murmurhash<1.1.0,>=0.28.0 in /usr/local/lib/python3.7/dist-packages (from spacy==3.0.6) (1.0.6)\n",
            "Requirement already satisfied: numpy>=1.15.0 in /usr/local/lib/python3.7/dist-packages (from spacy==3.0.6) (1.19.5)\n",
            "Collecting srsly<3.0.0,>=2.4.1\n",
            "  Downloading srsly-2.4.2-cp37-cp37m-manylinux_2_17_x86_64.manylinux2014_x86_64.whl (451 kB)\n",
            "\u001b[K     |████████████████████████████████| 451 kB 64.0 MB/s \n",
            "\u001b[?25hCollecting pathy>=0.3.5\n",
            "  Downloading pathy-0.6.1-py3-none-any.whl (42 kB)\n",
            "\u001b[K     |████████████████████████████████| 42 kB 1.4 MB/s \n",
            "\u001b[?25hRequirement already satisfied: setuptools in /usr/local/lib/python3.7/dist-packages (from spacy==3.0.6) (57.4.0)\n",
            "Collecting thinc<8.1.0,>=8.0.3\n",
            "  Downloading thinc-8.0.13-cp37-cp37m-manylinux_2_17_x86_64.manylinux2014_x86_64.whl (628 kB)\n",
            "\u001b[K     |████████████████████████████████| 628 kB 37.1 MB/s \n",
            "\u001b[?25hCollecting spacy-legacy<3.1.0,>=3.0.4\n",
            "  Downloading spacy_legacy-3.0.8-py2.py3-none-any.whl (14 kB)\n",
            "Collecting catalogue<2.1.0,>=2.0.3\n",
            "  Downloading catalogue-2.0.6-py3-none-any.whl (17 kB)\n",
            "Collecting typer<0.4.0,>=0.3.0\n",
            "  Downloading typer-0.3.2-py3-none-any.whl (21 kB)\n",
            "Requirement already satisfied: tqdm<5.0.0,>=4.38.0 in /usr/local/lib/python3.7/dist-packages (from spacy==3.0.6) (4.62.3)\n",
            "Requirement already satisfied: jinja2 in /usr/local/lib/python3.7/dist-packages (from spacy==3.0.6) (2.11.3)\n",
            "Requirement already satisfied: zipp>=0.5 in /usr/local/lib/python3.7/dist-packages (from catalogue<2.1.0,>=2.0.3->spacy==3.0.6) (3.7.0)\n",
            "Requirement already satisfied: pyparsing!=3.0.5,>=2.0.2 in /usr/local/lib/python3.7/dist-packages (from packaging>=20.0->spacy==3.0.6) (3.0.7)\n",
            "Requirement already satisfied: smart-open<6.0.0,>=5.0.0 in /usr/local/lib/python3.7/dist-packages (from pathy>=0.3.5->spacy==3.0.6) (5.2.1)\n",
            "Requirement already satisfied: idna<4,>=2.5 in /usr/local/lib/python3.7/dist-packages (from requests<3.0.0,>=2.13.0->spacy==3.0.6) (2.10)\n",
            "Requirement already satisfied: charset-normalizer~=2.0.0 in /usr/local/lib/python3.7/dist-packages (from requests<3.0.0,>=2.13.0->spacy==3.0.6) (2.0.11)\n",
            "Requirement already satisfied: urllib3<1.27,>=1.21.1 in /usr/local/lib/python3.7/dist-packages (from requests<3.0.0,>=2.13.0->spacy==3.0.6) (1.24.3)\n",
            "Requirement already satisfied: certifi>=2017.4.17 in /usr/local/lib/python3.7/dist-packages (from requests<3.0.0,>=2.13.0->spacy==3.0.6) (2021.10.8)\n",
            "Requirement already satisfied: click<7.2.0,>=7.1.1 in /usr/local/lib/python3.7/dist-packages (from typer<0.4.0,>=0.3.0->spacy==3.0.6) (7.1.2)\n",
            "Requirement already satisfied: MarkupSafe>=0.23 in /usr/local/lib/python3.7/dist-packages (from jinja2->spacy==3.0.6) (2.0.1)\n",
            "Installing collected packages: catalogue, typer, srsly, pydantic, thinc, spacy-legacy, pathy, spacy\n",
            "  Attempting uninstall: catalogue\n",
            "    Found existing installation: catalogue 1.0.0\n",
            "    Uninstalling catalogue-1.0.0:\n",
            "      Successfully uninstalled catalogue-1.0.0\n",
            "  Attempting uninstall: srsly\n",
            "    Found existing installation: srsly 1.0.5\n",
            "    Uninstalling srsly-1.0.5:\n",
            "      Successfully uninstalled srsly-1.0.5\n",
            "  Attempting uninstall: thinc\n",
            "    Found existing installation: thinc 7.4.0\n",
            "    Uninstalling thinc-7.4.0:\n",
            "      Successfully uninstalled thinc-7.4.0\n",
            "  Attempting uninstall: spacy\n",
            "    Found existing installation: spacy 2.2.4\n",
            "    Uninstalling spacy-2.2.4:\n",
            "      Successfully uninstalled spacy-2.2.4\n",
            "Successfully installed catalogue-2.0.6 pathy-0.6.1 pydantic-1.7.4 spacy-3.0.6 spacy-legacy-3.0.8 srsly-2.4.2 thinc-8.0.13 typer-0.3.2\n"
          ]
        },
        {
          "output_type": "display_data",
          "data": {
            "application/vnd.colab-display-data+json": {
              "pip_warning": {
                "packages": [
                  "catalogue",
                  "spacy",
                  "srsly",
                  "thinc"
                ]
              }
            }
          },
          "metadata": {}
        }
      ]
    },
    {
      "cell_type": "code",
      "source": [
        "# Get & Persist DocBin to disk\n",
        "doc_bin_train= get_doc_bin(training_data,nlp)\n",
        "doc_bin_train.to_disk(\"./corpus/spacy-docbins/train.spacy\")\n",
        "######################################\n",
        "\n",
        "\n",
        "###### Validation dataset prep ###########\n",
        "# Read the validation dataset into pandas\n",
        "df_test\n",
        "\n",
        "# Get entity spans\n",
        "df_entity_spans= create_entity_spans(df_test.astype(str),tag_list)\n",
        "validation_data= df_entity_spans.values.tolist()\n",
        "\n",
        "# Get & Persist DocBin to disk\n",
        "doc_bin_test= get_doc_bin(validation_data,nlp)\n",
        "doc_bin_test.to_disk(\"./corpus/spacy-docbins/test.spacy\")\n",
        "##########################################"
      ],
      "metadata": {
        "colab": {
          "base_uri": "https://localhost:8080/",
          "height": 235
        },
        "id": "KT1N2s0dqhug",
        "outputId": "5aa6e3b3-eccb-4d7f-ecde-e150cafc559d"
      },
      "execution_count": null,
      "outputs": [
        {
          "output_type": "error",
          "ename": "AttributeError",
          "evalue": "ignored",
          "traceback": [
            "\u001b[0;31m---------------------------------------------------------------------------\u001b[0m",
            "\u001b[0;31mAttributeError\u001b[0m                            Traceback (most recent call last)",
            "\u001b[0;32m<ipython-input-53-a2870755f5f1>\u001b[0m in \u001b[0;36m<module>\u001b[0;34m()\u001b[0m\n\u001b[1;32m      1\u001b[0m \u001b[0;31m# Get & Persist DocBin to disk\u001b[0m\u001b[0;34m\u001b[0m\u001b[0;34m\u001b[0m\u001b[0;34m\u001b[0m\u001b[0m\n\u001b[1;32m      2\u001b[0m \u001b[0mdoc_bin_train\u001b[0m\u001b[0;34m=\u001b[0m \u001b[0mget_doc_bin\u001b[0m\u001b[0;34m(\u001b[0m\u001b[0mtraining_data\u001b[0m\u001b[0;34m,\u001b[0m\u001b[0mnlp\u001b[0m\u001b[0;34m)\u001b[0m\u001b[0;34m\u001b[0m\u001b[0;34m\u001b[0m\u001b[0m\n\u001b[0;32m----> 3\u001b[0;31m \u001b[0mdoc_bin_train\u001b[0m\u001b[0;34m.\u001b[0m\u001b[0mto_disk\u001b[0m\u001b[0;34m(\u001b[0m\u001b[0;34m\"./corpus/spacy-docbins/train.spacy\"\u001b[0m\u001b[0;34m)\u001b[0m\u001b[0;34m\u001b[0m\u001b[0;34m\u001b[0m\u001b[0m\n\u001b[0m\u001b[1;32m      4\u001b[0m \u001b[0;31m######################################\u001b[0m\u001b[0;34m\u001b[0m\u001b[0;34m\u001b[0m\u001b[0;34m\u001b[0m\u001b[0m\n\u001b[1;32m      5\u001b[0m \u001b[0;34m\u001b[0m\u001b[0m\n",
            "\u001b[0;31mAttributeError\u001b[0m: 'DocBin' object has no attribute 'to_disk'"
          ]
        }
      ]
    },
    {
      "cell_type": "code",
      "source": [
        "import spacy\n",
        "\n",
        "nlp=spacy.load(\"output\\models\\model-best\")\n",
        "\n",
        "address_list=[\"130 W BOSE ST STE 100, PARK RIDGE, IL, 60068, USA\",\n",
        "              \"8311 MCDONALD RD, HOUSTON, TX, 77053-4821, USA\",\n",
        "              \"PO Box 317, 4100 Hwy 20 E Ste 403, NICEVILLE, FL, 32578-5037, USA\",\n",
        "              \"C/O Elon Musk Innovations Inc, 1548 E Florida Avenue, Suite 209, TAMPA, FL, 33613, USA\",\n",
        "              \"Seven Edgeway Plaza, C/O Mac Dermott Inc, OAKBROOK TERRACE, IL, 60181, USA\"]\n",
        "\n",
        "# Checking predictions for the NER model\n",
        "for address in address_list:\n",
        "    doc=nlp(address)\n",
        "    ent_list=[(ent.text, ent.label_) for ent in doc.ents]\n",
        "    print(\"Address string -> \"+address)\n",
        "    print(\"Parsed address -> \"+str(ent_list))\n",
        "    print(\"******\")\n",
        "\n",
        "\n",
        "\n",
        "address=\"C/o John Doe LLC, 111 8th Avenue Ste 1301, Tulsa, Oklahoma, 74136–1922, USA\"\n",
        "doc=nlp(address)\n",
        "ent_list=[(ent.text, ent.label_) for ent in doc.ents]\n",
        "print(\"Address string -> \"+address)\n",
        "print(\"Parsed address -> \"+str(ent_list))\n",
        "\n",
        "# Loading Entity Ruler coupled NER model and checking prediction\n",
        "nlp=spacy.load(\"output\\models_er\\model-best\")\n",
        "\n",
        "doc=nlp(address)\n",
        "ent_list=[(ent.text, ent.label_) for ent in doc.ents]\n",
        "print(\"Address string -> \"+address)\n",
        "print(\"Parsed address -> \"+str(ent_list))"
      ],
      "metadata": {
        "id": "jkUfZQeqKqLc",
        "colab": {
          "base_uri": "https://localhost:8080/",
          "height": 398
        },
        "outputId": "1afcc661-0af0-4df2-ea29-769703c75a51"
      },
      "execution_count": null,
      "outputs": [
        {
          "output_type": "error",
          "ename": "OSError",
          "evalue": "ignored",
          "traceback": [
            "\u001b[0;31m---------------------------------------------------------------------------\u001b[0m",
            "\u001b[0;31mOSError\u001b[0m                                   Traceback (most recent call last)",
            "\u001b[0;32m<ipython-input-54-a55b0f3fa0bc>\u001b[0m in \u001b[0;36m<module>\u001b[0;34m()\u001b[0m\n\u001b[1;32m      1\u001b[0m \u001b[0;32mimport\u001b[0m \u001b[0mspacy\u001b[0m\u001b[0;34m\u001b[0m\u001b[0;34m\u001b[0m\u001b[0m\n\u001b[1;32m      2\u001b[0m \u001b[0;34m\u001b[0m\u001b[0m\n\u001b[0;32m----> 3\u001b[0;31m \u001b[0mnlp\u001b[0m\u001b[0;34m=\u001b[0m\u001b[0mspacy\u001b[0m\u001b[0;34m.\u001b[0m\u001b[0mload\u001b[0m\u001b[0;34m(\u001b[0m\u001b[0;34m\"output\\models\\model-best\"\u001b[0m\u001b[0;34m)\u001b[0m\u001b[0;34m\u001b[0m\u001b[0;34m\u001b[0m\u001b[0m\n\u001b[0m\u001b[1;32m      4\u001b[0m \u001b[0;34m\u001b[0m\u001b[0m\n\u001b[1;32m      5\u001b[0m address_list=[\"130 W BOSE ST STE 100, PARK RIDGE, IL, 60068, USA\",\n",
            "\u001b[0;32m/usr/local/lib/python3.7/dist-packages/spacy/__init__.py\u001b[0m in \u001b[0;36mload\u001b[0;34m(name, **overrides)\u001b[0m\n\u001b[1;32m     28\u001b[0m \u001b[0;34m\u001b[0m\u001b[0m\n\u001b[1;32m     29\u001b[0m def load(\n\u001b[0;32m---> 30\u001b[0;31m     \u001b[0mname\u001b[0m\u001b[0;34m:\u001b[0m \u001b[0mUnion\u001b[0m\u001b[0;34m[\u001b[0m\u001b[0mstr\u001b[0m\u001b[0;34m,\u001b[0m \u001b[0mPath\u001b[0m\u001b[0;34m]\u001b[0m\u001b[0;34m,\u001b[0m\u001b[0;34m\u001b[0m\u001b[0;34m\u001b[0m\u001b[0m\n\u001b[0m\u001b[1;32m     31\u001b[0m     \u001b[0;34m*\u001b[0m\u001b[0;34m,\u001b[0m\u001b[0;34m\u001b[0m\u001b[0;34m\u001b[0m\u001b[0m\n\u001b[1;32m     32\u001b[0m     \u001b[0mvocab\u001b[0m\u001b[0;34m:\u001b[0m \u001b[0mUnion\u001b[0m\u001b[0;34m[\u001b[0m\u001b[0mVocab\u001b[0m\u001b[0;34m,\u001b[0m \u001b[0mbool\u001b[0m\u001b[0;34m]\u001b[0m \u001b[0;34m=\u001b[0m \u001b[0;32mTrue\u001b[0m\u001b[0;34m,\u001b[0m\u001b[0;34m\u001b[0m\u001b[0;34m\u001b[0m\u001b[0m\n",
            "\u001b[0;32m/usr/local/lib/python3.7/dist-packages/spacy/util.py\u001b[0m in \u001b[0;36mload_model\u001b[0;34m(name, **overrides)\u001b[0m\n\u001b[1;32m    157\u001b[0m \u001b[0;34m\u001b[0m\u001b[0m\n\u001b[1;32m    158\u001b[0m \u001b[0;32mclass\u001b[0m \u001b[0mSimpleFrozenDict\u001b[0m\u001b[0;34m(\u001b[0m\u001b[0mdict\u001b[0m\u001b[0;34m)\u001b[0m\u001b[0;34m:\u001b[0m\u001b[0;34m\u001b[0m\u001b[0;34m\u001b[0m\u001b[0m\n\u001b[0;32m--> 159\u001b[0;31m     \"\"\"Simplified implementation of a frozen dict, mainly used as default\n\u001b[0m\u001b[1;32m    160\u001b[0m     function or method argument (for arguments that should default to empty\n\u001b[1;32m    161\u001b[0m     dictionary). Will raise an error if user or spaCy attempts to add to dict.\n",
            "\u001b[0;31mOSError\u001b[0m: [E049] Can't find spaCy data directory: 'None'. Check your installation and permissions, or use spacy.util.set_data_path to customise the location if necessary."
          ]
        }
      ]
    },
    {
      "cell_type": "code",
      "source": [
        "def countValidWords(self, sentence: str) -> int:\n",
        "       \n",
        "       # parse and get each word from sentence\n",
        "       words = sentence.split()\n",
        "       \n",
        "       # regular expression pattern for valid words\n",
        "       pattern = re.compile( r'^([a-zA-Z]+\\-?[a-z]+[!\\.,]?)$|^([a-z]*[!\\.,]?)$' )\n",
        "       \n",
        "       # valid word count\n",
        "       count = 0\n",
        "       \n",
        "       # scan each word from word pool\n",
        "       for word in words:\n",
        "           \n",
        "           # judge whether current word is valid or not\n",
        "           match = re.match(pattern, word)\n",
        "           \n",
        "           if match:\n",
        "               count+=1\n",
        "               \n",
        "       return words"
      ],
      "metadata": {
        "id": "Tv9gr8P6RyZs"
      },
      "execution_count": null,
      "outputs": []
    },
    {
      "cell_type": "code",
      "source": [
        "def countValidWords(self, sentence: str) -> int:\n",
        "       \n",
        "       # parse and get each word from sentence\n",
        "       words = sentence.split()\n",
        "       \n",
        "       # regular expression pattern for valid words\n",
        "       pattern = re.compile( r'^([a-z]+\\-?[a-z]+[!\\.,]?)$|^([a-z]*[!\\.,]?)$' )\n",
        "       \n",
        "       # valid word count\n",
        "       count = 0\n",
        "       \n",
        "       # scan each word from word pool\n",
        "       for word in words:\n",
        "           \n",
        "           # judge whether current word is valid or not\n",
        "           match = re.match(pattern, word)\n",
        "           \n",
        "           if match:\n",
        "               count+=1\n",
        "               \n",
        "       return count"
      ],
      "metadata": {
        "id": "JVAZXxHOuUOE"
      },
      "execution_count": null,
      "outputs": []
    },
    {
      "cell_type": "code",
      "source": [
        "r = re.compile(r'([a-zA-Z][a-zA-Z0-9][a-z])?')\n",
        "newlist = list(filter(r.match, new_list)) # Read Note\n",
        "print(newlist)\n",
        "len(newlist)"
      ],
      "metadata": {
        "colab": {
          "base_uri": "https://localhost:8080/"
        },
        "id": "9HQEMlaJwkxM",
        "outputId": "4262ef49-eb44-440d-abd4-9cf97549b2da"
      },
      "execution_count": null,
      "outputs": [
        {
          "output_type": "stream",
          "name": "stdout",
          "text": [
            "[' en description YYZ1 1 1 Lbs 01 23 DT03 Leslie Walsh 626 112 George Street M5A 2M5 Toronto Ontarlo Canada TBC360938832009 DT03 CYCLE 1 YYZ9 T03 MWSrgRSF5 MW5 9RSF5 A 20 3 INO ', ' en description CANADA POSTES POST 12 Expedited Parcel TM Colis acc 303 251l 303 251r 303 251g CANADA TO Tel TI BRITTANY DHAMALIE 112 GEORGE ST S628 TORONTO ON M5A 2M5 18555576844 320 2345 320 220 2 320 2345 20 3 x 13 3 x880 CU KG VE EU d object inadmissible S1 REQ ', ' en description YYZ1 0 4 Lbs 01 23 DT03 Daniel Trigiani 1208 112 George Street pri M5A 2M5 Toronto Ontario Canada TBC361089405009 DT03 CYCLE 1 cit 303 251 sans MARR ee YYZ7 O TO3 YHM5 C ART M7apBWS85 1 801 M7DPBWS85 1 801 ', ' en description 1 23 22 5 57 PM Production Sheet G70 TORFS1 GC Toronto WOW 1 Order ID 25399741 Wow Totes 1 1 Alexandra Name Sukhareva Address 112 George Street App S617 Toronto Ontario M5A2M5 Phone 647 991 2926 320 242 321 203 321 200 320 265 App Apt 2022 01 23 Created at 17 40 29 Special Instructions Delivery Day Sunday Delivery Date 2022 01 23 Route TBD Sequence 00 25399741 ', ' en description YYZ1 1 0 Lbs 01 23 DT03 Don Ho mes 112 George Street Suite 1 06 M5A 2N5 Toronto Ontario Canada TBC360972961009 DT03 CYCLE 1 YYZ4 O T03 YHM5 C ART spNi1v Mvf9C4SS5 1 3022 Mivi9C4SS5 ', ' en description Mhvs605w5 1 801 Mhvs605w5 1 801 Duvrii C ART YHM5 351 227 234 Ppen he alimite eading O T03 ute il tim d free stening ute sans ublicit 303 251 CYCLE 1 T03 TBC361069059009 ori ne S603 112 George St Andrea Goguen M5A 2M5 Toronto Ontario Canada DT03 01 23 342 200 242 YYZ1 0 3 Lbs ', ' en description Postage on Account GB International Priority Royal Mail Privacy policy www royalmail com privacy AIR MAIL PAR AVION 08 011 721 2000 030 227 184 UY 7932 5657 0GB Kimberley Kubath 112 George St 1102 Toronto Ontario M5A 2M5 CANADA Customer Reference 701 4511620 6554647 Department reference 1783881944561 Retun Address 1 Apollo Rise GU14 0GT ', ' en description YYZ1 1 8 Lbs 01 23 DT03 Rupelyn Osorio 112 George Street Suite S501 SPRLK1 M5A 2M5 Toronto ON Canada Not restricted as per special provision A199 TBC361154935009 DT03 CYCLE 1 YYZ4 OTO3 YHM5 C ART MWZ6 BXF5 5 5061 5 5061 ', ' en description rime DT03 01 23 Cameron Capel 1903 112 George Street YYZ1 0 3 Lbs d me M5A 2M5 Toronto Ontario Canada et gratuite livraison rapide vide delivery fast free CYCLE 1 TBC360694063009 DT03 1 Open here 342 206 221 YYZ7 O T03 YHM5 CART EAR HENL MCys5 MCys5 1 804 ', ' en description CANADA POST POSTES CANADA TM Expedited Parcel Colis acc 303 251l 303 251r 303 251s TO A Tel Tel 800 832 7569 CYNTHIA INNES CYNTHIA INNES 116 GEORGE STREET APT 1506 TORONTO ON M5A 3S2 M5A 3S2 TRACKING NUMBER 7036 7330 5514 9304 N 302 260 DE REP 303 211RAGE Sender warrants that this item does not contain non mailable matter L exp 303 251diteur garantit que cet envoi ne contient pas d objet inadmissible ereuses FROM DE INDIGO BOOKS MUSIC CDF BLDG 50 100 ALFRED KUEHNE BLVD BRAMPTON ON L6T 4K4 1 00 KG VE EV MANIFEST REQ MANIFESTE REQ P F 7036733 A C VIN NIF 019 SPEC 3696 V2 0 Reference No 657182164 ', ' en description EY S SYS 6174 J 1D YYZ1 2 4 Lbs 01 23 DT03 Shelly Ann Rampersad S605 112 George Street M5A 2M5 Toronto Ontario Canada TBC360486977009 DT03 CYCLE 1 CLE2 THM5 YHM5 C ART Mxj3B5 1 811 Mxj3B5 ', ' en description YYZ1 0 7 Lbs 01 23 DT03 Alan Roach S210 112 George Street M5A 2M5 Toronto Ontario Canada TBC361049563009 DT03 CYCLE 1 YYZ7 O T03 YHM5 C ART sp CLYCHIAR 1 3061 ', ' en description MelaPadk CANADA POSTES POST CANADA 2 MC Expedited Parcel Colis acc 303 251l 303 251r 303 251s TM TO JA SLOANE CLAIRVILLE Tel T 303 251l 4166975975 101 112 GEORGE ST SPH101 TORONTO ON M5A 2M5 M5A 2M5 TRACKING NUMBER 4007 3531 7682 5351 N 302 260 DE REP 303 211RAGE Sender warrants that this item does not contain non mailable matter L exp 303 251diteur garantit que cet envoi ne contient pas d objet inadmissible FROM DE 6x6x6cm KG VE EV MANIFEST REQ MANIFESTE REQ 4567 Dixie Rd Mississauga ON MOR 2A2 A C P F 4007353 VIN NIF V 413 SPEC 3696 V2 0 PuroPost M PP M 000 ', ' en description 342 206 221 Open here Open here t Ouvrir ici O T03 YYZ7 PEN TIREZ ICH C ART YHM5 Open here T Ouvrir ici vrir ici unlimited reading l 303 251cture illNhit 303 251e ad free listening 303 251coute sans publicit 303 251 DT03 TBC361032420009 CYCLE 1 prime M5A 2M5 Toronto Ontario Canada S302 112 George Street Kazuma Matsunaga rir ud 01 23 YYZ1 0 3 Lbs DT03 prime prime Remove Papor Label Belore Remove Paper Label Before Recycling 10 doid PLASTIC BAG Store Drop off PLASTIC BAG how2recycle info how2recycle info info ONE A 20 3C YCLE 1 1 806 MHVRWRVK5 6167 DRIVER IBC561052420009 ', ' en description YYZ1 3  01 23 DT03 Kazuma Matsunaga S302 112 George Street M5A 2M5 Toronto Ontarlo Canada TBC360992074009 DT03 CYCLE 1 345 212 211 LY YYZ4 O T03 YHM5 C ART MS1WN1X45 214141 ', ' en description YYZ1 1 0 Lbs 01 23 DT03 Don Ho mes 112 George Street Suite 1706 M5A 2N5 Toronto Ontario Canada TBC360972961009 DT03 CYCLE 1 YYZ4 TO3 YHM5 C ART Mvf9C4SS5 1 3022 spNi1v ', ' en description Expedited Parcel 342 204 242 I Colis acc 303 251l 303 251r 303 251s TM MC TO 303 200 EBE BRUGES 112 GEORGE ST SUITE S717 TORONTO ON M5A 2M5 M5A 2 320 2345 TRACKING NUMBER 1026 1677 2403 1392 N DE REP 303 211RAGE Sender warrants that this item does not contain non mailable matter L exp 303 251diteur garantit que cet envoi ne contient pas d objet inadmissible FROM DE 0 750 KG VE EV Alycia Charchuk 85 Sunset Way SE Calgary AB T2X 3C1 MANIFEST NOT REQ MANIFESTE NON REQ EST O 303 211E V2109AD 1 720 SPEC 3696 V2 P F 1026167 A C PIN NIP 1026 1677 2403 1392 Ref R 303 251t 1 Order 61e352c7ca86649e2ff7a162 Ref R 303 251f 2 Buyer ebe22 Order No N 302 260 d commande P253457825 ', ' en description YYZ1 0 8 Lbs 01 23 DT03 Saleha Shafiq 116 George Street Unit Nth105 M5A 3S2 Toronto Ontario Canada TBC361118301009 DT03 CYCLE 1 YYZ4 O T03 YHM5 C ART fast free delivery ad free li 305 237tening fast del livrais streaming reading lecture illimit 303 251e anconti 303 251coute sans raison ranide MBHR1DXF5 1 806 ', ' en description en ligne 1 111 MhpONI SPS movies tv stre YYZ1 2  01 23 DT03 Jennifer Le 116 George Street Unit N109 M5A 3S2 Toronto Ontario Canada TBC360916581009 DT03 CYCLE 1 6ZA T03 ', ' en description SHIPPING 416 640 5833 UNIVERSITY OF TORONTO BOOKSTOR 214 COLLEGE ST TORONTO ON M5T3A1 8 LBS 1 OF 1 SHP A321 OXHJ TL4 SHP WT 8 LBS DATE 20 JAN 2022 SHIP TO SAAD SHAFIQ 6479853035 116 GEORGE ST NTH 105 TORONTO ON M5A3S2 CAN 457 9 02 UPS STANDARD TRACKING 1Z A32 10X DK 4776 9558 BILLING P P SIGNATURE REQUIRED REF 1 WO 165158K we 23 9 8 Zobra ZP 450 04 0A Q1 z022 ', ' en description 3 9 Lbs YYZ1 3 9 Lbs 01 23 DT03 Gregory LeBianc 112 116 George Street Suite 2108 M5A 2M5 Toronto Ontario Canada TBC361010441009 DT03 CYCLE 1 YHM5 C ART O T03 M76cnrSr5 112071 ', ' en description MIGSFKWIS 1 4021 fast free delivery apide ite YYZ1 6 9 Lbs 01 23 DT03 Elis Lila S1207 112 George Street M5A 2M5 Toronto Ontario Canada tv ing s 303 251ries ne TBC359373235009 DT03 CYCLE 1 au 322 256X2 JHM5 CYHM Y HM5 YHM5 D T03 free ery tivraison rapide et gratuite ', ' en description 25346460PM1 0IG13121017 OD GOODE GO OOD G13 ON1 GC Toronto 3 Order ID 25346460 OF Private Label Meal Kit 1 1 Name Kimberley Medel Address 116 George Street App 1102 Toronto Ontario M5A3S2 Phone 647 624 8332 320 242 321 203 321 200 320 265 App Apt 2022 01 20 Created at 02 00 01 Special Instructions Please leave with concierge located at 112 George Street Delivery Day Sunday Delivery Date 2022 01 23 121017 SUN Route GTA 17 FOO Sequence 42 ', ' en description 25338850PM101G13121017 GO G13 ON1 GC FOOD Toronto 3 Order ID 25338850 Private Label Meal Kit 1 1 Name Saleha Shafiq Address 116 George Street Unit Nth 105 TORONTO Ontario COOD MSA3S2 Phone 416 648 4781 320 242 321 203 321 200 320 265 App Apt 2022 01 20 Created at 01 54 09 Special Instructions Please leave package with the reception desk OFOOD Delivery Day Sunday Delivery Date 2022 01 23 121017 SUN GTA 17 Route Sequence 44 SODA good ', ' en description S1208 112 George Street M5A 2M5 Toronto Ontario Canada YYZ1 1 3 Lbs 01 22 DT03 Daniel Trigiani TBC359730996009 DT03 CYCLE 1 YUL2 YHM5 Y HM5 DTO3 MtrbKCtD5 1 304 MtrbKCID5 ', ' en description YYZ1 4 4 Lbs 01 23 DT03 Nikhil Mistry 112 George Street Unit S711 M5A 2M5 Toronto Ontario Canada TBC361121539009 DT03 CYCLE 1 YYZ4 O T03 316 245 316 227M5 C ART MhxbRwPGq 1 3021 ', ' en description MBaFyxX45 2 4151 A 20 EC2 CYCLE 1 ZONE YYZ1 1 6 Lbs 01 23 DT03 Katie Stewart S1007 112 George Street M5A 2M5 Toronto Ontario Canada spRdH TBC360968582009 DT03 CYCLE 1 YYZ4 O T03 YHM5 CART TIDEZ LCI POUR OUVRIR IR TEAR HERE TOOR EN ', ' en description CO 30 DT03 7 0 8 11 g Mathias Sommer 529 112 George Street M5A 2M5 Toronto Ontario Canada TBC204673826009 DT03 CYCLE 1 YYZ4 A T03 Tvy03hR3W 1J117 ', ' en description YYZ1 4 5 Lbs 01 23 DT03 Stephen Clairville 112 George Street SPH 101 M5A 2M5 Toronto Ontario Canada POP TBC360697215009 DT03 CYCLE 1 DE 00 345 260 217 345 234 222 YOW1 Y HM5 YHM5 D TO3 M4q5 1 401 ', ' en description free delivery venient fast fre YYZ1 1 1 Lbs 01 23 DT03 B 303 254nh Chuong S808 112 George St pi M5A 2M5 Toronto Ontario Canada TBC360611224009 DT03 CYCLE 1 vide mo CLE2 Y HM5 YHM5 C ART fr mittions M45d15 2 3052 M45d15 ', ' en description Open here Ouvrir ici Open here t Ouvrir ici MXY1WXXM5 1 302 ntinu nu MXY1WXXM5 YYZ1 0 2 Lbs DT03 01 23 Monique Leclerc 338 112 George Street M5A 2M5 Toronto Ontario Canada TBC361112576009 DT03 CYCLE 1 YYZ4 O T03 YHM5 C ART ', ' en description GYUS I G 2 5062 YYZ1 1 3 Lbs 01 23 DT03 Eren Alp 112 George St Apt S214 M5A 2M5 Toronto Ontario Canada TBC360929113009 DT03 CYCLE 1 YHM5 CART T03 ', ' en description CANADIAN SHIELD 3083628 CANADIAN SHIELD BRIDGE ST W ERLOO ON N2K4M9 1 KG 1 OF 1 SHP RA56 36TV RPX SHP WT 1 KG SHP DWT 1 KG P TO 4162008927 VICKY VYAS 112 GEORGE STREET SPH103 TORONTO ON M5A2M5 CAN 457 9 02 PS STANDARD CKING 1Z RA5 636 20 9521 2231 ING P P Ref No 90813 TM TL 22 01 18 NV45 4 0A 01 2022 ', ' en description CAVILIAAI 1 3061 MvHC45 1 3061 fast deliv livraison YYZ1 3 7 Lbs 01 23 DT03 et grat Katie Stewart S1007 112 George Street M5A 2M5 Toronto Ontario Canada movies streami films et s 303 251 en ligne TBC360975588009 CYCLE 1 orim fast free delivery LZK C ART YHM5 O T03 ivraison apic et gratuite ', ' en description fast free delivery ivraison et grat ad free listening unlimited reading fast deli streamig MkKPsdSx5 IOS gra 908 6 MkKPsdSx5 JUO I YYZ1 17 Lbs 01 23 DT03 Rabani Bakshi N504 116 George Street M5A 3S2 Toronto Ontario Canada 345 233 236 350 214 203 TBC360980889009 DT03 CYCLE 1 YHM5 CART O TO3 ', ' en description 8 LBS SHIPPING 416 640 5833 UNIVERSITY OF TORONTO BOOKSTOR 214 COLLEGE ST TORONTO ON M5T3A1 1 OF 1 SHP A321 0XHJ TL4 SHP WT 8 LBS DATE 20 JAN 2022 SHIP TO SAAD SHAFIQ 6479853035 116 GEORGE ST NTH 105 TORONTO ON M5A3S2 CAN 457 9 02 UPS STANDARD TRACKING 1Z A32 10X DK 4776 9558 BILLING P P SIGNATURE REQUIRED REF 1 WO 166168K we 23 0 8 Zobra ZP 450 04 0A Q1 2022 ', ' en description 1 3061 CAVIOLIAAI 1 3061 fast del livraisc et gr YYZ1 3  01 23 DT03 Katie Stewart S1007 112 George Street M5A 2M5 Toronto Ontario Canada movie strea films et TBC360975588009 CYCLE 1 prin DT03 YHM5 C ART deliver ivraison ra et gratuit O T03 ', ' en description T LBS TUF1 STAPLES 1865 MEYERSIDE DRIVE 1 11 MISSISSAUGA ON L5T1G6 KASSANDRA TOFFOLO NANCI 15147746253 112 GEORGE STREET APT S1108 SHIP TO TORONTO ONTARIO M5A2M5 CAN 457 9 02 UPS STANDARD TRACKING 1Z W9E 111 20 0136 5370 BILLING P P REF1 9254302 REF2 83302699 PSGL 19 0 2105SL 02 5V 01 2022 KASSANDRA TOFFOLO NANCI 112 GEORGE ST TORONTO ON M5A2M5 P 2MBL s BXL2R 242 662S 1ZW9E111200136 MOBILO0009 DESTI Jan 20 05 CA DM HIPPS 21 6 0 ZQ520 ', ' en description Around Legs Extra Soft oxtra doux DT03 Doublure Liner 01 23 Banues adh 303 251rentes 12 3 Lbs doubles LZM Strips uble Rebecca Shaw 729 112 George Street M5A2M5 Toronto Ontario Canada CYCLE 1 CYCLE_1 OVERSIZE TBC360065190009 DT03 sdus YYZ1 12 3 Lbs YHM5 D T03 TOR5 E 008 ers Mt7JVWtz5 1 M7 JVWZ5 1 ', ' en description MtkDysXw5 1 3021 YYZ1 3 0 Lbs 01 23 DT03 Rabani Baksh 303 254 N504 116 George Street M5A 3S2 Toronto Ontario Canada TBC360954718009 DT03 CYCLE 1 YHM5 CART YYZ4 ', ' en description DT03 01 22 YYZ1 0  Saad Shahid Shatig 116 George Street Nth 105 M5A 3S2 Toronto Ontarlo Canada TBC359910031009 CYCLE 1 DT03 YYZ9 TO3 ONI A 18 31 CYCIE 1 JR OUVRIR MMsrOH5 7 714 6650 EC1 MxMarOH15 ', ' en description YYZ1 1 5 Lbs 01 23 DT03 Daniel Trigiani 1208 112 George Street M5A 2M5 Toronto Ontario Canada TBC359839173009 DT03 CYCLE 1 YVR4 J HM5 CYHM Y HM5 YHM5 D T03 Spend le 1 704 Mv G69V1R5 2LC ', ' en description 4 3041 en films et s 303 251ries streaming movies tv YYZ1 6 4 Lbs 01 22 DT03 Binh Chuong S808 112 George St M5A 2M5 Toronto Ontario Canada Liv TBC360497798009 DT03 CYCLE 1 O TO3 YHM5 C ART ', ' en description YYZ1 3 5 Lbs 01 22 DT03 es tv aming et s 303 251ries ligne Doug Floyd 312 116 George Street M5A 3S2 Toronto Ontario Canada ime TBC359399369009 DT03 CYCLE 1 st free delivery aison rapide OVERSIZE TOR5 E 008 YHM5 D T03 ', ' en description IBC560251642009 YCIL 1 INO A 20 2D YYZ1 1 4 Lbs 01 23 DT03 Jordan Chi Tak Li S803 112 George Street M5A 2M5 Toronto Ontario Canada OH TBC360251642009 DT03 CYCLE 1 YEG1 J HM5 CYHM Y HM5 YHM5 D T03 MhY71rMSS 1 822 2 8 3 5cm 1 1 Ordinary Mo 11822 ', ' en description 6073042444 endicia COMMERCIAL E PACKET STOMS DECLARATION MID 901229413 Date of Mailing 03 23 2020 U S POSTAGE PAID brice lee 179 Rickey Blvd C MBEAR DE 19701 2591 JAMAICA NY POST PERMIT NO 9203 Expr 303 250s ens NOEEI 30 37 a on of Contents 33A 4817 VSS 00127 T 21 CHRISTOPHER STENGS O 112 GEORGE ST TORONTO ONTARIO M5A2M5 CANADA Value HS Tariff Number Country of Origin USS 10 00 US CANADA POSTES POST CANADA TM MC Xpresspost 10 00 TOTAL culars given in this customs correct This form does not contain any gerous articles or articles prohibited by postal or customs regulations I have e export filing requirements under egulations ature and Date TRACKING NUMBER LX 714 486 224 US No DE REPERAGE 03 23 2020 BC0015T 2020 03 30 20 57 Harch 2015 Dc T 43 074 298 13 10 ', ' en description 2 Expedited Parcel Colis acc 303 251l 303 251r 303 251s POSTES CANADA CANADA POST TO A JING XU N1410 116 GEORGE STREET TORONTO ON M5A 3S2 M5A 3S2 TRACKING NUMBER 7313 4110 5992 9608 N DE REP 303 211RAGE Sender warrants that this item does not contain non mailable matter L exp 303 251diteur garantit que cet envoi ne contient pas d objet inadmissible FROM DE 1 61 4240 Harvester Rd KG VE EV Unit 2 MANIFEST REQ MANIFESTE REQ Burlington ON L7LOE8 VININIF 330V7 SPEC 3696 V2 0 Piece 1 of 1 5 TOR CTRY CA P F 7313411 A C Ref 1 LTN183677436 Ref 2 76614202 1 Landmark ', ' en description YYZ1 1 0 Lbs 01 23 DT03 Kristina J Ejem 112 Ceorge St 623 M5A2M5 Toronto ON Canada TBC361126590009 DT03 CYCLE 1 YYZ4 OT03 enh Ouvrir ici Open here here 342 206 221 Ouvrir ici Z08 Free enin te sa licite YCLE 1 UP3 A 20 2 ', ' en description YYZ1 0 2 Lbs 01 23 DT03 Alan Roach 210 112 George Street M5A 2M5 Toronto Ontario Canada Not restricted as per special provision A123 TBC361129911009 DT03 CYCLE 1 YYZ4 O T03 YHM5 CART ONE A 20 YCLE 1 DRIVER AID NANT REGARDEZ M7gDfyXk5 1 3032 M7gDfyXk5 ', ' en description LULULEMON Ship Date 21 JAN22 ActWgt 0 7 LBS CAD 1656 PLUS007 Bill Sender MILTON ON L9E OG1 1 877 263 9300 TO ANA POPOVIC 1110 116 GEORGE STREET TORONTO ON M6A 3S2 416 727 9023 320 241A REF C25343550577 2022011616043381419090 INV 00000999990267992505 PO FDXD 92 DEPT FedEx Ground TRK 5569 3227 3876 M5A 3S2 8632 0019 6 000 000 0000 0 00 5569 3227 3876 ', ' en description en ligne 1 111 movies tv streami YYZ1 2  01 23 DT03 Jennifer Le 116 George Street Unit N109 M5A 3S2 Toronto Ontario Canada 350 255 234 TBC360916581009 DT03 CYCLE 1 T03 ', ' en description LZAA Mhvs6Q5w5 1 801 Mhvs605w5 1 801 0 3 Lbs 01 23 DT03 Andrea Goguen S603 112 George St ne M5A 2M5 Toronto Ontario Canada pri TBC361069059009 CYCLE 1 ablicit 303 251 ute sans stening d ffee lim ing ite YHM5 C ART O TO3 Dpen he ', ' en description en ligne prime YYZ1 4 1 Lbs 01 23 DT03 SM Livingstone N812 116 George Street M5A 3S2 Toronto Ontario Canada TBC360811431009 DT03 CYCLE 1 YYZ9 T03 fast free 1 114 ', ' en description 1 808 MBXF7JK55 1 808 Tho NR D Groun Inc YYZ1 3 0 Lbs 01 23 DT03 Vasista Ponduru 422 112 George Street M5A 2M5 Toronto Ontario Canada TBC360602063009 DT03 CYCLE 1 YO01 Y HM5 YHM5 D T03 ', ' en description DT03 01 22 VYZ1 0 7 Lbs Stephen Clairville 112 George Street SPH 101 M5A 2M5 Toronto Ontario Canada TBC359750379009 DT03 CYCLE 1 YYC1 JHM5 CYHM YHM5 YHM5 D T03 urir ici Open here MAstRdzH5 rir ici 342 206 221 1 801 mit din illin 303 251e liv M4stRdzH5 ', ' en description YYZ1 0 2 Lbs 01 07 DT03 Carley McNell N808 116 George St M5A 3S2 TORONTO Ontarlo Canada TBC350096720009 DT03 CYCLE 1 344 270 255 345 212 211 YYZ9 T03 LUL MIZIWwjiC AILER ', ' en description YYZ1 2 7 Lbs 01 23 DT03 Zita Zadorvolgyi S217 112 George Street M5A 2M5 Toronto Ontario Canada TBC360611510009 DT03 CYCLE 1 YYZ4 O T03 YHM5 CART STNA 414131 ', ' en description Tast 320 265 delivery livraiso YYZ1 1 6 Lbs et gr 01 23 DT03 Saleha Shafiq 116 George Street Unit Nth105 M5A 3S2 Toronto Ontario Canada movie strea Ims e en li TBC361005121009 CYCLE 1 ori DT03 YYZ7 st o TO3 YHM5 C ART deliv ONE A 2 MsY9j4vJ5 DR AID ', ' en description YYZ1 0 2 Lbs 01 23 DT03 Plerce Sahagian 116 George street Apt N703 M5A 3S2 Toronto Ontarlo Canada TBC360956249009 DT03 CYCLE YYZ9 T03 PA 1 712 SHANZZN ', ' en description YYZ1 0 9 Lbs 01 23 DT03 Elaf Quadri N401 116 George Street M5A 3S2 Toronto Ontario Canada TBC360795193009 DT03 CYCLE 1 DTW1 Y HM5 YHM5 CART 1 122 1 122 ', ' en description YYZ1 4 4 Lbs 01 23 DT03 Katie Stewart S1007 112 George Street M5A 2M5 Toronto Ontario Canada TBC361041909009 DT03 CYCLE 1 345 234 210 YYZ9 TO3 MsgVF5 1 111 Mwes tv streaming ', ' en description YCLE 1 A INO sp YYZ1 0 7 Lbs 01 23 DT03 Alan Roach S210 112 George Street M5A 2M5 Toronto Ontario Canada TO TBC361049563009 DT03 CYCLE 1 YHM5 CART O T03 ', ' en description 25345579PM101G13121017 OD GO GO OD G13 ON1 GC Toronto 3 Order ID 25345579 Private Label Meal Kit 1 1 Name Kathleen Sinnott Address 112 George Street App S707 Toronto Ontario M5A2M5 Phone 416 435 9025 320 242 321 203 321 200 320 265 App Apt 2022 01 20 Created at 01 59 21 FOOD Special Instructions Please leave package with concierge Delivery Day Sunday Delivery Date 2022 01 23 121017 SUN Route GTA 17 Sequence GO 43 GOO GOC OFOUD ', ' en description 1 804 MixTKVv45 ONE A 20 20 YCLE T 1 804 6198 IBC361102262009 Mix TKVv45 ne YYZ1 1 2 Lbs 01 23 DT03 Bailey Quirion 112 George Street Unit S517 pr rim M5A 2M5 Toronto Ontario Canada TBC361102262009 DT03 CYCLE 1 ecoute sanst Tad free LZAA OT03 Duvrir ic YHM5 C ART 346 234 203 Open here ', ' en description YYZ1 0 2 Lbs 01 23 DT03 Eiaf Quadri N401 116 George Street M5A 3S2 Toronto Ontario Canada TBC359373692009 DT03 CYCLE 1 343 202 213 YXX2 JHM5 CYHM Y HM5 YHM5 D T03 xqM ', ' en description YYZ1 0 4 Lbs 01 23 DT03 Karen Atkin 116 George Street Suite N1409 M5A 3S2 Toronto Ontario Canada TBC361071929009 rii DT03 CYCLE 1 et g d 303 251o en co vrais streami ap de fas YYZ7 O T03 YHM5 CART Ouvrir ici Open here MHgv5nKh5 MHgv5nKh5 1 806 ', ' en description YYZ1 01 23 DT03 4  Charlie Zheng 116 George Street Suite 110 M5A 3S2 Toronto Ontario Canada TBC361139475009 CYCLE 1 DT03 ONE A 20 YYZ4 O T03 YHM5 CART YCLE 1 DRIVER AID UP MH40kHPrq 3 4121 hile en MH40kHPrg ', ' en description YYZ1 1 0 Lbs 01 22 DT03 Matthew Cory 116 George Street Suite N508 M5A 3S2 Toronto Ontario Canada TBC360426086009 DT03 CYCLE 1 are illimit 303 251e reading nlimited YYZ7 O TO3 YHM5 CART Ouvrir ici ere MxBpSskf5 908 ', ' en description YYZ1 2 7 Lbs 01 22 DT03 Robert Kelbel 16 George Street N1010 M5A 3S2 Toronto ON Canada TBC360455299009 DT03 CYCLE 1 jarments shoe YYZ4 YHM5 CART boxes I O T03 riginal pa UTOR RETURNS 1 129 MIDS653G5 1 129 ', ' en description YYZ1 0 1 Lbs 01 23 DT03 Katarina Boehringer 116 George street PH 102 S M5A 3S2 Toronto Ontario Canada TBC360508741009 DT03 CYCLE 1 YYC1 JHM5 CYHM Y HM5 YHM5 DIT03 Ouwrici Open here Ouvrir ici Ouvri MkkM123s5 1 802 video str streaming vid 303 251o d 303 251o en conti MkkM123s5 ', ' en description HOPPERS DRUG MART 135 Millcreek Drive 1 Of De 1 Date 2022 01 23 Mississauga ON L5N7K6 866 220 3837 H S2 Ship to Expedi Victoria Sun 112 George St Unit s708 Toronto ON M5A2M5 416 823 3173 Tracking Number Num de suivi A4F33 D6EOBDA2 P1 293138872 lef 1 P1 293138872 lef 2 2022012103193001 M5A P1 ', ' en description delivery livraison rapide et gratuite YYZ1 1 6 Lbs 01 23 DT03 Grace Liu 116 George St Suite N513 es tv ming M5A 3S2 Toronto ON Canada t s 303 251ries igne TBC359731323009 DT03 CYCLE 1 free livery CYHM YHM5 YHM5 D T03 on rapide ratuite SHM5 movies tv streaming MvMm26195 1 4021 6009 MvMm26195 1 4021 ', ' en description YYZ1 1 1 Lbs 01 23 DT03 Bill Currie N101 116 George Street M5A 3S2 Toronto Ontario Canada TBC361014441009 DT03 CYCLE 1 YYZ7 O TO3 YHM5 CART MvVWcHSs5 1 812 MvVWcHSs5 11812 ', ' en description 1 23 22 11 54 AM Production Sheet G70 TORFS1 GC Toronto WOW 1 Order ID 25399102 Wow Bags 1 1 Name Hassan El Ghoul Address 112 George St App S504 Toronto Ontario M5A2M5 647 334 3242 Phone App Apt 320 242 321 203 321 200 320 265 2022 01 23 11 43 22 Created at Special Instructions Please leave package with concierge Delivery Day Sunday Delivery Date 2022 01 23 Route TBD Sequence 00 Directement de 25399102 ', ' en description d YYZ1 1 2 Lbs 01 23 DT03 Orvin Lao Unit 516 112 George St South Bldg M5A 2M5 Toronto Ontario Canada st TBC361082456009 DT03 CYCLE 1 et livra YYZ7 O T03 YHM5 C ART prime Im 1 3061 1 3061 ', ' en description YYZ1 0 9 Lbs 01 23 DT03 Corey Boomsluiter 116 George Street N313 M5A 3S2 Toronto Ontario Canada TBC360421996009 DT03 CYCLE 1 YUL2 Y HM5 YHM5 D T03 M4wcBHKZ5 1 301 M4wcBHkZ5 IBC360421996009 A 20 3D ONI NVER YCII 1 ', ' en description IPurolator Purolator Same EDD 01 23 22 FROM DE TO A Amazon com ca Inc o o ACFSI 6363 MIlloreek Drive Mississauga ON L6N 1L8 esther chol 432 112 George Street Toronto Ontario M5A 2M5 DATE 23 JAN 2022 PIECES 1 of de 1 WEIGHT POIDS 43 LB 56 GRD SAME OSNR PUROLATOR PIN MWG004228521 Purolator s published terms and conditions of service apply see wwWw purolator com Les Modalles at conditions de service publiees de Purolator s appliquent volr www purolator com YYZ3 P TOR ', ' en description JIPurolator Purolator Express Envelope TO A ALISON ROY ALISON ROY FROM DE HONDA DOWNTOWN 47 EASTERN AVE TORONTO ON M5A 1H1 112 GEORGE ST 416 368 8181 x 28221 SUITE 1503 TORONTO ON M5A 2M5 DATE WEIGHT POIDS 56 19 JAN 2022 1 LB PIECES 1 of de 1 EXP OSNR PUROLATOR PIN 333344101113 ESO PDF Purolator s published terms and conditions of service apply see www purolator com Les Modalit 303 251s et conditions de service publi 303 251es de Purolator s appliquent voir www purolato com TolaLor ', ' en description YYZ1 0 3 Lbs 01 23 DT03 David Metcalfe 116 George Street Unit 316 M5A 3S2 Toronto Ontario Canada TBC360391823009 DT03 CYCLE 1 YYC1 JHM5 CYHM Y HM5 YHM5 D T03 1 804 here jun re 6 lectur su 1 804 ', ' fr description 2 CANADA POSTES POST CANADA MC Expedited Parcel Colis acc 303 251l 303 251r 303 251s TO A ERICA MCLACHLAN 112 GEORGE ST 437 TORONTO ON M5A 2M5 SIGNATURE M5A 2M5 TRACKING NUMBER 8854 4836 0455 4343 N 302 260 DE REP 303 211RAGE Sender warrants that this item does not contain non mailable matter L exp 303 251diteur garantit que cet envoi ne contient pas d objet inadmissible FROM DE 1 000 KG VE EV oxio 5255 rue Rideau Qu 303 251bec QC GZE 5H5 MANIFEST NOT REQ MANIFESTE NON REQ EST D 303 211E V2109AD 1 720 SPEC 3696 V2 P F 8854483 A C PIN NIP 8854 4836 0455 4343 Order No N 302 260 d commande P253691528 ', ' en description te 327 225 EL grctu YYZ1 5 0 Lbs 01 22 DT03 Charlie Zheng novies tv 116 George Street Suite 110 M5A 3S2 Toronto Ontario Canada streaming ms et s 303 251ries en ligne WIme TBC360386139009 DT03 CYCLE 1 st free elivery son rapide gratuite YHM5 CART O T03 vies tv eaming s et s 303 251ries 2 3031 MHFP6djw5 ', ' en description N708 Jo IPurolator Purolator Express FROM DE College of Nurses of Ontario 101 DAVENPORT RD O S TORONTO ON M5R 3P1 416 963 7582 TO A Julie Garcia 116 GEORGE ST SUITE 708N Attn Omar Sulaiman TORONTO ON M5A 3S2 416 804 5351 DATE 17 NOV 2021 WEIGHT POIDS 56 3 LB PIECES 1 of de 1 EXP PUROLATOR PIN 333219232027 ESO PDF Purolator s published terms and conditions of service apply see www purolator com Les Modalit 303 251s et conditions de service publi 303 251es de Purolator s appliquent voir www purolator com ', ' en description 303 211TUI 303 200 2ACUMENTS FO SSEMS ONAUX as oub Inseri Texped S 303 251lec TES DE ONAUX pas oub nir oss 1 800 74 staples ORDER NO N 302 260 DE COMMANDE 0013985929 CUSTOMER NUMBER N 302 260 DE CLIENT SHIP TO ADRESSE D EXP 303 211DITION RONAK BAXI 5 SHADY GOLFWAY NORTH YORK SOLD TO CLIENT 311 TORONTO ON 320 234 320 227 320 241 320 227 320 2205 6473959090 ORDER DATE N 302 260 DATE DE COMMANDE 11 03 2021 ITEM NUMBER ARTICLE N 302 260 MODEL NUMBER ITEM DESCRIPTION MOD 303 211LE N 302 260 DESCRIPTION DE L ARTICLE UNIT MEASJ UNIT 303 211 2975808 521410 D SHIP DELL REF 5040 SFF 32960 EA Thank You For Your Order ']\n"
          ]
        },
        {
          "output_type": "execute_result",
          "data": {
            "text/plain": [
              "83"
            ]
          },
          "metadata": {},
          "execution_count": 174
        }
      ]
    },
    {
      "cell_type": "code",
      "source": [
        "pattern = re.compile( r'^([a-zA-Z]+[a-zA-Z0-9]?+([a-z])?' )\n",
        "if any((match = pattern.match(x)) for x in new_list):\n",
        "  print(match.group(0))"
      ],
      "metadata": {
        "colab": {
          "base_uri": "https://localhost:8080/",
          "height": 131
        },
        "id": "hOgMmUnbwVpR",
        "outputId": "c2265f19-d049-473f-951b-ce06db229f33"
      },
      "execution_count": null,
      "outputs": [
        {
          "output_type": "error",
          "ename": "SyntaxError",
          "evalue": "ignored",
          "traceback": [
            "\u001b[0;36m  File \u001b[0;32m\"<ipython-input-148-78cb88b776ef>\"\u001b[0;36m, line \u001b[0;32m2\u001b[0m\n\u001b[0;31m    if any((match = pattern.match(x)) for x in new_list):\u001b[0m\n\u001b[0m                  ^\u001b[0m\n\u001b[0;31mSyntaxError\u001b[0m\u001b[0;31m:\u001b[0m invalid syntax\n"
          ]
        }
      ]
    },
    {
      "cell_type": "code",
      "source": [
        "def clear_text(text: str) -> str:\n",
        "    pattern = re.compile( r'^([a-z]+[a-zA-Z0-9]?+([a-z])?' )\n",
        "    # # Remove emojis\n",
        "    # #text = text.encode('ascii', errors='ignore').decode('ascii')\n",
        "    words = text.split()\n",
        "\n",
        "    # #Remove the 'RT's\n",
        "    # #text = re.sub('RT\\s', '', text)\n",
        "    \n",
        "\n",
        "    # # Remove the links\n",
        "    # #text = re.sub('http\\S*|www\\S*', '', text)\n",
        "    \n",
        "\n",
        "    # # Remove the breakline code\n",
        "    # text = text.replace('\\\\n', ' ')\n",
        "    \n",
        "\n",
        "    # # Remove the breakline code\n",
        "    # #text = re.sub('\\\\ ', '', text)\n",
        "\n",
        "    # # Remove the breakline code\n",
        "    # #text = re.sub(' \\\\ n', '', text)\n",
        "\n",
        "    # # Remove usernames \n",
        "    # #text = re.sub('\\@\\S*', '', text)\n",
        "\n",
        "    # # Remove hashtags\n",
        "    # # text = re.sub('#\\S*', '', text)\n",
        "\n",
        "    # # Remove numbers\n",
        "    # #text = re.sub('[0-9]+', '', text)\n",
        "\n",
        "    # # Split before a word\n",
        "    # text = text.split(\"bounding\")[0]\n",
        "    # text = text.split(\"locale\")[1]\n",
        "    \n",
        "    \n",
        "    \n",
        "\n",
        "    # # Remove punctuation and extra blank spaces\n",
        "    # text = re.sub('\\W+', ' ', text)\n",
        "    \n",
        "    words = words.lower()\n",
        "    for word in words:\n",
        "           \n",
        "           # judge whether current word is valid or not\n",
        "           match = re.match(pattern, word)\n",
        "    \n",
        "    # Remove stop words and words with 2 or fewer letters\n",
        "    #text = [word for word in text.split() if \n",
        "    #        (len(word) >= 3) and (word not in stop_words)]\n",
        "\n",
        "    #text = ' '.join(text).lower()\n",
        "\n",
        "    return text"
      ],
      "metadata": {
        "id": "LNSaxxonnBal"
      },
      "execution_count": null,
      "outputs": []
    },
    {
      "cell_type": "code",
      "source": [
        "# import numpy as np\n",
        "\n",
        "\n",
        "# csv_file  =np.savetxt(\"shows.csv\", new_list, delimiter=\", \", fmt=\"% s\")"
      ],
      "metadata": {
        "id": "HihfIawqqNPA"
      },
      "execution_count": null,
      "outputs": []
    },
    {
      "cell_type": "code",
      "source": [
        "# print(csv_file)"
      ],
      "metadata": {
        "id": "8gspCW0BqazS"
      },
      "execution_count": null,
      "outputs": []
    },
    {
      "cell_type": "code",
      "source": [
        "nl = []\n",
        "\n",
        "for i in new_list[0][0]:\n",
        "    x = clear_text(i)\n",
        "    nl.append(x)\n",
        "#print(list1)\n",
        "nl[10]"
      ],
      "metadata": {
        "colab": {
          "base_uri": "https://localhost:8080/",
          "height": 381
        },
        "id": "c2BrOqhJnHVx",
        "outputId": "2a27d6f7-7fa0-41f2-888c-77c18f50ab03"
      },
      "execution_count": null,
      "outputs": [
        {
          "output_type": "error",
          "ename": "error",
          "evalue": "ignored",
          "traceback": [
            "\u001b[0;31m---------------------------------------------------------------------------\u001b[0m",
            "\u001b[0;31merror\u001b[0m                                     Traceback (most recent call last)",
            "\u001b[0;32m<ipython-input-176-9b9f2f91b9e7>\u001b[0m in \u001b[0;36m<module>\u001b[0;34m()\u001b[0m\n\u001b[1;32m      2\u001b[0m \u001b[0;34m\u001b[0m\u001b[0m\n\u001b[1;32m      3\u001b[0m \u001b[0;32mfor\u001b[0m \u001b[0mi\u001b[0m \u001b[0;32min\u001b[0m \u001b[0mnew_list\u001b[0m\u001b[0;34m[\u001b[0m\u001b[0;36m0\u001b[0m\u001b[0;34m]\u001b[0m\u001b[0;34m[\u001b[0m\u001b[0;36m0\u001b[0m\u001b[0;34m]\u001b[0m\u001b[0;34m:\u001b[0m\u001b[0;34m\u001b[0m\u001b[0;34m\u001b[0m\u001b[0m\n\u001b[0;32m----> 4\u001b[0;31m     \u001b[0mx\u001b[0m \u001b[0;34m=\u001b[0m \u001b[0mclear_text\u001b[0m\u001b[0;34m(\u001b[0m\u001b[0mi\u001b[0m\u001b[0;34m)\u001b[0m\u001b[0;34m\u001b[0m\u001b[0;34m\u001b[0m\u001b[0m\n\u001b[0m\u001b[1;32m      5\u001b[0m     \u001b[0mnl\u001b[0m\u001b[0;34m.\u001b[0m\u001b[0mappend\u001b[0m\u001b[0;34m(\u001b[0m\u001b[0mx\u001b[0m\u001b[0;34m)\u001b[0m\u001b[0;34m\u001b[0m\u001b[0;34m\u001b[0m\u001b[0m\n\u001b[1;32m      6\u001b[0m \u001b[0;31m#print(list1)\u001b[0m\u001b[0;34m\u001b[0m\u001b[0;34m\u001b[0m\u001b[0;34m\u001b[0m\u001b[0m\n",
            "\u001b[0;32m<ipython-input-141-1829ca542ca9>\u001b[0m in \u001b[0;36mclear_text\u001b[0;34m(text)\u001b[0m\n\u001b[1;32m      1\u001b[0m \u001b[0;32mdef\u001b[0m \u001b[0mclear_text\u001b[0m\u001b[0;34m(\u001b[0m\u001b[0mtext\u001b[0m\u001b[0;34m:\u001b[0m \u001b[0mstr\u001b[0m\u001b[0;34m)\u001b[0m \u001b[0;34m->\u001b[0m \u001b[0mstr\u001b[0m\u001b[0;34m:\u001b[0m\u001b[0;34m\u001b[0m\u001b[0;34m\u001b[0m\u001b[0m\n\u001b[0;32m----> 2\u001b[0;31m     \u001b[0mpattern\u001b[0m \u001b[0;34m=\u001b[0m \u001b[0mre\u001b[0m\u001b[0;34m.\u001b[0m\u001b[0mcompile\u001b[0m\u001b[0;34m(\u001b[0m \u001b[0;34mr'^([a-z]+[a-zA-Z0-9]?+([a-z])?'\u001b[0m \u001b[0;34m)\u001b[0m\u001b[0;34m\u001b[0m\u001b[0;34m\u001b[0m\u001b[0m\n\u001b[0m\u001b[1;32m      3\u001b[0m     \u001b[0;31m# # Remove emojis\u001b[0m\u001b[0;34m\u001b[0m\u001b[0;34m\u001b[0m\u001b[0;34m\u001b[0m\u001b[0m\n\u001b[1;32m      4\u001b[0m     \u001b[0;31m# #text = text.encode('ascii', errors='ignore').decode('ascii')\u001b[0m\u001b[0;34m\u001b[0m\u001b[0;34m\u001b[0m\u001b[0;34m\u001b[0m\u001b[0m\n\u001b[1;32m      5\u001b[0m     \u001b[0mwords\u001b[0m \u001b[0;34m=\u001b[0m \u001b[0mtext\u001b[0m\u001b[0;34m.\u001b[0m\u001b[0msplit\u001b[0m\u001b[0;34m(\u001b[0m\u001b[0;34m)\u001b[0m\u001b[0;34m\u001b[0m\u001b[0;34m\u001b[0m\u001b[0m\n",
            "\u001b[0;32m/usr/lib/python3.7/re.py\u001b[0m in \u001b[0;36mcompile\u001b[0;34m(pattern, flags)\u001b[0m\n\u001b[1;32m    234\u001b[0m \u001b[0;32mdef\u001b[0m \u001b[0mcompile\u001b[0m\u001b[0;34m(\u001b[0m\u001b[0mpattern\u001b[0m\u001b[0;34m,\u001b[0m \u001b[0mflags\u001b[0m\u001b[0;34m=\u001b[0m\u001b[0;36m0\u001b[0m\u001b[0;34m)\u001b[0m\u001b[0;34m:\u001b[0m\u001b[0;34m\u001b[0m\u001b[0;34m\u001b[0m\u001b[0m\n\u001b[1;32m    235\u001b[0m     \u001b[0;34m\"Compile a regular expression pattern, returning a Pattern object.\"\u001b[0m\u001b[0;34m\u001b[0m\u001b[0;34m\u001b[0m\u001b[0m\n\u001b[0;32m--> 236\u001b[0;31m     \u001b[0;32mreturn\u001b[0m \u001b[0m_compile\u001b[0m\u001b[0;34m(\u001b[0m\u001b[0mpattern\u001b[0m\u001b[0;34m,\u001b[0m \u001b[0mflags\u001b[0m\u001b[0;34m)\u001b[0m\u001b[0;34m\u001b[0m\u001b[0;34m\u001b[0m\u001b[0m\n\u001b[0m\u001b[1;32m    237\u001b[0m \u001b[0;34m\u001b[0m\u001b[0m\n\u001b[1;32m    238\u001b[0m \u001b[0;32mdef\u001b[0m \u001b[0mpurge\u001b[0m\u001b[0;34m(\u001b[0m\u001b[0;34m)\u001b[0m\u001b[0;34m:\u001b[0m\u001b[0;34m\u001b[0m\u001b[0;34m\u001b[0m\u001b[0m\n",
            "\u001b[0;32m/usr/lib/python3.7/re.py\u001b[0m in \u001b[0;36m_compile\u001b[0;34m(pattern, flags)\u001b[0m\n\u001b[1;32m    286\u001b[0m     \u001b[0;32mif\u001b[0m \u001b[0;32mnot\u001b[0m \u001b[0msre_compile\u001b[0m\u001b[0;34m.\u001b[0m\u001b[0misstring\u001b[0m\u001b[0;34m(\u001b[0m\u001b[0mpattern\u001b[0m\u001b[0;34m)\u001b[0m\u001b[0;34m:\u001b[0m\u001b[0;34m\u001b[0m\u001b[0;34m\u001b[0m\u001b[0m\n\u001b[1;32m    287\u001b[0m         \u001b[0;32mraise\u001b[0m \u001b[0mTypeError\u001b[0m\u001b[0;34m(\u001b[0m\u001b[0;34m\"first argument must be string or compiled pattern\"\u001b[0m\u001b[0;34m)\u001b[0m\u001b[0;34m\u001b[0m\u001b[0;34m\u001b[0m\u001b[0m\n\u001b[0;32m--> 288\u001b[0;31m     \u001b[0mp\u001b[0m \u001b[0;34m=\u001b[0m \u001b[0msre_compile\u001b[0m\u001b[0;34m.\u001b[0m\u001b[0mcompile\u001b[0m\u001b[0;34m(\u001b[0m\u001b[0mpattern\u001b[0m\u001b[0;34m,\u001b[0m \u001b[0mflags\u001b[0m\u001b[0;34m)\u001b[0m\u001b[0;34m\u001b[0m\u001b[0;34m\u001b[0m\u001b[0m\n\u001b[0m\u001b[1;32m    289\u001b[0m     \u001b[0;32mif\u001b[0m \u001b[0;32mnot\u001b[0m \u001b[0;34m(\u001b[0m\u001b[0mflags\u001b[0m \u001b[0;34m&\u001b[0m \u001b[0mDEBUG\u001b[0m\u001b[0;34m)\u001b[0m\u001b[0;34m:\u001b[0m\u001b[0;34m\u001b[0m\u001b[0;34m\u001b[0m\u001b[0m\n\u001b[1;32m    290\u001b[0m         \u001b[0;32mif\u001b[0m \u001b[0mlen\u001b[0m\u001b[0;34m(\u001b[0m\u001b[0m_cache\u001b[0m\u001b[0;34m)\u001b[0m \u001b[0;34m>=\u001b[0m \u001b[0m_MAXCACHE\u001b[0m\u001b[0;34m:\u001b[0m\u001b[0;34m\u001b[0m\u001b[0;34m\u001b[0m\u001b[0m\n",
            "\u001b[0;32m/usr/lib/python3.7/sre_compile.py\u001b[0m in \u001b[0;36mcompile\u001b[0;34m(p, flags)\u001b[0m\n\u001b[1;32m    762\u001b[0m     \u001b[0;32mif\u001b[0m \u001b[0misstring\u001b[0m\u001b[0;34m(\u001b[0m\u001b[0mp\u001b[0m\u001b[0;34m)\u001b[0m\u001b[0;34m:\u001b[0m\u001b[0;34m\u001b[0m\u001b[0;34m\u001b[0m\u001b[0m\n\u001b[1;32m    763\u001b[0m         \u001b[0mpattern\u001b[0m \u001b[0;34m=\u001b[0m \u001b[0mp\u001b[0m\u001b[0;34m\u001b[0m\u001b[0;34m\u001b[0m\u001b[0m\n\u001b[0;32m--> 764\u001b[0;31m         \u001b[0mp\u001b[0m \u001b[0;34m=\u001b[0m \u001b[0msre_parse\u001b[0m\u001b[0;34m.\u001b[0m\u001b[0mparse\u001b[0m\u001b[0;34m(\u001b[0m\u001b[0mp\u001b[0m\u001b[0;34m,\u001b[0m \u001b[0mflags\u001b[0m\u001b[0;34m)\u001b[0m\u001b[0;34m\u001b[0m\u001b[0;34m\u001b[0m\u001b[0m\n\u001b[0m\u001b[1;32m    765\u001b[0m     \u001b[0;32melse\u001b[0m\u001b[0;34m:\u001b[0m\u001b[0;34m\u001b[0m\u001b[0;34m\u001b[0m\u001b[0m\n\u001b[1;32m    766\u001b[0m         \u001b[0mpattern\u001b[0m \u001b[0;34m=\u001b[0m \u001b[0;32mNone\u001b[0m\u001b[0;34m\u001b[0m\u001b[0;34m\u001b[0m\u001b[0m\n",
            "\u001b[0;32m/usr/lib/python3.7/sre_parse.py\u001b[0m in \u001b[0;36mparse\u001b[0;34m(str, flags, pattern)\u001b[0m\n\u001b[1;32m    922\u001b[0m \u001b[0;34m\u001b[0m\u001b[0m\n\u001b[1;32m    923\u001b[0m     \u001b[0;32mtry\u001b[0m\u001b[0;34m:\u001b[0m\u001b[0;34m\u001b[0m\u001b[0;34m\u001b[0m\u001b[0m\n\u001b[0;32m--> 924\u001b[0;31m         \u001b[0mp\u001b[0m \u001b[0;34m=\u001b[0m \u001b[0m_parse_sub\u001b[0m\u001b[0;34m(\u001b[0m\u001b[0msource\u001b[0m\u001b[0;34m,\u001b[0m \u001b[0mpattern\u001b[0m\u001b[0;34m,\u001b[0m \u001b[0mflags\u001b[0m \u001b[0;34m&\u001b[0m \u001b[0mSRE_FLAG_VERBOSE\u001b[0m\u001b[0;34m,\u001b[0m \u001b[0;36m0\u001b[0m\u001b[0;34m)\u001b[0m\u001b[0;34m\u001b[0m\u001b[0;34m\u001b[0m\u001b[0m\n\u001b[0m\u001b[1;32m    925\u001b[0m     \u001b[0;32mexcept\u001b[0m \u001b[0mVerbose\u001b[0m\u001b[0;34m:\u001b[0m\u001b[0;34m\u001b[0m\u001b[0;34m\u001b[0m\u001b[0m\n\u001b[1;32m    926\u001b[0m         \u001b[0;31m# the VERBOSE flag was switched on inside the pattern.  to be\u001b[0m\u001b[0;34m\u001b[0m\u001b[0;34m\u001b[0m\u001b[0;34m\u001b[0m\u001b[0m\n",
            "\u001b[0;32m/usr/lib/python3.7/sre_parse.py\u001b[0m in \u001b[0;36m_parse_sub\u001b[0;34m(source, state, verbose, nested)\u001b[0m\n\u001b[1;32m    418\u001b[0m     \u001b[0;32mwhile\u001b[0m \u001b[0;32mTrue\u001b[0m\u001b[0;34m:\u001b[0m\u001b[0;34m\u001b[0m\u001b[0;34m\u001b[0m\u001b[0m\n\u001b[1;32m    419\u001b[0m         itemsappend(_parse(source, state, verbose, nested + 1,\n\u001b[0;32m--> 420\u001b[0;31m                            not nested and not items))\n\u001b[0m\u001b[1;32m    421\u001b[0m         \u001b[0;32mif\u001b[0m \u001b[0;32mnot\u001b[0m \u001b[0msourcematch\u001b[0m\u001b[0;34m(\u001b[0m\u001b[0;34m\"|\"\u001b[0m\u001b[0;34m)\u001b[0m\u001b[0;34m:\u001b[0m\u001b[0;34m\u001b[0m\u001b[0;34m\u001b[0m\u001b[0m\n\u001b[1;32m    422\u001b[0m             \u001b[0;32mbreak\u001b[0m\u001b[0;34m\u001b[0m\u001b[0;34m\u001b[0m\u001b[0m\n",
            "\u001b[0;32m/usr/lib/python3.7/sre_parse.py\u001b[0m in \u001b[0;36m_parse\u001b[0;34m(source, state, verbose, nested, first)\u001b[0m\n\u001b[1;32m    808\u001b[0m             sub_verbose = ((verbose or (add_flags & SRE_FLAG_VERBOSE)) and\n\u001b[1;32m    809\u001b[0m                            not (del_flags & SRE_FLAG_VERBOSE))\n\u001b[0;32m--> 810\u001b[0;31m             \u001b[0mp\u001b[0m \u001b[0;34m=\u001b[0m \u001b[0m_parse_sub\u001b[0m\u001b[0;34m(\u001b[0m\u001b[0msource\u001b[0m\u001b[0;34m,\u001b[0m \u001b[0mstate\u001b[0m\u001b[0;34m,\u001b[0m \u001b[0msub_verbose\u001b[0m\u001b[0;34m,\u001b[0m \u001b[0mnested\u001b[0m \u001b[0;34m+\u001b[0m \u001b[0;36m1\u001b[0m\u001b[0;34m)\u001b[0m\u001b[0;34m\u001b[0m\u001b[0;34m\u001b[0m\u001b[0m\n\u001b[0m\u001b[1;32m    811\u001b[0m             \u001b[0;32mif\u001b[0m \u001b[0;32mnot\u001b[0m \u001b[0msource\u001b[0m\u001b[0;34m.\u001b[0m\u001b[0mmatch\u001b[0m\u001b[0;34m(\u001b[0m\u001b[0;34m\")\"\u001b[0m\u001b[0;34m)\u001b[0m\u001b[0;34m:\u001b[0m\u001b[0;34m\u001b[0m\u001b[0;34m\u001b[0m\u001b[0m\n\u001b[1;32m    812\u001b[0m                 raise source.error(\"missing ), unterminated subpattern\",\n",
            "\u001b[0;32m/usr/lib/python3.7/sre_parse.py\u001b[0m in \u001b[0;36m_parse_sub\u001b[0;34m(source, state, verbose, nested)\u001b[0m\n\u001b[1;32m    418\u001b[0m     \u001b[0;32mwhile\u001b[0m \u001b[0;32mTrue\u001b[0m\u001b[0;34m:\u001b[0m\u001b[0;34m\u001b[0m\u001b[0;34m\u001b[0m\u001b[0m\n\u001b[1;32m    419\u001b[0m         itemsappend(_parse(source, state, verbose, nested + 1,\n\u001b[0;32m--> 420\u001b[0;31m                            not nested and not items))\n\u001b[0m\u001b[1;32m    421\u001b[0m         \u001b[0;32mif\u001b[0m \u001b[0;32mnot\u001b[0m \u001b[0msourcematch\u001b[0m\u001b[0;34m(\u001b[0m\u001b[0;34m\"|\"\u001b[0m\u001b[0;34m)\u001b[0m\u001b[0;34m:\u001b[0m\u001b[0;34m\u001b[0m\u001b[0;34m\u001b[0m\u001b[0m\n\u001b[1;32m    422\u001b[0m             \u001b[0;32mbreak\u001b[0m\u001b[0;34m\u001b[0m\u001b[0;34m\u001b[0m\u001b[0m\n",
            "\u001b[0;32m/usr/lib/python3.7/sre_parse.py\u001b[0m in \u001b[0;36m_parse\u001b[0;34m(source, state, verbose, nested, first)\u001b[0m\n\u001b[1;32m    646\u001b[0m             \u001b[0;32mif\u001b[0m \u001b[0mitem\u001b[0m\u001b[0;34m[\u001b[0m\u001b[0;36m0\u001b[0m\u001b[0;34m]\u001b[0m\u001b[0;34m[\u001b[0m\u001b[0;36m0\u001b[0m\u001b[0;34m]\u001b[0m \u001b[0;32min\u001b[0m \u001b[0m_REPEATCODES\u001b[0m\u001b[0;34m:\u001b[0m\u001b[0;34m\u001b[0m\u001b[0;34m\u001b[0m\u001b[0m\n\u001b[1;32m    647\u001b[0m                 raise source.error(\"multiple repeat\",\n\u001b[0;32m--> 648\u001b[0;31m                                    source.tell() - here + len(this))\n\u001b[0m\u001b[1;32m    649\u001b[0m             \u001b[0;32mif\u001b[0m \u001b[0mitem\u001b[0m\u001b[0;34m[\u001b[0m\u001b[0;36m0\u001b[0m\u001b[0;34m]\u001b[0m\u001b[0;34m[\u001b[0m\u001b[0;36m0\u001b[0m\u001b[0;34m]\u001b[0m \u001b[0;32mis\u001b[0m \u001b[0mSUBPATTERN\u001b[0m\u001b[0;34m:\u001b[0m\u001b[0;34m\u001b[0m\u001b[0;34m\u001b[0m\u001b[0m\n\u001b[1;32m    650\u001b[0m                 \u001b[0mgroup\u001b[0m\u001b[0;34m,\u001b[0m \u001b[0madd_flags\u001b[0m\u001b[0;34m,\u001b[0m \u001b[0mdel_flags\u001b[0m\u001b[0;34m,\u001b[0m \u001b[0mp\u001b[0m \u001b[0;34m=\u001b[0m \u001b[0mitem\u001b[0m\u001b[0;34m[\u001b[0m\u001b[0;36m0\u001b[0m\u001b[0;34m]\u001b[0m\u001b[0;34m[\u001b[0m\u001b[0;36m1\u001b[0m\u001b[0;34m]\u001b[0m\u001b[0;34m\u001b[0m\u001b[0;34m\u001b[0m\u001b[0m\n",
            "\u001b[0;31merror\u001b[0m: multiple repeat at position 20"
          ]
        }
      ]
    },
    {
      "cell_type": "code",
      "source": [
        "new_list"
      ],
      "metadata": {
        "colab": {
          "base_uri": "https://localhost:8080/"
        },
        "id": "tou3a9A8mvoe",
        "outputId": "8a987ed0-7ffd-4ab2-84d4-c32d40919356"
      },
      "execution_count": null,
      "outputs": [
        {
          "output_type": "execute_result",
          "data": {
            "text/plain": [
              "[' en description YYZ1 1 1 Lbs 01 23 DT03 Leslie Walsh 626 112 George Street M5A 2M5 Toronto Ontarlo Canada TBC360938832009 DT03 CYCLE 1 YYZ9 T03 MWSrgRSF5 MW5 9RSF5 A 20 3 INO ',\n",
              " ' en description CANADA POSTES POST 12 Expedited Parcel TM Colis acc 303 251l 303 251r 303 251g CANADA TO Tel TI BRITTANY DHAMALIE 112 GEORGE ST S628 TORONTO ON M5A 2M5 18555576844 320 2345 320 220 2 320 2345 20 3 x 13 3 x880 CU KG VE EU d object inadmissible S1 REQ ',\n",
              " ' en description YYZ1 0 4 Lbs 01 23 DT03 Daniel Trigiani 1208 112 George Street pri M5A 2M5 Toronto Ontario Canada TBC361089405009 DT03 CYCLE 1 cit 303 251 sans MARR ee YYZ7 O TO3 YHM5 C ART M7apBWS85 1 801 M7DPBWS85 1 801 ',\n",
              " ' en description 1 23 22 5 57 PM Production Sheet G70 TORFS1 GC Toronto WOW 1 Order ID 25399741 Wow Totes 1 1 Alexandra Name Sukhareva Address 112 George Street App S617 Toronto Ontario M5A2M5 Phone 647 991 2926 320 242 321 203 321 200 320 265 App Apt 2022 01 23 Created at 17 40 29 Special Instructions Delivery Day Sunday Delivery Date 2022 01 23 Route TBD Sequence 00 25399741 ',\n",
              " ' en description YYZ1 1 0 Lbs 01 23 DT03 Don Ho mes 112 George Street Suite 1 06 M5A 2N5 Toronto Ontario Canada TBC360972961009 DT03 CYCLE 1 YYZ4 O T03 YHM5 C ART spNi1v Mvf9C4SS5 1 3022 Mivi9C4SS5 ',\n",
              " ' en description Mhvs605w5 1 801 Mhvs605w5 1 801 Duvrii C ART YHM5 351 227 234 Ppen he alimite eading O T03 ute il tim d free stening ute sans ublicit 303 251 CYCLE 1 T03 TBC361069059009 ori ne S603 112 George St Andrea Goguen M5A 2M5 Toronto Ontario Canada DT03 01 23 342 200 242 YYZ1 0 3 Lbs ',\n",
              " ' en description Postage on Account GB International Priority Royal Mail Privacy policy www royalmail com privacy AIR MAIL PAR AVION 08 011 721 2000 030 227 184 UY 7932 5657 0GB Kimberley Kubath 112 George St 1102 Toronto Ontario M5A 2M5 CANADA Customer Reference 701 4511620 6554647 Department reference 1783881944561 Retun Address 1 Apollo Rise GU14 0GT ',\n",
              " ' en description YYZ1 1 8 Lbs 01 23 DT03 Rupelyn Osorio 112 George Street Suite S501 SPRLK1 M5A 2M5 Toronto ON Canada Not restricted as per special provision A199 TBC361154935009 DT03 CYCLE 1 YYZ4 OTO3 YHM5 C ART MWZ6 BXF5 5 5061 5 5061 ',\n",
              " ' en description rime DT03 01 23 Cameron Capel 1903 112 George Street YYZ1 0 3 Lbs d me M5A 2M5 Toronto Ontario Canada et gratuite livraison rapide vide delivery fast free CYCLE 1 TBC360694063009 DT03 1 Open here 342 206 221 YYZ7 O T03 YHM5 CART EAR HENL MCys5 MCys5 1 804 ',\n",
              " ' en description CANADA POST POSTES CANADA TM Expedited Parcel Colis acc 303 251l 303 251r 303 251s TO A Tel Tel 800 832 7569 CYNTHIA INNES CYNTHIA INNES 116 GEORGE STREET APT 1506 TORONTO ON M5A 3S2 M5A 3S2 TRACKING NUMBER 7036 7330 5514 9304 N 302 260 DE REP 303 211RAGE Sender warrants that this item does not contain non mailable matter L exp 303 251diteur garantit que cet envoi ne contient pas d objet inadmissible ereuses FROM DE INDIGO BOOKS MUSIC CDF BLDG 50 100 ALFRED KUEHNE BLVD BRAMPTON ON L6T 4K4 1 00 KG VE EV MANIFEST REQ MANIFESTE REQ P F 7036733 A C VIN NIF 019 SPEC 3696 V2 0 Reference No 657182164 ',\n",
              " ' en description EY S SYS 6174 J 1D YYZ1 2 4 Lbs 01 23 DT03 Shelly Ann Rampersad S605 112 George Street M5A 2M5 Toronto Ontario Canada TBC360486977009 DT03 CYCLE 1 CLE2 THM5 YHM5 C ART Mxj3B5 1 811 Mxj3B5 ',\n",
              " ' en description YYZ1 0 7 Lbs 01 23 DT03 Alan Roach S210 112 George Street M5A 2M5 Toronto Ontario Canada TBC361049563009 DT03 CYCLE 1 YYZ7 O T03 YHM5 C ART sp CLYCHIAR 1 3061 ',\n",
              " ' en description MelaPadk CANADA POSTES POST CANADA 2 MC Expedited Parcel Colis acc 303 251l 303 251r 303 251s TM TO JA SLOANE CLAIRVILLE Tel T 303 251l 4166975975 101 112 GEORGE ST SPH101 TORONTO ON M5A 2M5 M5A 2M5 TRACKING NUMBER 4007 3531 7682 5351 N 302 260 DE REP 303 211RAGE Sender warrants that this item does not contain non mailable matter L exp 303 251diteur garantit que cet envoi ne contient pas d objet inadmissible FROM DE 6x6x6cm KG VE EV MANIFEST REQ MANIFESTE REQ 4567 Dixie Rd Mississauga ON MOR 2A2 A C P F 4007353 VIN NIF V 413 SPEC 3696 V2 0 PuroPost M PP M 000 ',\n",
              " ' en description 342 206 221 Open here Open here t Ouvrir ici O T03 YYZ7 PEN TIREZ ICH C ART YHM5 Open here T Ouvrir ici vrir ici unlimited reading l 303 251cture illNhit 303 251e ad free listening 303 251coute sans publicit 303 251 DT03 TBC361032420009 CYCLE 1 prime M5A 2M5 Toronto Ontario Canada S302 112 George Street Kazuma Matsunaga rir ud 01 23 YYZ1 0 3 Lbs DT03 prime prime Remove Papor Label Belore Remove Paper Label Before Recycling 10 doid PLASTIC BAG Store Drop off PLASTIC BAG how2recycle info how2recycle info info ONE A 20 3C YCLE 1 1 806 MHVRWRVK5 6167 DRIVER IBC561052420009 ',\n",
              " ' en description YYZ1 3  01 23 DT03 Kazuma Matsunaga S302 112 George Street M5A 2M5 Toronto Ontarlo Canada TBC360992074009 DT03 CYCLE 1 345 212 211 LY YYZ4 O T03 YHM5 C ART MS1WN1X45 214141 ',\n",
              " ' en description YYZ1 1 0 Lbs 01 23 DT03 Don Ho mes 112 George Street Suite 1706 M5A 2N5 Toronto Ontario Canada TBC360972961009 DT03 CYCLE 1 YYZ4 TO3 YHM5 C ART Mvf9C4SS5 1 3022 spNi1v ',\n",
              " ' en description Expedited Parcel 342 204 242 I Colis acc 303 251l 303 251r 303 251s TM MC TO 303 200 EBE BRUGES 112 GEORGE ST SUITE S717 TORONTO ON M5A 2M5 M5A 2 320 2345 TRACKING NUMBER 1026 1677 2403 1392 N DE REP 303 211RAGE Sender warrants that this item does not contain non mailable matter L exp 303 251diteur garantit que cet envoi ne contient pas d objet inadmissible FROM DE 0 750 KG VE EV Alycia Charchuk 85 Sunset Way SE Calgary AB T2X 3C1 MANIFEST NOT REQ MANIFESTE NON REQ EST O 303 211E V2109AD 1 720 SPEC 3696 V2 P F 1026167 A C PIN NIP 1026 1677 2403 1392 Ref R 303 251t 1 Order 61e352c7ca86649e2ff7a162 Ref R 303 251f 2 Buyer ebe22 Order No N 302 260 d commande P253457825 ',\n",
              " ' en description YYZ1 0 8 Lbs 01 23 DT03 Saleha Shafiq 116 George Street Unit Nth105 M5A 3S2 Toronto Ontario Canada TBC361118301009 DT03 CYCLE 1 YYZ4 O T03 YHM5 C ART fast free delivery ad free li 305 237tening fast del livrais streaming reading lecture illimit 303 251e anconti 303 251coute sans raison ranide MBHR1DXF5 1 806 ',\n",
              " ' en description en ligne 1 111 MhpONI SPS movies tv stre YYZ1 2  01 23 DT03 Jennifer Le 116 George Street Unit N109 M5A 3S2 Toronto Ontario Canada TBC360916581009 DT03 CYCLE 1 6ZA T03 ',\n",
              " ' en description SHIPPING 416 640 5833 UNIVERSITY OF TORONTO BOOKSTOR 214 COLLEGE ST TORONTO ON M5T3A1 8 LBS 1 OF 1 SHP A321 OXHJ TL4 SHP WT 8 LBS DATE 20 JAN 2022 SHIP TO SAAD SHAFIQ 6479853035 116 GEORGE ST NTH 105 TORONTO ON M5A3S2 CAN 457 9 02 UPS STANDARD TRACKING 1Z A32 10X DK 4776 9558 BILLING P P SIGNATURE REQUIRED REF 1 WO 165158K we 23 9 8 Zobra ZP 450 04 0A Q1 z022 ',\n",
              " ' en description 3 9 Lbs YYZ1 3 9 Lbs 01 23 DT03 Gregory LeBianc 112 116 George Street Suite 2108 M5A 2M5 Toronto Ontario Canada TBC361010441009 DT03 CYCLE 1 YHM5 C ART O T03 M76cnrSr5 112071 ',\n",
              " ' en description MIGSFKWIS 1 4021 fast free delivery apide ite YYZ1 6 9 Lbs 01 23 DT03 Elis Lila S1207 112 George Street M5A 2M5 Toronto Ontario Canada tv ing s 303 251ries ne TBC359373235009 DT03 CYCLE 1 au 322 256X2 JHM5 CYHM Y HM5 YHM5 D T03 free ery tivraison rapide et gratuite ',\n",
              " ' en description 25346460PM1 0IG13121017 OD GOODE GO OOD G13 ON1 GC Toronto 3 Order ID 25346460 OF Private Label Meal Kit 1 1 Name Kimberley Medel Address 116 George Street App 1102 Toronto Ontario M5A3S2 Phone 647 624 8332 320 242 321 203 321 200 320 265 App Apt 2022 01 20 Created at 02 00 01 Special Instructions Please leave with concierge located at 112 George Street Delivery Day Sunday Delivery Date 2022 01 23 121017 SUN Route GTA 17 FOO Sequence 42 ',\n",
              " ' en description 25338850PM101G13121017 GO G13 ON1 GC FOOD Toronto 3 Order ID 25338850 Private Label Meal Kit 1 1 Name Saleha Shafiq Address 116 George Street Unit Nth 105 TORONTO Ontario COOD MSA3S2 Phone 416 648 4781 320 242 321 203 321 200 320 265 App Apt 2022 01 20 Created at 01 54 09 Special Instructions Please leave package with the reception desk OFOOD Delivery Day Sunday Delivery Date 2022 01 23 121017 SUN GTA 17 Route Sequence 44 SODA good ',\n",
              " ' en description S1208 112 George Street M5A 2M5 Toronto Ontario Canada YYZ1 1 3 Lbs 01 22 DT03 Daniel Trigiani TBC359730996009 DT03 CYCLE 1 YUL2 YHM5 Y HM5 DTO3 MtrbKCtD5 1 304 MtrbKCID5 ',\n",
              " ' en description YYZ1 4 4 Lbs 01 23 DT03 Nikhil Mistry 112 George Street Unit S711 M5A 2M5 Toronto Ontario Canada TBC361121539009 DT03 CYCLE 1 YYZ4 O T03 316 245 316 227M5 C ART MhxbRwPGq 1 3021 ',\n",
              " ' en description MBaFyxX45 2 4151 A 20 EC2 CYCLE 1 ZONE YYZ1 1 6 Lbs 01 23 DT03 Katie Stewart S1007 112 George Street M5A 2M5 Toronto Ontario Canada spRdH TBC360968582009 DT03 CYCLE 1 YYZ4 O T03 YHM5 CART TIDEZ LCI POUR OUVRIR IR TEAR HERE TOOR EN ',\n",
              " ' en description CO 30 DT03 7 0 8 11 g Mathias Sommer 529 112 George Street M5A 2M5 Toronto Ontario Canada TBC204673826009 DT03 CYCLE 1 YYZ4 A T03 Tvy03hR3W 1J117 ',\n",
              " ' en description YYZ1 4 5 Lbs 01 23 DT03 Stephen Clairville 112 George Street SPH 101 M5A 2M5 Toronto Ontario Canada POP TBC360697215009 DT03 CYCLE 1 DE 00 345 260 217 345 234 222 YOW1 Y HM5 YHM5 D TO3 M4q5 1 401 ',\n",
              " ' en description free delivery venient fast fre YYZ1 1 1 Lbs 01 23 DT03 B 303 254nh Chuong S808 112 George St pi M5A 2M5 Toronto Ontario Canada TBC360611224009 DT03 CYCLE 1 vide mo CLE2 Y HM5 YHM5 C ART fr mittions M45d15 2 3052 M45d15 ',\n",
              " ' en description Open here Ouvrir ici Open here t Ouvrir ici MXY1WXXM5 1 302 ntinu nu MXY1WXXM5 YYZ1 0 2 Lbs DT03 01 23 Monique Leclerc 338 112 George Street M5A 2M5 Toronto Ontario Canada TBC361112576009 DT03 CYCLE 1 YYZ4 O T03 YHM5 C ART ',\n",
              " ' en description GYUS I G 2 5062 YYZ1 1 3 Lbs 01 23 DT03 Eren Alp 112 George St Apt S214 M5A 2M5 Toronto Ontario Canada TBC360929113009 DT03 CYCLE 1 YHM5 CART T03 ',\n",
              " ' en description CANADIAN SHIELD 3083628 CANADIAN SHIELD BRIDGE ST W ERLOO ON N2K4M9 1 KG 1 OF 1 SHP RA56 36TV RPX SHP WT 1 KG SHP DWT 1 KG P TO 4162008927 VICKY VYAS 112 GEORGE STREET SPH103 TORONTO ON M5A2M5 CAN 457 9 02 PS STANDARD CKING 1Z RA5 636 20 9521 2231 ING P P Ref No 90813 TM TL 22 01 18 NV45 4 0A 01 2022 ',\n",
              " ' en description CAVILIAAI 1 3061 MvHC45 1 3061 fast deliv livraison YYZ1 3 7 Lbs 01 23 DT03 et grat Katie Stewart S1007 112 George Street M5A 2M5 Toronto Ontario Canada movies streami films et s 303 251 en ligne TBC360975588009 CYCLE 1 orim fast free delivery LZK C ART YHM5 O T03 ivraison apic et gratuite ',\n",
              " ' en description fast free delivery ivraison et grat ad free listening unlimited reading fast deli streamig MkKPsdSx5 IOS gra 908 6 MkKPsdSx5 JUO I YYZ1 17 Lbs 01 23 DT03 Rabani Bakshi N504 116 George Street M5A 3S2 Toronto Ontario Canada 345 233 236 350 214 203 TBC360980889009 DT03 CYCLE 1 YHM5 CART O TO3 ',\n",
              " ' en description 8 LBS SHIPPING 416 640 5833 UNIVERSITY OF TORONTO BOOKSTOR 214 COLLEGE ST TORONTO ON M5T3A1 1 OF 1 SHP A321 0XHJ TL4 SHP WT 8 LBS DATE 20 JAN 2022 SHIP TO SAAD SHAFIQ 6479853035 116 GEORGE ST NTH 105 TORONTO ON M5A3S2 CAN 457 9 02 UPS STANDARD TRACKING 1Z A32 10X DK 4776 9558 BILLING P P SIGNATURE REQUIRED REF 1 WO 166168K we 23 0 8 Zobra ZP 450 04 0A Q1 2022 ',\n",
              " ' en description 1 3061 CAVIOLIAAI 1 3061 fast del livraisc et gr YYZ1 3  01 23 DT03 Katie Stewart S1007 112 George Street M5A 2M5 Toronto Ontario Canada movie strea films et TBC360975588009 CYCLE 1 prin DT03 YHM5 C ART deliver ivraison ra et gratuit O T03 ',\n",
              " ' en description T LBS TUF1 STAPLES 1865 MEYERSIDE DRIVE 1 11 MISSISSAUGA ON L5T1G6 KASSANDRA TOFFOLO NANCI 15147746253 112 GEORGE STREET APT S1108 SHIP TO TORONTO ONTARIO M5A2M5 CAN 457 9 02 UPS STANDARD TRACKING 1Z W9E 111 20 0136 5370 BILLING P P REF1 9254302 REF2 83302699 PSGL 19 0 2105SL 02 5V 01 2022 KASSANDRA TOFFOLO NANCI 112 GEORGE ST TORONTO ON M5A2M5 P 2MBL s BXL2R 242 662S 1ZW9E111200136 MOBILO0009 DESTI Jan 20 05 CA DM HIPPS 21 6 0 ZQ520 ',\n",
              " ' en description Around Legs Extra Soft oxtra doux DT03 Doublure Liner 01 23 Banues adh 303 251rentes 12 3 Lbs doubles LZM Strips uble Rebecca Shaw 729 112 George Street M5A2M5 Toronto Ontario Canada CYCLE 1 CYCLE_1 OVERSIZE TBC360065190009 DT03 sdus YYZ1 12 3 Lbs YHM5 D T03 TOR5 E 008 ers Mt7JVWtz5 1 M7 JVWZ5 1 ',\n",
              " ' en description MtkDysXw5 1 3021 YYZ1 3 0 Lbs 01 23 DT03 Rabani Baksh 303 254 N504 116 George Street M5A 3S2 Toronto Ontario Canada TBC360954718009 DT03 CYCLE 1 YHM5 CART YYZ4 ',\n",
              " ' en description DT03 01 22 YYZ1 0  Saad Shahid Shatig 116 George Street Nth 105 M5A 3S2 Toronto Ontarlo Canada TBC359910031009 CYCLE 1 DT03 YYZ9 TO3 ONI A 18 31 CYCIE 1 JR OUVRIR MMsrOH5 7 714 6650 EC1 MxMarOH15 ',\n",
              " ' en description YYZ1 1 5 Lbs 01 23 DT03 Daniel Trigiani 1208 112 George Street M5A 2M5 Toronto Ontario Canada TBC359839173009 DT03 CYCLE 1 YVR4 J HM5 CYHM Y HM5 YHM5 D T03 Spend le 1 704 Mv G69V1R5 2LC ',\n",
              " ' en description 4 3041 en films et s 303 251ries streaming movies tv YYZ1 6 4 Lbs 01 22 DT03 Binh Chuong S808 112 George St M5A 2M5 Toronto Ontario Canada Liv TBC360497798009 DT03 CYCLE 1 O TO3 YHM5 C ART ',\n",
              " ' en description YYZ1 3 5 Lbs 01 22 DT03 es tv aming et s 303 251ries ligne Doug Floyd 312 116 George Street M5A 3S2 Toronto Ontario Canada ime TBC359399369009 DT03 CYCLE 1 st free delivery aison rapide OVERSIZE TOR5 E 008 YHM5 D T03 ',\n",
              " ' en description IBC560251642009 YCIL 1 INO A 20 2D YYZ1 1 4 Lbs 01 23 DT03 Jordan Chi Tak Li S803 112 George Street M5A 2M5 Toronto Ontario Canada OH TBC360251642009 DT03 CYCLE 1 YEG1 J HM5 CYHM Y HM5 YHM5 D T03 MhY71rMSS 1 822 2 8 3 5cm 1 1 Ordinary Mo 11822 ',\n",
              " ' en description 6073042444 endicia COMMERCIAL E PACKET STOMS DECLARATION MID 901229413 Date of Mailing 03 23 2020 U S POSTAGE PAID brice lee 179 Rickey Blvd C MBEAR DE 19701 2591 JAMAICA NY POST PERMIT NO 9203 Expr 303 250s ens NOEEI 30 37 a on of Contents 33A 4817 VSS 00127 T 21 CHRISTOPHER STENGS O 112 GEORGE ST TORONTO ONTARIO M5A2M5 CANADA Value HS Tariff Number Country of Origin USS 10 00 US CANADA POSTES POST CANADA TM MC Xpresspost 10 00 TOTAL culars given in this customs correct This form does not contain any gerous articles or articles prohibited by postal or customs regulations I have e export filing requirements under egulations ature and Date TRACKING NUMBER LX 714 486 224 US No DE REPERAGE 03 23 2020 BC0015T 2020 03 30 20 57 Harch 2015 Dc T 43 074 298 13 10 ',\n",
              " ' en description 2 Expedited Parcel Colis acc 303 251l 303 251r 303 251s POSTES CANADA CANADA POST TO A JING XU N1410 116 GEORGE STREET TORONTO ON M5A 3S2 M5A 3S2 TRACKING NUMBER 7313 4110 5992 9608 N DE REP 303 211RAGE Sender warrants that this item does not contain non mailable matter L exp 303 251diteur garantit que cet envoi ne contient pas d objet inadmissible FROM DE 1 61 4240 Harvester Rd KG VE EV Unit 2 MANIFEST REQ MANIFESTE REQ Burlington ON L7LOE8 VININIF 330V7 SPEC 3696 V2 0 Piece 1 of 1 5 TOR CTRY CA P F 7313411 A C Ref 1 LTN183677436 Ref 2 76614202 1 Landmark ',\n",
              " ' en description YYZ1 1 0 Lbs 01 23 DT03 Kristina J Ejem 112 Ceorge St 623 M5A2M5 Toronto ON Canada TBC361126590009 DT03 CYCLE 1 YYZ4 OT03 enh Ouvrir ici Open here here 342 206 221 Ouvrir ici Z08 Free enin te sa licite YCLE 1 UP3 A 20 2 ',\n",
              " ' en description YYZ1 0 2 Lbs 01 23 DT03 Alan Roach 210 112 George Street M5A 2M5 Toronto Ontario Canada Not restricted as per special provision A123 TBC361129911009 DT03 CYCLE 1 YYZ4 O T03 YHM5 CART ONE A 20 YCLE 1 DRIVER AID NANT REGARDEZ M7gDfyXk5 1 3032 M7gDfyXk5 ',\n",
              " ' en description LULULEMON Ship Date 21 JAN22 ActWgt 0 7 LBS CAD 1656 PLUS007 Bill Sender MILTON ON L9E OG1 1 877 263 9300 TO ANA POPOVIC 1110 116 GEORGE STREET TORONTO ON M6A 3S2 416 727 9023 320 241A REF C25343550577 2022011616043381419090 INV 00000999990267992505 PO FDXD 92 DEPT FedEx Ground TRK 5569 3227 3876 M5A 3S2 8632 0019 6 000 000 0000 0 00 5569 3227 3876 ',\n",
              " ' en description en ligne 1 111 movies tv streami YYZ1 2  01 23 DT03 Jennifer Le 116 George Street Unit N109 M5A 3S2 Toronto Ontario Canada 350 255 234 TBC360916581009 DT03 CYCLE 1 T03 ',\n",
              " ' en description LZAA Mhvs6Q5w5 1 801 Mhvs605w5 1 801 0 3 Lbs 01 23 DT03 Andrea Goguen S603 112 George St ne M5A 2M5 Toronto Ontario Canada pri TBC361069059009 CYCLE 1 ablicit 303 251 ute sans stening d ffee lim ing ite YHM5 C ART O TO3 Dpen he ',\n",
              " ' en description en ligne prime YYZ1 4 1 Lbs 01 23 DT03 SM Livingstone N812 116 George Street M5A 3S2 Toronto Ontario Canada TBC360811431009 DT03 CYCLE 1 YYZ9 T03 fast free 1 114 ',\n",
              " ' en description 1 808 MBXF7JK55 1 808 Tho NR D Groun Inc YYZ1 3 0 Lbs 01 23 DT03 Vasista Ponduru 422 112 George Street M5A 2M5 Toronto Ontario Canada TBC360602063009 DT03 CYCLE 1 YO01 Y HM5 YHM5 D T03 ',\n",
              " ' en description DT03 01 22 VYZ1 0 7 Lbs Stephen Clairville 112 George Street SPH 101 M5A 2M5 Toronto Ontario Canada TBC359750379009 DT03 CYCLE 1 YYC1 JHM5 CYHM YHM5 YHM5 D T03 urir ici Open here MAstRdzH5 rir ici 342 206 221 1 801 mit din illin 303 251e liv M4stRdzH5 ',\n",
              " ' en description YYZ1 0 2 Lbs 01 07 DT03 Carley McNell N808 116 George St M5A 3S2 TORONTO Ontarlo Canada TBC350096720009 DT03 CYCLE 1 344 270 255 345 212 211 YYZ9 T03 LUL MIZIWwjiC AILER ',\n",
              " ' en description YYZ1 2 7 Lbs 01 23 DT03 Zita Zadorvolgyi S217 112 George Street M5A 2M5 Toronto Ontario Canada TBC360611510009 DT03 CYCLE 1 YYZ4 O T03 YHM5 CART STNA 414131 ',\n",
              " ' en description Tast 320 265 delivery livraiso YYZ1 1 6 Lbs et gr 01 23 DT03 Saleha Shafiq 116 George Street Unit Nth105 M5A 3S2 Toronto Ontario Canada movie strea Ims e en li TBC361005121009 CYCLE 1 ori DT03 YYZ7 st o TO3 YHM5 C ART deliv ONE A 2 MsY9j4vJ5 DR AID ',\n",
              " ' en description YYZ1 0 2 Lbs 01 23 DT03 Plerce Sahagian 116 George street Apt N703 M5A 3S2 Toronto Ontarlo Canada TBC360956249009 DT03 CYCLE YYZ9 T03 PA 1 712 SHANZZN ',\n",
              " ' en description YYZ1 0 9 Lbs 01 23 DT03 Elaf Quadri N401 116 George Street M5A 3S2 Toronto Ontario Canada TBC360795193009 DT03 CYCLE 1 DTW1 Y HM5 YHM5 CART 1 122 1 122 ',\n",
              " ' en description YYZ1 4 4 Lbs 01 23 DT03 Katie Stewart S1007 112 George Street M5A 2M5 Toronto Ontario Canada TBC361041909009 DT03 CYCLE 1 345 234 210 YYZ9 TO3 MsgVF5 1 111 Mwes tv streaming ',\n",
              " ' en description YCLE 1 A INO sp YYZ1 0 7 Lbs 01 23 DT03 Alan Roach S210 112 George Street M5A 2M5 Toronto Ontario Canada TO TBC361049563009 DT03 CYCLE 1 YHM5 CART O T03 ',\n",
              " ' en description 25345579PM101G13121017 OD GO GO OD G13 ON1 GC Toronto 3 Order ID 25345579 Private Label Meal Kit 1 1 Name Kathleen Sinnott Address 112 George Street App S707 Toronto Ontario M5A2M5 Phone 416 435 9025 320 242 321 203 321 200 320 265 App Apt 2022 01 20 Created at 01 59 21 FOOD Special Instructions Please leave package with concierge Delivery Day Sunday Delivery Date 2022 01 23 121017 SUN Route GTA 17 Sequence GO 43 GOO GOC OFOUD ',\n",
              " ' en description 1 804 MixTKVv45 ONE A 20 20 YCLE T 1 804 6198 IBC361102262009 Mix TKVv45 ne YYZ1 1 2 Lbs 01 23 DT03 Bailey Quirion 112 George Street Unit S517 pr rim M5A 2M5 Toronto Ontario Canada TBC361102262009 DT03 CYCLE 1 ecoute sanst Tad free LZAA OT03 Duvrir ic YHM5 C ART 346 234 203 Open here ',\n",
              " ' en description YYZ1 0 2 Lbs 01 23 DT03 Eiaf Quadri N401 116 George Street M5A 3S2 Toronto Ontario Canada TBC359373692009 DT03 CYCLE 1 343 202 213 YXX2 JHM5 CYHM Y HM5 YHM5 D T03 xqM ',\n",
              " ' en description YYZ1 0 4 Lbs 01 23 DT03 Karen Atkin 116 George Street Suite N1409 M5A 3S2 Toronto Ontario Canada TBC361071929009 rii DT03 CYCLE 1 et g d 303 251o en co vrais streami ap de fas YYZ7 O T03 YHM5 CART Ouvrir ici Open here MHgv5nKh5 MHgv5nKh5 1 806 ',\n",
              " ' en description YYZ1 01 23 DT03 4  Charlie Zheng 116 George Street Suite 110 M5A 3S2 Toronto Ontario Canada TBC361139475009 CYCLE 1 DT03 ONE A 20 YYZ4 O T03 YHM5 CART YCLE 1 DRIVER AID UP MH40kHPrq 3 4121 hile en MH40kHPrg ',\n",
              " ' en description YYZ1 1 0 Lbs 01 22 DT03 Matthew Cory 116 George Street Suite N508 M5A 3S2 Toronto Ontario Canada TBC360426086009 DT03 CYCLE 1 are illimit 303 251e reading nlimited YYZ7 O TO3 YHM5 CART Ouvrir ici ere MxBpSskf5 908 ',\n",
              " ' en description YYZ1 2 7 Lbs 01 22 DT03 Robert Kelbel 16 George Street N1010 M5A 3S2 Toronto ON Canada TBC360455299009 DT03 CYCLE 1 jarments shoe YYZ4 YHM5 CART boxes I O T03 riginal pa UTOR RETURNS 1 129 MIDS653G5 1 129 ',\n",
              " ' en description YYZ1 0 1 Lbs 01 23 DT03 Katarina Boehringer 116 George street PH 102 S M5A 3S2 Toronto Ontario Canada TBC360508741009 DT03 CYCLE 1 YYC1 JHM5 CYHM Y HM5 YHM5 DIT03 Ouwrici Open here Ouvrir ici Ouvri MkkM123s5 1 802 video str streaming vid 303 251o d 303 251o en conti MkkM123s5 ',\n",
              " ' en description HOPPERS DRUG MART 135 Millcreek Drive 1 Of De 1 Date 2022 01 23 Mississauga ON L5N7K6 866 220 3837 H S2 Ship to Expedi Victoria Sun 112 George St Unit s708 Toronto ON M5A2M5 416 823 3173 Tracking Number Num de suivi A4F33 D6EOBDA2 P1 293138872 lef 1 P1 293138872 lef 2 2022012103193001 M5A P1 ',\n",
              " ' en description delivery livraison rapide et gratuite YYZ1 1 6 Lbs 01 23 DT03 Grace Liu 116 George St Suite N513 es tv ming M5A 3S2 Toronto ON Canada t s 303 251ries igne TBC359731323009 DT03 CYCLE 1 free livery CYHM YHM5 YHM5 D T03 on rapide ratuite SHM5 movies tv streaming MvMm26195 1 4021 6009 MvMm26195 1 4021 ',\n",
              " ' en description YYZ1 1 1 Lbs 01 23 DT03 Bill Currie N101 116 George Street M5A 3S2 Toronto Ontario Canada TBC361014441009 DT03 CYCLE 1 YYZ7 O TO3 YHM5 CART MvVWcHSs5 1 812 MvVWcHSs5 11812 ',\n",
              " ' en description 1 23 22 11 54 AM Production Sheet G70 TORFS1 GC Toronto WOW 1 Order ID 25399102 Wow Bags 1 1 Name Hassan El Ghoul Address 112 George St App S504 Toronto Ontario M5A2M5 647 334 3242 Phone App Apt 320 242 321 203 321 200 320 265 2022 01 23 11 43 22 Created at Special Instructions Please leave package with concierge Delivery Day Sunday Delivery Date 2022 01 23 Route TBD Sequence 00 Directement de 25399102 ',\n",
              " ' en description d YYZ1 1 2 Lbs 01 23 DT03 Orvin Lao Unit 516 112 George St South Bldg M5A 2M5 Toronto Ontario Canada st TBC361082456009 DT03 CYCLE 1 et livra YYZ7 O T03 YHM5 C ART prime Im 1 3061 1 3061 ',\n",
              " ' en description YYZ1 0 9 Lbs 01 23 DT03 Corey Boomsluiter 116 George Street N313 M5A 3S2 Toronto Ontario Canada TBC360421996009 DT03 CYCLE 1 YUL2 Y HM5 YHM5 D T03 M4wcBHKZ5 1 301 M4wcBHkZ5 IBC360421996009 A 20 3D ONI NVER YCII 1 ',\n",
              " ' en description IPurolator Purolator Same EDD 01 23 22 FROM DE TO A Amazon com ca Inc o o ACFSI 6363 MIlloreek Drive Mississauga ON L6N 1L8 esther chol 432 112 George Street Toronto Ontario M5A 2M5 DATE 23 JAN 2022 PIECES 1 of de 1 WEIGHT POIDS 43 LB 56 GRD SAME OSNR PUROLATOR PIN MWG004228521 Purolator s published terms and conditions of service apply see wwWw purolator com Les Modalles at conditions de service publiees de Purolator s appliquent volr www purolator com YYZ3 P TOR ',\n",
              " ' en description JIPurolator Purolator Express Envelope TO A ALISON ROY ALISON ROY FROM DE HONDA DOWNTOWN 47 EASTERN AVE TORONTO ON M5A 1H1 112 GEORGE ST 416 368 8181 x 28221 SUITE 1503 TORONTO ON M5A 2M5 DATE WEIGHT POIDS 56 19 JAN 2022 1 LB PIECES 1 of de 1 EXP OSNR PUROLATOR PIN 333344101113 ESO PDF Purolator s published terms and conditions of service apply see www purolator com Les Modalit 303 251s et conditions de service publi 303 251es de Purolator s appliquent voir www purolato com TolaLor ',\n",
              " ' en description YYZ1 0 3 Lbs 01 23 DT03 David Metcalfe 116 George Street Unit 316 M5A 3S2 Toronto Ontario Canada TBC360391823009 DT03 CYCLE 1 YYC1 JHM5 CYHM Y HM5 YHM5 D T03 1 804 here jun re 6 lectur su 1 804 ',\n",
              " ' fr description 2 CANADA POSTES POST CANADA MC Expedited Parcel Colis acc 303 251l 303 251r 303 251s TO A ERICA MCLACHLAN 112 GEORGE ST 437 TORONTO ON M5A 2M5 SIGNATURE M5A 2M5 TRACKING NUMBER 8854 4836 0455 4343 N 302 260 DE REP 303 211RAGE Sender warrants that this item does not contain non mailable matter L exp 303 251diteur garantit que cet envoi ne contient pas d objet inadmissible FROM DE 1 000 KG VE EV oxio 5255 rue Rideau Qu 303 251bec QC GZE 5H5 MANIFEST NOT REQ MANIFESTE NON REQ EST D 303 211E V2109AD 1 720 SPEC 3696 V2 P F 8854483 A C PIN NIP 8854 4836 0455 4343 Order No N 302 260 d commande P253691528 ',\n",
              " ' en description te 327 225 EL grctu YYZ1 5 0 Lbs 01 22 DT03 Charlie Zheng novies tv 116 George Street Suite 110 M5A 3S2 Toronto Ontario Canada streaming ms et s 303 251ries en ligne WIme TBC360386139009 DT03 CYCLE 1 st free elivery son rapide gratuite YHM5 CART O T03 vies tv eaming s et s 303 251ries 2 3031 MHFP6djw5 ',\n",
              " ' en description N708 Jo IPurolator Purolator Express FROM DE College of Nurses of Ontario 101 DAVENPORT RD O S TORONTO ON M5R 3P1 416 963 7582 TO A Julie Garcia 116 GEORGE ST SUITE 708N Attn Omar Sulaiman TORONTO ON M5A 3S2 416 804 5351 DATE 17 NOV 2021 WEIGHT POIDS 56 3 LB PIECES 1 of de 1 EXP PUROLATOR PIN 333219232027 ESO PDF Purolator s published terms and conditions of service apply see www purolator com Les Modalit 303 251s et conditions de service publi 303 251es de Purolator s appliquent voir www purolator com ',\n",
              " ' en description 303 211TUI 303 200 2ACUMENTS FO SSEMS ONAUX as oub Inseri Texped S 303 251lec TES DE ONAUX pas oub nir oss 1 800 74 staples ORDER NO N 302 260 DE COMMANDE 0013985929 CUSTOMER NUMBER N 302 260 DE CLIENT SHIP TO ADRESSE D EXP 303 211DITION RONAK BAXI 5 SHADY GOLFWAY NORTH YORK SOLD TO CLIENT 311 TORONTO ON 320 234 320 227 320 241 320 227 320 2205 6473959090 ORDER DATE N 302 260 DATE DE COMMANDE 11 03 2021 ITEM NUMBER ARTICLE N 302 260 MODEL NUMBER ITEM DESCRIPTION MOD 303 211LE N 302 260 DESCRIPTION DE L ARTICLE UNIT MEASJ UNIT 303 211 2975808 521410 D SHIP DELL REF 5040 SFF 32960 EA Thank You For Your Order ']"
            ]
          },
          "metadata": {},
          "execution_count": 60
        }
      ]
    },
    {
      "cell_type": "code",
      "source": [
        ""
      ],
      "metadata": {
        "id": "zLm532aFpOlK"
      },
      "execution_count": null,
      "outputs": []
    }
  ],
  "metadata": {
    "instance_type": "ml.t3.medium",
    "kernelspec": {
      "display_name": "Python 3",
      "language": "python",
      "name": "python3"
    },
    "colab": {
      "name": "Package buddy cleaned.ipynb",
      "provenance": [],
      "collapsed_sections": []
    },
    "widgets": {
      "application/vnd.jupyter.widget-state+json": {
        "b6e81cb54d1f40e4b359dd094e92cfae": {
          "model_module": "@jupyter-widgets/controls",
          "model_name": "HBoxModel",
          "model_module_version": "1.5.0",
          "state": {
            "_view_name": "HBoxView",
            "_dom_classes": [],
            "_model_name": "HBoxModel",
            "_view_module": "@jupyter-widgets/controls",
            "_model_module_version": "1.5.0",
            "_view_count": null,
            "_view_module_version": "1.5.0",
            "box_style": "",
            "layout": "IPY_MODEL_e917a2b9e8fd4c44b6df14c24be2a96c",
            "_model_module": "@jupyter-widgets/controls",
            "children": [
              "IPY_MODEL_4ef7851f1355406492cf4b82f674de33",
              "IPY_MODEL_ab8bbc62d7f94d54928827fb18b0b74f",
              "IPY_MODEL_26c5d48dd7564977aca12904d79fe0b6"
            ]
          }
        },
        "e917a2b9e8fd4c44b6df14c24be2a96c": {
          "model_module": "@jupyter-widgets/base",
          "model_name": "LayoutModel",
          "model_module_version": "1.2.0",
          "state": {
            "_view_name": "LayoutView",
            "grid_template_rows": null,
            "right": null,
            "justify_content": null,
            "_view_module": "@jupyter-widgets/base",
            "overflow": null,
            "_model_module_version": "1.2.0",
            "_view_count": null,
            "flex_flow": null,
            "width": null,
            "min_width": null,
            "border": null,
            "align_items": null,
            "bottom": null,
            "_model_module": "@jupyter-widgets/base",
            "top": null,
            "grid_column": null,
            "overflow_y": null,
            "overflow_x": null,
            "grid_auto_flow": null,
            "grid_area": null,
            "grid_template_columns": null,
            "flex": null,
            "_model_name": "LayoutModel",
            "justify_items": null,
            "grid_row": null,
            "max_height": null,
            "align_content": null,
            "visibility": null,
            "align_self": null,
            "height": null,
            "min_height": null,
            "padding": null,
            "grid_auto_rows": null,
            "grid_gap": null,
            "max_width": null,
            "order": null,
            "_view_module_version": "1.2.0",
            "grid_template_areas": null,
            "object_position": null,
            "object_fit": null,
            "grid_auto_columns": null,
            "margin": null,
            "display": null,
            "left": null
          }
        },
        "4ef7851f1355406492cf4b82f674de33": {
          "model_module": "@jupyter-widgets/controls",
          "model_name": "HTMLModel",
          "model_module_version": "1.5.0",
          "state": {
            "_view_name": "HTMLView",
            "style": "IPY_MODEL_feb9caf83fa3433aac6e6b0aafd4c263",
            "_dom_classes": [],
            "description": "",
            "_model_name": "HTMLModel",
            "placeholder": "​",
            "_view_module": "@jupyter-widgets/controls",
            "_model_module_version": "1.5.0",
            "value": "Downloading: 100%",
            "_view_count": null,
            "_view_module_version": "1.5.0",
            "description_tooltip": null,
            "_model_module": "@jupyter-widgets/controls",
            "layout": "IPY_MODEL_71320e06518943b0b31542513d7ea75b"
          }
        },
        "ab8bbc62d7f94d54928827fb18b0b74f": {
          "model_module": "@jupyter-widgets/controls",
          "model_name": "FloatProgressModel",
          "model_module_version": "1.5.0",
          "state": {
            "_view_name": "ProgressView",
            "style": "IPY_MODEL_51fcb3f3b5ad4c24ac7a5fdd75abee60",
            "_dom_classes": [],
            "description": "",
            "_model_name": "FloatProgressModel",
            "bar_style": "success",
            "max": 998,
            "_view_module": "@jupyter-widgets/controls",
            "_model_module_version": "1.5.0",
            "value": 998,
            "_view_count": null,
            "_view_module_version": "1.5.0",
            "orientation": "horizontal",
            "min": 0,
            "description_tooltip": null,
            "_model_module": "@jupyter-widgets/controls",
            "layout": "IPY_MODEL_1ffdc58f8d9e445a813f772d82d14c72"
          }
        },
        "26c5d48dd7564977aca12904d79fe0b6": {
          "model_module": "@jupyter-widgets/controls",
          "model_name": "HTMLModel",
          "model_module_version": "1.5.0",
          "state": {
            "_view_name": "HTMLView",
            "style": "IPY_MODEL_95f4f3fa3c58492db4c18eed72a897db",
            "_dom_classes": [],
            "description": "",
            "_model_name": "HTMLModel",
            "placeholder": "​",
            "_view_module": "@jupyter-widgets/controls",
            "_model_module_version": "1.5.0",
            "value": " 998/998 [00:00&lt;00:00, 5.01kB/s]",
            "_view_count": null,
            "_view_module_version": "1.5.0",
            "description_tooltip": null,
            "_model_module": "@jupyter-widgets/controls",
            "layout": "IPY_MODEL_f2ddee7625464ac0ae7ae469af56eae3"
          }
        },
        "feb9caf83fa3433aac6e6b0aafd4c263": {
          "model_module": "@jupyter-widgets/controls",
          "model_name": "DescriptionStyleModel",
          "model_module_version": "1.5.0",
          "state": {
            "_view_name": "StyleView",
            "_model_name": "DescriptionStyleModel",
            "description_width": "",
            "_view_module": "@jupyter-widgets/base",
            "_model_module_version": "1.5.0",
            "_view_count": null,
            "_view_module_version": "1.2.0",
            "_model_module": "@jupyter-widgets/controls"
          }
        },
        "71320e06518943b0b31542513d7ea75b": {
          "model_module": "@jupyter-widgets/base",
          "model_name": "LayoutModel",
          "model_module_version": "1.2.0",
          "state": {
            "_view_name": "LayoutView",
            "grid_template_rows": null,
            "right": null,
            "justify_content": null,
            "_view_module": "@jupyter-widgets/base",
            "overflow": null,
            "_model_module_version": "1.2.0",
            "_view_count": null,
            "flex_flow": null,
            "width": null,
            "min_width": null,
            "border": null,
            "align_items": null,
            "bottom": null,
            "_model_module": "@jupyter-widgets/base",
            "top": null,
            "grid_column": null,
            "overflow_y": null,
            "overflow_x": null,
            "grid_auto_flow": null,
            "grid_area": null,
            "grid_template_columns": null,
            "flex": null,
            "_model_name": "LayoutModel",
            "justify_items": null,
            "grid_row": null,
            "max_height": null,
            "align_content": null,
            "visibility": null,
            "align_self": null,
            "height": null,
            "min_height": null,
            "padding": null,
            "grid_auto_rows": null,
            "grid_gap": null,
            "max_width": null,
            "order": null,
            "_view_module_version": "1.2.0",
            "grid_template_areas": null,
            "object_position": null,
            "object_fit": null,
            "grid_auto_columns": null,
            "margin": null,
            "display": null,
            "left": null
          }
        },
        "51fcb3f3b5ad4c24ac7a5fdd75abee60": {
          "model_module": "@jupyter-widgets/controls",
          "model_name": "ProgressStyleModel",
          "model_module_version": "1.5.0",
          "state": {
            "_view_name": "StyleView",
            "_model_name": "ProgressStyleModel",
            "description_width": "",
            "_view_module": "@jupyter-widgets/base",
            "_model_module_version": "1.5.0",
            "_view_count": null,
            "_view_module_version": "1.2.0",
            "bar_color": null,
            "_model_module": "@jupyter-widgets/controls"
          }
        },
        "1ffdc58f8d9e445a813f772d82d14c72": {
          "model_module": "@jupyter-widgets/base",
          "model_name": "LayoutModel",
          "model_module_version": "1.2.0",
          "state": {
            "_view_name": "LayoutView",
            "grid_template_rows": null,
            "right": null,
            "justify_content": null,
            "_view_module": "@jupyter-widgets/base",
            "overflow": null,
            "_model_module_version": "1.2.0",
            "_view_count": null,
            "flex_flow": null,
            "width": null,
            "min_width": null,
            "border": null,
            "align_items": null,
            "bottom": null,
            "_model_module": "@jupyter-widgets/base",
            "top": null,
            "grid_column": null,
            "overflow_y": null,
            "overflow_x": null,
            "grid_auto_flow": null,
            "grid_area": null,
            "grid_template_columns": null,
            "flex": null,
            "_model_name": "LayoutModel",
            "justify_items": null,
            "grid_row": null,
            "max_height": null,
            "align_content": null,
            "visibility": null,
            "align_self": null,
            "height": null,
            "min_height": null,
            "padding": null,
            "grid_auto_rows": null,
            "grid_gap": null,
            "max_width": null,
            "order": null,
            "_view_module_version": "1.2.0",
            "grid_template_areas": null,
            "object_position": null,
            "object_fit": null,
            "grid_auto_columns": null,
            "margin": null,
            "display": null,
            "left": null
          }
        },
        "95f4f3fa3c58492db4c18eed72a897db": {
          "model_module": "@jupyter-widgets/controls",
          "model_name": "DescriptionStyleModel",
          "model_module_version": "1.5.0",
          "state": {
            "_view_name": "StyleView",
            "_model_name": "DescriptionStyleModel",
            "description_width": "",
            "_view_module": "@jupyter-widgets/base",
            "_model_module_version": "1.5.0",
            "_view_count": null,
            "_view_module_version": "1.2.0",
            "_model_module": "@jupyter-widgets/controls"
          }
        },
        "f2ddee7625464ac0ae7ae469af56eae3": {
          "model_module": "@jupyter-widgets/base",
          "model_name": "LayoutModel",
          "model_module_version": "1.2.0",
          "state": {
            "_view_name": "LayoutView",
            "grid_template_rows": null,
            "right": null,
            "justify_content": null,
            "_view_module": "@jupyter-widgets/base",
            "overflow": null,
            "_model_module_version": "1.2.0",
            "_view_count": null,
            "flex_flow": null,
            "width": null,
            "min_width": null,
            "border": null,
            "align_items": null,
            "bottom": null,
            "_model_module": "@jupyter-widgets/base",
            "top": null,
            "grid_column": null,
            "overflow_y": null,
            "overflow_x": null,
            "grid_auto_flow": null,
            "grid_area": null,
            "grid_template_columns": null,
            "flex": null,
            "_model_name": "LayoutModel",
            "justify_items": null,
            "grid_row": null,
            "max_height": null,
            "align_content": null,
            "visibility": null,
            "align_self": null,
            "height": null,
            "min_height": null,
            "padding": null,
            "grid_auto_rows": null,
            "grid_gap": null,
            "max_width": null,
            "order": null,
            "_view_module_version": "1.2.0",
            "grid_template_areas": null,
            "object_position": null,
            "object_fit": null,
            "grid_auto_columns": null,
            "margin": null,
            "display": null,
            "left": null
          }
        },
        "95c98db061d949039b8b128bdabf727d": {
          "model_module": "@jupyter-widgets/controls",
          "model_name": "HBoxModel",
          "model_module_version": "1.5.0",
          "state": {
            "_view_name": "HBoxView",
            "_dom_classes": [],
            "_model_name": "HBoxModel",
            "_view_module": "@jupyter-widgets/controls",
            "_model_module_version": "1.5.0",
            "_view_count": null,
            "_view_module_version": "1.5.0",
            "box_style": "",
            "layout": "IPY_MODEL_f644458dc3be443c9775521135373441",
            "_model_module": "@jupyter-widgets/controls",
            "children": [
              "IPY_MODEL_38efd566fb5149bf9127c731e1ebac9d",
              "IPY_MODEL_111a35e2b2a54af7a7f10447c3cf9780",
              "IPY_MODEL_d88d13768c7346f2bd8c023e1edee441"
            ]
          }
        },
        "f644458dc3be443c9775521135373441": {
          "model_module": "@jupyter-widgets/base",
          "model_name": "LayoutModel",
          "model_module_version": "1.2.0",
          "state": {
            "_view_name": "LayoutView",
            "grid_template_rows": null,
            "right": null,
            "justify_content": null,
            "_view_module": "@jupyter-widgets/base",
            "overflow": null,
            "_model_module_version": "1.2.0",
            "_view_count": null,
            "flex_flow": null,
            "width": null,
            "min_width": null,
            "border": null,
            "align_items": null,
            "bottom": null,
            "_model_module": "@jupyter-widgets/base",
            "top": null,
            "grid_column": null,
            "overflow_y": null,
            "overflow_x": null,
            "grid_auto_flow": null,
            "grid_area": null,
            "grid_template_columns": null,
            "flex": null,
            "_model_name": "LayoutModel",
            "justify_items": null,
            "grid_row": null,
            "max_height": null,
            "align_content": null,
            "visibility": null,
            "align_self": null,
            "height": null,
            "min_height": null,
            "padding": null,
            "grid_auto_rows": null,
            "grid_gap": null,
            "max_width": null,
            "order": null,
            "_view_module_version": "1.2.0",
            "grid_template_areas": null,
            "object_position": null,
            "object_fit": null,
            "grid_auto_columns": null,
            "margin": null,
            "display": null,
            "left": null
          }
        },
        "38efd566fb5149bf9127c731e1ebac9d": {
          "model_module": "@jupyter-widgets/controls",
          "model_name": "HTMLModel",
          "model_module_version": "1.5.0",
          "state": {
            "_view_name": "HTMLView",
            "style": "IPY_MODEL_dcaaa0b59bdf4abe9a4d7f59969fc6b4",
            "_dom_classes": [],
            "description": "",
            "_model_name": "HTMLModel",
            "placeholder": "​",
            "_view_module": "@jupyter-widgets/controls",
            "_model_module_version": "1.5.0",
            "value": "Downloading: 100%",
            "_view_count": null,
            "_view_module_version": "1.5.0",
            "description_tooltip": null,
            "_model_module": "@jupyter-widgets/controls",
            "layout": "IPY_MODEL_d634676742b44231ab1964b1b7415cdd"
          }
        },
        "111a35e2b2a54af7a7f10447c3cf9780": {
          "model_module": "@jupyter-widgets/controls",
          "model_name": "FloatProgressModel",
          "model_module_version": "1.5.0",
          "state": {
            "_view_name": "ProgressView",
            "style": "IPY_MODEL_9bb80ba6b3994d93bc47e2357bc6b856",
            "_dom_classes": [],
            "description": "",
            "_model_name": "FloatProgressModel",
            "bar_style": "success",
            "max": 1334448817,
            "_view_module": "@jupyter-widgets/controls",
            "_model_module_version": "1.5.0",
            "value": 1334448817,
            "_view_count": null,
            "_view_module_version": "1.5.0",
            "orientation": "horizontal",
            "min": 0,
            "description_tooltip": null,
            "_model_module": "@jupyter-widgets/controls",
            "layout": "IPY_MODEL_37b5674b41584c68a4d8f9c71850f982"
          }
        },
        "d88d13768c7346f2bd8c023e1edee441": {
          "model_module": "@jupyter-widgets/controls",
          "model_name": "HTMLModel",
          "model_module_version": "1.5.0",
          "state": {
            "_view_name": "HTMLView",
            "style": "IPY_MODEL_22224048ac0f486bb8efef21f48b2236",
            "_dom_classes": [],
            "description": "",
            "_model_name": "HTMLModel",
            "placeholder": "​",
            "_view_module": "@jupyter-widgets/controls",
            "_model_module_version": "1.5.0",
            "value": " 1.24G/1.24G [00:34&lt;00:00, 41.8MB/s]",
            "_view_count": null,
            "_view_module_version": "1.5.0",
            "description_tooltip": null,
            "_model_module": "@jupyter-widgets/controls",
            "layout": "IPY_MODEL_c4c90b502e70410b8708be28470dac0b"
          }
        },
        "dcaaa0b59bdf4abe9a4d7f59969fc6b4": {
          "model_module": "@jupyter-widgets/controls",
          "model_name": "DescriptionStyleModel",
          "model_module_version": "1.5.0",
          "state": {
            "_view_name": "StyleView",
            "_model_name": "DescriptionStyleModel",
            "description_width": "",
            "_view_module": "@jupyter-widgets/base",
            "_model_module_version": "1.5.0",
            "_view_count": null,
            "_view_module_version": "1.2.0",
            "_model_module": "@jupyter-widgets/controls"
          }
        },
        "d634676742b44231ab1964b1b7415cdd": {
          "model_module": "@jupyter-widgets/base",
          "model_name": "LayoutModel",
          "model_module_version": "1.2.0",
          "state": {
            "_view_name": "LayoutView",
            "grid_template_rows": null,
            "right": null,
            "justify_content": null,
            "_view_module": "@jupyter-widgets/base",
            "overflow": null,
            "_model_module_version": "1.2.0",
            "_view_count": null,
            "flex_flow": null,
            "width": null,
            "min_width": null,
            "border": null,
            "align_items": null,
            "bottom": null,
            "_model_module": "@jupyter-widgets/base",
            "top": null,
            "grid_column": null,
            "overflow_y": null,
            "overflow_x": null,
            "grid_auto_flow": null,
            "grid_area": null,
            "grid_template_columns": null,
            "flex": null,
            "_model_name": "LayoutModel",
            "justify_items": null,
            "grid_row": null,
            "max_height": null,
            "align_content": null,
            "visibility": null,
            "align_self": null,
            "height": null,
            "min_height": null,
            "padding": null,
            "grid_auto_rows": null,
            "grid_gap": null,
            "max_width": null,
            "order": null,
            "_view_module_version": "1.2.0",
            "grid_template_areas": null,
            "object_position": null,
            "object_fit": null,
            "grid_auto_columns": null,
            "margin": null,
            "display": null,
            "left": null
          }
        },
        "9bb80ba6b3994d93bc47e2357bc6b856": {
          "model_module": "@jupyter-widgets/controls",
          "model_name": "ProgressStyleModel",
          "model_module_version": "1.5.0",
          "state": {
            "_view_name": "StyleView",
            "_model_name": "ProgressStyleModel",
            "description_width": "",
            "_view_module": "@jupyter-widgets/base",
            "_model_module_version": "1.5.0",
            "_view_count": null,
            "_view_module_version": "1.2.0",
            "bar_color": null,
            "_model_module": "@jupyter-widgets/controls"
          }
        },
        "37b5674b41584c68a4d8f9c71850f982": {
          "model_module": "@jupyter-widgets/base",
          "model_name": "LayoutModel",
          "model_module_version": "1.2.0",
          "state": {
            "_view_name": "LayoutView",
            "grid_template_rows": null,
            "right": null,
            "justify_content": null,
            "_view_module": "@jupyter-widgets/base",
            "overflow": null,
            "_model_module_version": "1.2.0",
            "_view_count": null,
            "flex_flow": null,
            "width": null,
            "min_width": null,
            "border": null,
            "align_items": null,
            "bottom": null,
            "_model_module": "@jupyter-widgets/base",
            "top": null,
            "grid_column": null,
            "overflow_y": null,
            "overflow_x": null,
            "grid_auto_flow": null,
            "grid_area": null,
            "grid_template_columns": null,
            "flex": null,
            "_model_name": "LayoutModel",
            "justify_items": null,
            "grid_row": null,
            "max_height": null,
            "align_content": null,
            "visibility": null,
            "align_self": null,
            "height": null,
            "min_height": null,
            "padding": null,
            "grid_auto_rows": null,
            "grid_gap": null,
            "max_width": null,
            "order": null,
            "_view_module_version": "1.2.0",
            "grid_template_areas": null,
            "object_position": null,
            "object_fit": null,
            "grid_auto_columns": null,
            "margin": null,
            "display": null,
            "left": null
          }
        },
        "22224048ac0f486bb8efef21f48b2236": {
          "model_module": "@jupyter-widgets/controls",
          "model_name": "DescriptionStyleModel",
          "model_module_version": "1.5.0",
          "state": {
            "_view_name": "StyleView",
            "_model_name": "DescriptionStyleModel",
            "description_width": "",
            "_view_module": "@jupyter-widgets/base",
            "_model_module_version": "1.5.0",
            "_view_count": null,
            "_view_module_version": "1.2.0",
            "_model_module": "@jupyter-widgets/controls"
          }
        },
        "c4c90b502e70410b8708be28470dac0b": {
          "model_module": "@jupyter-widgets/base",
          "model_name": "LayoutModel",
          "model_module_version": "1.2.0",
          "state": {
            "_view_name": "LayoutView",
            "grid_template_rows": null,
            "right": null,
            "justify_content": null,
            "_view_module": "@jupyter-widgets/base",
            "overflow": null,
            "_model_module_version": "1.2.0",
            "_view_count": null,
            "flex_flow": null,
            "width": null,
            "min_width": null,
            "border": null,
            "align_items": null,
            "bottom": null,
            "_model_module": "@jupyter-widgets/base",
            "top": null,
            "grid_column": null,
            "overflow_y": null,
            "overflow_x": null,
            "grid_auto_flow": null,
            "grid_area": null,
            "grid_template_columns": null,
            "flex": null,
            "_model_name": "LayoutModel",
            "justify_items": null,
            "grid_row": null,
            "max_height": null,
            "align_content": null,
            "visibility": null,
            "align_self": null,
            "height": null,
            "min_height": null,
            "padding": null,
            "grid_auto_rows": null,
            "grid_gap": null,
            "max_width": null,
            "order": null,
            "_view_module_version": "1.2.0",
            "grid_template_areas": null,
            "object_position": null,
            "object_fit": null,
            "grid_auto_columns": null,
            "margin": null,
            "display": null,
            "left": null
          }
        },
        "a4ca38085c4840f9957d63b57c5c62a5": {
          "model_module": "@jupyter-widgets/controls",
          "model_name": "HBoxModel",
          "model_module_version": "1.5.0",
          "state": {
            "_view_name": "HBoxView",
            "_dom_classes": [],
            "_model_name": "HBoxModel",
            "_view_module": "@jupyter-widgets/controls",
            "_model_module_version": "1.5.0",
            "_view_count": null,
            "_view_module_version": "1.5.0",
            "box_style": "",
            "layout": "IPY_MODEL_55904f6038fa42c19dbd1fa9f2e8e4af",
            "_model_module": "@jupyter-widgets/controls",
            "children": [
              "IPY_MODEL_ab426066543944efab05451e1dee4af6",
              "IPY_MODEL_351fd2b680b84115822534176dedd061",
              "IPY_MODEL_9238484dd80b4885a33c951530896b79"
            ]
          }
        },
        "55904f6038fa42c19dbd1fa9f2e8e4af": {
          "model_module": "@jupyter-widgets/base",
          "model_name": "LayoutModel",
          "model_module_version": "1.2.0",
          "state": {
            "_view_name": "LayoutView",
            "grid_template_rows": null,
            "right": null,
            "justify_content": null,
            "_view_module": "@jupyter-widgets/base",
            "overflow": null,
            "_model_module_version": "1.2.0",
            "_view_count": null,
            "flex_flow": null,
            "width": null,
            "min_width": null,
            "border": null,
            "align_items": null,
            "bottom": null,
            "_model_module": "@jupyter-widgets/base",
            "top": null,
            "grid_column": null,
            "overflow_y": null,
            "overflow_x": null,
            "grid_auto_flow": null,
            "grid_area": null,
            "grid_template_columns": null,
            "flex": null,
            "_model_name": "LayoutModel",
            "justify_items": null,
            "grid_row": null,
            "max_height": null,
            "align_content": null,
            "visibility": null,
            "align_self": null,
            "height": null,
            "min_height": null,
            "padding": null,
            "grid_auto_rows": null,
            "grid_gap": null,
            "max_width": null,
            "order": null,
            "_view_module_version": "1.2.0",
            "grid_template_areas": null,
            "object_position": null,
            "object_fit": null,
            "grid_auto_columns": null,
            "margin": null,
            "display": null,
            "left": null
          }
        },
        "ab426066543944efab05451e1dee4af6": {
          "model_module": "@jupyter-widgets/controls",
          "model_name": "HTMLModel",
          "model_module_version": "1.5.0",
          "state": {
            "_view_name": "HTMLView",
            "style": "IPY_MODEL_3f783e93e1cb437ea7378cc4c7b005c8",
            "_dom_classes": [],
            "description": "",
            "_model_name": "HTMLModel",
            "placeholder": "​",
            "_view_module": "@jupyter-widgets/controls",
            "_model_module_version": "1.5.0",
            "value": "Downloading: 100%",
            "_view_count": null,
            "_view_module_version": "1.5.0",
            "description_tooltip": null,
            "_model_module": "@jupyter-widgets/controls",
            "layout": "IPY_MODEL_a4364124bf594f2182b50ab8a323faa2"
          }
        },
        "351fd2b680b84115822534176dedd061": {
          "model_module": "@jupyter-widgets/controls",
          "model_name": "FloatProgressModel",
          "model_module_version": "1.5.0",
          "state": {
            "_view_name": "ProgressView",
            "style": "IPY_MODEL_3774af19d0e440c9b9dc290c9d4dcad2",
            "_dom_classes": [],
            "description": "",
            "_model_name": "FloatProgressModel",
            "bar_style": "success",
            "max": 29,
            "_view_module": "@jupyter-widgets/controls",
            "_model_module_version": "1.5.0",
            "value": 29,
            "_view_count": null,
            "_view_module_version": "1.5.0",
            "orientation": "horizontal",
            "min": 0,
            "description_tooltip": null,
            "_model_module": "@jupyter-widgets/controls",
            "layout": "IPY_MODEL_df4d8f6f448444b78593cf84a82fc8d6"
          }
        },
        "9238484dd80b4885a33c951530896b79": {
          "model_module": "@jupyter-widgets/controls",
          "model_name": "HTMLModel",
          "model_module_version": "1.5.0",
          "state": {
            "_view_name": "HTMLView",
            "style": "IPY_MODEL_471251b51bdf4d338d1f509abdf1198f",
            "_dom_classes": [],
            "description": "",
            "_model_name": "HTMLModel",
            "placeholder": "​",
            "_view_module": "@jupyter-widgets/controls",
            "_model_module_version": "1.5.0",
            "value": " 29.0/29.0 [00:00&lt;00:00, 670B/s]",
            "_view_count": null,
            "_view_module_version": "1.5.0",
            "description_tooltip": null,
            "_model_module": "@jupyter-widgets/controls",
            "layout": "IPY_MODEL_1b22a364c9434c48a8307daa5ff4deeb"
          }
        },
        "3f783e93e1cb437ea7378cc4c7b005c8": {
          "model_module": "@jupyter-widgets/controls",
          "model_name": "DescriptionStyleModel",
          "model_module_version": "1.5.0",
          "state": {
            "_view_name": "StyleView",
            "_model_name": "DescriptionStyleModel",
            "description_width": "",
            "_view_module": "@jupyter-widgets/base",
            "_model_module_version": "1.5.0",
            "_view_count": null,
            "_view_module_version": "1.2.0",
            "_model_module": "@jupyter-widgets/controls"
          }
        },
        "a4364124bf594f2182b50ab8a323faa2": {
          "model_module": "@jupyter-widgets/base",
          "model_name": "LayoutModel",
          "model_module_version": "1.2.0",
          "state": {
            "_view_name": "LayoutView",
            "grid_template_rows": null,
            "right": null,
            "justify_content": null,
            "_view_module": "@jupyter-widgets/base",
            "overflow": null,
            "_model_module_version": "1.2.0",
            "_view_count": null,
            "flex_flow": null,
            "width": null,
            "min_width": null,
            "border": null,
            "align_items": null,
            "bottom": null,
            "_model_module": "@jupyter-widgets/base",
            "top": null,
            "grid_column": null,
            "overflow_y": null,
            "overflow_x": null,
            "grid_auto_flow": null,
            "grid_area": null,
            "grid_template_columns": null,
            "flex": null,
            "_model_name": "LayoutModel",
            "justify_items": null,
            "grid_row": null,
            "max_height": null,
            "align_content": null,
            "visibility": null,
            "align_self": null,
            "height": null,
            "min_height": null,
            "padding": null,
            "grid_auto_rows": null,
            "grid_gap": null,
            "max_width": null,
            "order": null,
            "_view_module_version": "1.2.0",
            "grid_template_areas": null,
            "object_position": null,
            "object_fit": null,
            "grid_auto_columns": null,
            "margin": null,
            "display": null,
            "left": null
          }
        },
        "3774af19d0e440c9b9dc290c9d4dcad2": {
          "model_module": "@jupyter-widgets/controls",
          "model_name": "ProgressStyleModel",
          "model_module_version": "1.5.0",
          "state": {
            "_view_name": "StyleView",
            "_model_name": "ProgressStyleModel",
            "description_width": "",
            "_view_module": "@jupyter-widgets/base",
            "_model_module_version": "1.5.0",
            "_view_count": null,
            "_view_module_version": "1.2.0",
            "bar_color": null,
            "_model_module": "@jupyter-widgets/controls"
          }
        },
        "df4d8f6f448444b78593cf84a82fc8d6": {
          "model_module": "@jupyter-widgets/base",
          "model_name": "LayoutModel",
          "model_module_version": "1.2.0",
          "state": {
            "_view_name": "LayoutView",
            "grid_template_rows": null,
            "right": null,
            "justify_content": null,
            "_view_module": "@jupyter-widgets/base",
            "overflow": null,
            "_model_module_version": "1.2.0",
            "_view_count": null,
            "flex_flow": null,
            "width": null,
            "min_width": null,
            "border": null,
            "align_items": null,
            "bottom": null,
            "_model_module": "@jupyter-widgets/base",
            "top": null,
            "grid_column": null,
            "overflow_y": null,
            "overflow_x": null,
            "grid_auto_flow": null,
            "grid_area": null,
            "grid_template_columns": null,
            "flex": null,
            "_model_name": "LayoutModel",
            "justify_items": null,
            "grid_row": null,
            "max_height": null,
            "align_content": null,
            "visibility": null,
            "align_self": null,
            "height": null,
            "min_height": null,
            "padding": null,
            "grid_auto_rows": null,
            "grid_gap": null,
            "max_width": null,
            "order": null,
            "_view_module_version": "1.2.0",
            "grid_template_areas": null,
            "object_position": null,
            "object_fit": null,
            "grid_auto_columns": null,
            "margin": null,
            "display": null,
            "left": null
          }
        },
        "471251b51bdf4d338d1f509abdf1198f": {
          "model_module": "@jupyter-widgets/controls",
          "model_name": "DescriptionStyleModel",
          "model_module_version": "1.5.0",
          "state": {
            "_view_name": "StyleView",
            "_model_name": "DescriptionStyleModel",
            "description_width": "",
            "_view_module": "@jupyter-widgets/base",
            "_model_module_version": "1.5.0",
            "_view_count": null,
            "_view_module_version": "1.2.0",
            "_model_module": "@jupyter-widgets/controls"
          }
        },
        "1b22a364c9434c48a8307daa5ff4deeb": {
          "model_module": "@jupyter-widgets/base",
          "model_name": "LayoutModel",
          "model_module_version": "1.2.0",
          "state": {
            "_view_name": "LayoutView",
            "grid_template_rows": null,
            "right": null,
            "justify_content": null,
            "_view_module": "@jupyter-widgets/base",
            "overflow": null,
            "_model_module_version": "1.2.0",
            "_view_count": null,
            "flex_flow": null,
            "width": null,
            "min_width": null,
            "border": null,
            "align_items": null,
            "bottom": null,
            "_model_module": "@jupyter-widgets/base",
            "top": null,
            "grid_column": null,
            "overflow_y": null,
            "overflow_x": null,
            "grid_auto_flow": null,
            "grid_area": null,
            "grid_template_columns": null,
            "flex": null,
            "_model_name": "LayoutModel",
            "justify_items": null,
            "grid_row": null,
            "max_height": null,
            "align_content": null,
            "visibility": null,
            "align_self": null,
            "height": null,
            "min_height": null,
            "padding": null,
            "grid_auto_rows": null,
            "grid_gap": null,
            "max_width": null,
            "order": null,
            "_view_module_version": "1.2.0",
            "grid_template_areas": null,
            "object_position": null,
            "object_fit": null,
            "grid_auto_columns": null,
            "margin": null,
            "display": null,
            "left": null
          }
        },
        "8f0fcb8e054e4a22ac12aa51a613399e": {
          "model_module": "@jupyter-widgets/controls",
          "model_name": "HBoxModel",
          "model_module_version": "1.5.0",
          "state": {
            "_view_name": "HBoxView",
            "_dom_classes": [],
            "_model_name": "HBoxModel",
            "_view_module": "@jupyter-widgets/controls",
            "_model_module_version": "1.5.0",
            "_view_count": null,
            "_view_module_version": "1.5.0",
            "box_style": "",
            "layout": "IPY_MODEL_cfb6165a0b714339ae750d7e28fe0d99",
            "_model_module": "@jupyter-widgets/controls",
            "children": [
              "IPY_MODEL_9016f0d0706249bbb457758b2acd2ae2",
              "IPY_MODEL_97d4cc505d1d4feb97e97f4b30a73f66",
              "IPY_MODEL_5bb8e655bf96407b8334bb6879e20cd5"
            ]
          }
        },
        "cfb6165a0b714339ae750d7e28fe0d99": {
          "model_module": "@jupyter-widgets/base",
          "model_name": "LayoutModel",
          "model_module_version": "1.2.0",
          "state": {
            "_view_name": "LayoutView",
            "grid_template_rows": null,
            "right": null,
            "justify_content": null,
            "_view_module": "@jupyter-widgets/base",
            "overflow": null,
            "_model_module_version": "1.2.0",
            "_view_count": null,
            "flex_flow": null,
            "width": null,
            "min_width": null,
            "border": null,
            "align_items": null,
            "bottom": null,
            "_model_module": "@jupyter-widgets/base",
            "top": null,
            "grid_column": null,
            "overflow_y": null,
            "overflow_x": null,
            "grid_auto_flow": null,
            "grid_area": null,
            "grid_template_columns": null,
            "flex": null,
            "_model_name": "LayoutModel",
            "justify_items": null,
            "grid_row": null,
            "max_height": null,
            "align_content": null,
            "visibility": null,
            "align_self": null,
            "height": null,
            "min_height": null,
            "padding": null,
            "grid_auto_rows": null,
            "grid_gap": null,
            "max_width": null,
            "order": null,
            "_view_module_version": "1.2.0",
            "grid_template_areas": null,
            "object_position": null,
            "object_fit": null,
            "grid_auto_columns": null,
            "margin": null,
            "display": null,
            "left": null
          }
        },
        "9016f0d0706249bbb457758b2acd2ae2": {
          "model_module": "@jupyter-widgets/controls",
          "model_name": "HTMLModel",
          "model_module_version": "1.5.0",
          "state": {
            "_view_name": "HTMLView",
            "style": "IPY_MODEL_c07288ecd1f54e1f9adbb6fd20514862",
            "_dom_classes": [],
            "description": "",
            "_model_name": "HTMLModel",
            "placeholder": "​",
            "_view_module": "@jupyter-widgets/controls",
            "_model_module_version": "1.5.0",
            "value": "Downloading: 100%",
            "_view_count": null,
            "_view_module_version": "1.5.0",
            "description_tooltip": null,
            "_model_module": "@jupyter-widgets/controls",
            "layout": "IPY_MODEL_eed3363ee7054ba3ba6ee23110fa9f0b"
          }
        },
        "97d4cc505d1d4feb97e97f4b30a73f66": {
          "model_module": "@jupyter-widgets/controls",
          "model_name": "FloatProgressModel",
          "model_module_version": "1.5.0",
          "state": {
            "_view_name": "ProgressView",
            "style": "IPY_MODEL_bd54b11244ff41d6bdd76ad8f014db38",
            "_dom_classes": [],
            "description": "",
            "_model_name": "FloatProgressModel",
            "bar_style": "success",
            "max": 570,
            "_view_module": "@jupyter-widgets/controls",
            "_model_module_version": "1.5.0",
            "value": 570,
            "_view_count": null,
            "_view_module_version": "1.5.0",
            "orientation": "horizontal",
            "min": 0,
            "description_tooltip": null,
            "_model_module": "@jupyter-widgets/controls",
            "layout": "IPY_MODEL_7d3cafdfe0424e0daf9fc19f9475efe1"
          }
        },
        "5bb8e655bf96407b8334bb6879e20cd5": {
          "model_module": "@jupyter-widgets/controls",
          "model_name": "HTMLModel",
          "model_module_version": "1.5.0",
          "state": {
            "_view_name": "HTMLView",
            "style": "IPY_MODEL_37e1b133452f4690b936a3cd1ec7a0b1",
            "_dom_classes": [],
            "description": "",
            "_model_name": "HTMLModel",
            "placeholder": "​",
            "_view_module": "@jupyter-widgets/controls",
            "_model_module_version": "1.5.0",
            "value": " 570/570 [00:00&lt;00:00, 14.2kB/s]",
            "_view_count": null,
            "_view_module_version": "1.5.0",
            "description_tooltip": null,
            "_model_module": "@jupyter-widgets/controls",
            "layout": "IPY_MODEL_b3acd0e9e4ee42ae8317b1754442fd70"
          }
        },
        "c07288ecd1f54e1f9adbb6fd20514862": {
          "model_module": "@jupyter-widgets/controls",
          "model_name": "DescriptionStyleModel",
          "model_module_version": "1.5.0",
          "state": {
            "_view_name": "StyleView",
            "_model_name": "DescriptionStyleModel",
            "description_width": "",
            "_view_module": "@jupyter-widgets/base",
            "_model_module_version": "1.5.0",
            "_view_count": null,
            "_view_module_version": "1.2.0",
            "_model_module": "@jupyter-widgets/controls"
          }
        },
        "eed3363ee7054ba3ba6ee23110fa9f0b": {
          "model_module": "@jupyter-widgets/base",
          "model_name": "LayoutModel",
          "model_module_version": "1.2.0",
          "state": {
            "_view_name": "LayoutView",
            "grid_template_rows": null,
            "right": null,
            "justify_content": null,
            "_view_module": "@jupyter-widgets/base",
            "overflow": null,
            "_model_module_version": "1.2.0",
            "_view_count": null,
            "flex_flow": null,
            "width": null,
            "min_width": null,
            "border": null,
            "align_items": null,
            "bottom": null,
            "_model_module": "@jupyter-widgets/base",
            "top": null,
            "grid_column": null,
            "overflow_y": null,
            "overflow_x": null,
            "grid_auto_flow": null,
            "grid_area": null,
            "grid_template_columns": null,
            "flex": null,
            "_model_name": "LayoutModel",
            "justify_items": null,
            "grid_row": null,
            "max_height": null,
            "align_content": null,
            "visibility": null,
            "align_self": null,
            "height": null,
            "min_height": null,
            "padding": null,
            "grid_auto_rows": null,
            "grid_gap": null,
            "max_width": null,
            "order": null,
            "_view_module_version": "1.2.0",
            "grid_template_areas": null,
            "object_position": null,
            "object_fit": null,
            "grid_auto_columns": null,
            "margin": null,
            "display": null,
            "left": null
          }
        },
        "bd54b11244ff41d6bdd76ad8f014db38": {
          "model_module": "@jupyter-widgets/controls",
          "model_name": "ProgressStyleModel",
          "model_module_version": "1.5.0",
          "state": {
            "_view_name": "StyleView",
            "_model_name": "ProgressStyleModel",
            "description_width": "",
            "_view_module": "@jupyter-widgets/base",
            "_model_module_version": "1.5.0",
            "_view_count": null,
            "_view_module_version": "1.2.0",
            "bar_color": null,
            "_model_module": "@jupyter-widgets/controls"
          }
        },
        "7d3cafdfe0424e0daf9fc19f9475efe1": {
          "model_module": "@jupyter-widgets/base",
          "model_name": "LayoutModel",
          "model_module_version": "1.2.0",
          "state": {
            "_view_name": "LayoutView",
            "grid_template_rows": null,
            "right": null,
            "justify_content": null,
            "_view_module": "@jupyter-widgets/base",
            "overflow": null,
            "_model_module_version": "1.2.0",
            "_view_count": null,
            "flex_flow": null,
            "width": null,
            "min_width": null,
            "border": null,
            "align_items": null,
            "bottom": null,
            "_model_module": "@jupyter-widgets/base",
            "top": null,
            "grid_column": null,
            "overflow_y": null,
            "overflow_x": null,
            "grid_auto_flow": null,
            "grid_area": null,
            "grid_template_columns": null,
            "flex": null,
            "_model_name": "LayoutModel",
            "justify_items": null,
            "grid_row": null,
            "max_height": null,
            "align_content": null,
            "visibility": null,
            "align_self": null,
            "height": null,
            "min_height": null,
            "padding": null,
            "grid_auto_rows": null,
            "grid_gap": null,
            "max_width": null,
            "order": null,
            "_view_module_version": "1.2.0",
            "grid_template_areas": null,
            "object_position": null,
            "object_fit": null,
            "grid_auto_columns": null,
            "margin": null,
            "display": null,
            "left": null
          }
        },
        "37e1b133452f4690b936a3cd1ec7a0b1": {
          "model_module": "@jupyter-widgets/controls",
          "model_name": "DescriptionStyleModel",
          "model_module_version": "1.5.0",
          "state": {
            "_view_name": "StyleView",
            "_model_name": "DescriptionStyleModel",
            "description_width": "",
            "_view_module": "@jupyter-widgets/base",
            "_model_module_version": "1.5.0",
            "_view_count": null,
            "_view_module_version": "1.2.0",
            "_model_module": "@jupyter-widgets/controls"
          }
        },
        "b3acd0e9e4ee42ae8317b1754442fd70": {
          "model_module": "@jupyter-widgets/base",
          "model_name": "LayoutModel",
          "model_module_version": "1.2.0",
          "state": {
            "_view_name": "LayoutView",
            "grid_template_rows": null,
            "right": null,
            "justify_content": null,
            "_view_module": "@jupyter-widgets/base",
            "overflow": null,
            "_model_module_version": "1.2.0",
            "_view_count": null,
            "flex_flow": null,
            "width": null,
            "min_width": null,
            "border": null,
            "align_items": null,
            "bottom": null,
            "_model_module": "@jupyter-widgets/base",
            "top": null,
            "grid_column": null,
            "overflow_y": null,
            "overflow_x": null,
            "grid_auto_flow": null,
            "grid_area": null,
            "grid_template_columns": null,
            "flex": null,
            "_model_name": "LayoutModel",
            "justify_items": null,
            "grid_row": null,
            "max_height": null,
            "align_content": null,
            "visibility": null,
            "align_self": null,
            "height": null,
            "min_height": null,
            "padding": null,
            "grid_auto_rows": null,
            "grid_gap": null,
            "max_width": null,
            "order": null,
            "_view_module_version": "1.2.0",
            "grid_template_areas": null,
            "object_position": null,
            "object_fit": null,
            "grid_auto_columns": null,
            "margin": null,
            "display": null,
            "left": null
          }
        },
        "d6449f89ff974314abeff664de2667f8": {
          "model_module": "@jupyter-widgets/controls",
          "model_name": "HBoxModel",
          "model_module_version": "1.5.0",
          "state": {
            "_view_name": "HBoxView",
            "_dom_classes": [],
            "_model_name": "HBoxModel",
            "_view_module": "@jupyter-widgets/controls",
            "_model_module_version": "1.5.0",
            "_view_count": null,
            "_view_module_version": "1.5.0",
            "box_style": "",
            "layout": "IPY_MODEL_187a5fbbe99348c3a078758c87940add",
            "_model_module": "@jupyter-widgets/controls",
            "children": [
              "IPY_MODEL_df27e8c074f14e29a1ee4a09bc49688b",
              "IPY_MODEL_12ba5028546f4750b236ccf40e01cab2",
              "IPY_MODEL_66c6df348ae74bc3a300ba9a61e32543"
            ]
          }
        },
        "187a5fbbe99348c3a078758c87940add": {
          "model_module": "@jupyter-widgets/base",
          "model_name": "LayoutModel",
          "model_module_version": "1.2.0",
          "state": {
            "_view_name": "LayoutView",
            "grid_template_rows": null,
            "right": null,
            "justify_content": null,
            "_view_module": "@jupyter-widgets/base",
            "overflow": null,
            "_model_module_version": "1.2.0",
            "_view_count": null,
            "flex_flow": null,
            "width": null,
            "min_width": null,
            "border": null,
            "align_items": null,
            "bottom": null,
            "_model_module": "@jupyter-widgets/base",
            "top": null,
            "grid_column": null,
            "overflow_y": null,
            "overflow_x": null,
            "grid_auto_flow": null,
            "grid_area": null,
            "grid_template_columns": null,
            "flex": null,
            "_model_name": "LayoutModel",
            "justify_items": null,
            "grid_row": null,
            "max_height": null,
            "align_content": null,
            "visibility": null,
            "align_self": null,
            "height": null,
            "min_height": null,
            "padding": null,
            "grid_auto_rows": null,
            "grid_gap": null,
            "max_width": null,
            "order": null,
            "_view_module_version": "1.2.0",
            "grid_template_areas": null,
            "object_position": null,
            "object_fit": null,
            "grid_auto_columns": null,
            "margin": null,
            "display": null,
            "left": null
          }
        },
        "df27e8c074f14e29a1ee4a09bc49688b": {
          "model_module": "@jupyter-widgets/controls",
          "model_name": "HTMLModel",
          "model_module_version": "1.5.0",
          "state": {
            "_view_name": "HTMLView",
            "style": "IPY_MODEL_a25a271f7ba8440ead45bd34fdac744d",
            "_dom_classes": [],
            "description": "",
            "_model_name": "HTMLModel",
            "placeholder": "​",
            "_view_module": "@jupyter-widgets/controls",
            "_model_module_version": "1.5.0",
            "value": "Downloading: 100%",
            "_view_count": null,
            "_view_module_version": "1.5.0",
            "description_tooltip": null,
            "_model_module": "@jupyter-widgets/controls",
            "layout": "IPY_MODEL_c050f1d9b3e5474cb817bf89dd0b3be5"
          }
        },
        "12ba5028546f4750b236ccf40e01cab2": {
          "model_module": "@jupyter-widgets/controls",
          "model_name": "FloatProgressModel",
          "model_module_version": "1.5.0",
          "state": {
            "_view_name": "ProgressView",
            "style": "IPY_MODEL_912c2e34c4d4456dbf020f7c20602265",
            "_dom_classes": [],
            "description": "",
            "_model_name": "FloatProgressModel",
            "bar_style": "success",
            "max": 213450,
            "_view_module": "@jupyter-widgets/controls",
            "_model_module_version": "1.5.0",
            "value": 213450,
            "_view_count": null,
            "_view_module_version": "1.5.0",
            "orientation": "horizontal",
            "min": 0,
            "description_tooltip": null,
            "_model_module": "@jupyter-widgets/controls",
            "layout": "IPY_MODEL_1959b6d523c94e93a6d470694ff08957"
          }
        },
        "66c6df348ae74bc3a300ba9a61e32543": {
          "model_module": "@jupyter-widgets/controls",
          "model_name": "HTMLModel",
          "model_module_version": "1.5.0",
          "state": {
            "_view_name": "HTMLView",
            "style": "IPY_MODEL_41923a4b5a16413890ddcd08d9c47e2d",
            "_dom_classes": [],
            "description": "",
            "_model_name": "HTMLModel",
            "placeholder": "​",
            "_view_module": "@jupyter-widgets/controls",
            "_model_module_version": "1.5.0",
            "value": " 208k/208k [00:00&lt;00:00, 595kB/s]",
            "_view_count": null,
            "_view_module_version": "1.5.0",
            "description_tooltip": null,
            "_model_module": "@jupyter-widgets/controls",
            "layout": "IPY_MODEL_08b2aa712da7477a8bff99d66f863c76"
          }
        },
        "a25a271f7ba8440ead45bd34fdac744d": {
          "model_module": "@jupyter-widgets/controls",
          "model_name": "DescriptionStyleModel",
          "model_module_version": "1.5.0",
          "state": {
            "_view_name": "StyleView",
            "_model_name": "DescriptionStyleModel",
            "description_width": "",
            "_view_module": "@jupyter-widgets/base",
            "_model_module_version": "1.5.0",
            "_view_count": null,
            "_view_module_version": "1.2.0",
            "_model_module": "@jupyter-widgets/controls"
          }
        },
        "c050f1d9b3e5474cb817bf89dd0b3be5": {
          "model_module": "@jupyter-widgets/base",
          "model_name": "LayoutModel",
          "model_module_version": "1.2.0",
          "state": {
            "_view_name": "LayoutView",
            "grid_template_rows": null,
            "right": null,
            "justify_content": null,
            "_view_module": "@jupyter-widgets/base",
            "overflow": null,
            "_model_module_version": "1.2.0",
            "_view_count": null,
            "flex_flow": null,
            "width": null,
            "min_width": null,
            "border": null,
            "align_items": null,
            "bottom": null,
            "_model_module": "@jupyter-widgets/base",
            "top": null,
            "grid_column": null,
            "overflow_y": null,
            "overflow_x": null,
            "grid_auto_flow": null,
            "grid_area": null,
            "grid_template_columns": null,
            "flex": null,
            "_model_name": "LayoutModel",
            "justify_items": null,
            "grid_row": null,
            "max_height": null,
            "align_content": null,
            "visibility": null,
            "align_self": null,
            "height": null,
            "min_height": null,
            "padding": null,
            "grid_auto_rows": null,
            "grid_gap": null,
            "max_width": null,
            "order": null,
            "_view_module_version": "1.2.0",
            "grid_template_areas": null,
            "object_position": null,
            "object_fit": null,
            "grid_auto_columns": null,
            "margin": null,
            "display": null,
            "left": null
          }
        },
        "912c2e34c4d4456dbf020f7c20602265": {
          "model_module": "@jupyter-widgets/controls",
          "model_name": "ProgressStyleModel",
          "model_module_version": "1.5.0",
          "state": {
            "_view_name": "StyleView",
            "_model_name": "ProgressStyleModel",
            "description_width": "",
            "_view_module": "@jupyter-widgets/base",
            "_model_module_version": "1.5.0",
            "_view_count": null,
            "_view_module_version": "1.2.0",
            "bar_color": null,
            "_model_module": "@jupyter-widgets/controls"
          }
        },
        "1959b6d523c94e93a6d470694ff08957": {
          "model_module": "@jupyter-widgets/base",
          "model_name": "LayoutModel",
          "model_module_version": "1.2.0",
          "state": {
            "_view_name": "LayoutView",
            "grid_template_rows": null,
            "right": null,
            "justify_content": null,
            "_view_module": "@jupyter-widgets/base",
            "overflow": null,
            "_model_module_version": "1.2.0",
            "_view_count": null,
            "flex_flow": null,
            "width": null,
            "min_width": null,
            "border": null,
            "align_items": null,
            "bottom": null,
            "_model_module": "@jupyter-widgets/base",
            "top": null,
            "grid_column": null,
            "overflow_y": null,
            "overflow_x": null,
            "grid_auto_flow": null,
            "grid_area": null,
            "grid_template_columns": null,
            "flex": null,
            "_model_name": "LayoutModel",
            "justify_items": null,
            "grid_row": null,
            "max_height": null,
            "align_content": null,
            "visibility": null,
            "align_self": null,
            "height": null,
            "min_height": null,
            "padding": null,
            "grid_auto_rows": null,
            "grid_gap": null,
            "max_width": null,
            "order": null,
            "_view_module_version": "1.2.0",
            "grid_template_areas": null,
            "object_position": null,
            "object_fit": null,
            "grid_auto_columns": null,
            "margin": null,
            "display": null,
            "left": null
          }
        },
        "41923a4b5a16413890ddcd08d9c47e2d": {
          "model_module": "@jupyter-widgets/controls",
          "model_name": "DescriptionStyleModel",
          "model_module_version": "1.5.0",
          "state": {
            "_view_name": "StyleView",
            "_model_name": "DescriptionStyleModel",
            "description_width": "",
            "_view_module": "@jupyter-widgets/base",
            "_model_module_version": "1.5.0",
            "_view_count": null,
            "_view_module_version": "1.2.0",
            "_model_module": "@jupyter-widgets/controls"
          }
        },
        "08b2aa712da7477a8bff99d66f863c76": {
          "model_module": "@jupyter-widgets/base",
          "model_name": "LayoutModel",
          "model_module_version": "1.2.0",
          "state": {
            "_view_name": "LayoutView",
            "grid_template_rows": null,
            "right": null,
            "justify_content": null,
            "_view_module": "@jupyter-widgets/base",
            "overflow": null,
            "_model_module_version": "1.2.0",
            "_view_count": null,
            "flex_flow": null,
            "width": null,
            "min_width": null,
            "border": null,
            "align_items": null,
            "bottom": null,
            "_model_module": "@jupyter-widgets/base",
            "top": null,
            "grid_column": null,
            "overflow_y": null,
            "overflow_x": null,
            "grid_auto_flow": null,
            "grid_area": null,
            "grid_template_columns": null,
            "flex": null,
            "_model_name": "LayoutModel",
            "justify_items": null,
            "grid_row": null,
            "max_height": null,
            "align_content": null,
            "visibility": null,
            "align_self": null,
            "height": null,
            "min_height": null,
            "padding": null,
            "grid_auto_rows": null,
            "grid_gap": null,
            "max_width": null,
            "order": null,
            "_view_module_version": "1.2.0",
            "grid_template_areas": null,
            "object_position": null,
            "object_fit": null,
            "grid_auto_columns": null,
            "margin": null,
            "display": null,
            "left": null
          }
        },
        "45b749acdbd34a0da6fcea6e5c0d1594": {
          "model_module": "@jupyter-widgets/controls",
          "model_name": "HBoxModel",
          "model_module_version": "1.5.0",
          "state": {
            "_view_name": "HBoxView",
            "_dom_classes": [],
            "_model_name": "HBoxModel",
            "_view_module": "@jupyter-widgets/controls",
            "_model_module_version": "1.5.0",
            "_view_count": null,
            "_view_module_version": "1.5.0",
            "box_style": "",
            "layout": "IPY_MODEL_0d88fc47313d49b2bd626ebf55d40080",
            "_model_module": "@jupyter-widgets/controls",
            "children": [
              "IPY_MODEL_28e4c0f85cbc42b990b39966f747e5be",
              "IPY_MODEL_3c60e19d55034e67850c8c1571f4f5cd",
              "IPY_MODEL_b63063bcfacd4cc78b00958eff73628d"
            ]
          }
        },
        "0d88fc47313d49b2bd626ebf55d40080": {
          "model_module": "@jupyter-widgets/base",
          "model_name": "LayoutModel",
          "model_module_version": "1.2.0",
          "state": {
            "_view_name": "LayoutView",
            "grid_template_rows": null,
            "right": null,
            "justify_content": null,
            "_view_module": "@jupyter-widgets/base",
            "overflow": null,
            "_model_module_version": "1.2.0",
            "_view_count": null,
            "flex_flow": null,
            "width": null,
            "min_width": null,
            "border": null,
            "align_items": null,
            "bottom": null,
            "_model_module": "@jupyter-widgets/base",
            "top": null,
            "grid_column": null,
            "overflow_y": null,
            "overflow_x": null,
            "grid_auto_flow": null,
            "grid_area": null,
            "grid_template_columns": null,
            "flex": null,
            "_model_name": "LayoutModel",
            "justify_items": null,
            "grid_row": null,
            "max_height": null,
            "align_content": null,
            "visibility": null,
            "align_self": null,
            "height": null,
            "min_height": null,
            "padding": null,
            "grid_auto_rows": null,
            "grid_gap": null,
            "max_width": null,
            "order": null,
            "_view_module_version": "1.2.0",
            "grid_template_areas": null,
            "object_position": null,
            "object_fit": null,
            "grid_auto_columns": null,
            "margin": null,
            "display": null,
            "left": null
          }
        },
        "28e4c0f85cbc42b990b39966f747e5be": {
          "model_module": "@jupyter-widgets/controls",
          "model_name": "HTMLModel",
          "model_module_version": "1.5.0",
          "state": {
            "_view_name": "HTMLView",
            "style": "IPY_MODEL_737eb0a194b54241850b12721f7ebad9",
            "_dom_classes": [],
            "description": "",
            "_model_name": "HTMLModel",
            "placeholder": "​",
            "_view_module": "@jupyter-widgets/controls",
            "_model_module_version": "1.5.0",
            "value": "Downloading: 100%",
            "_view_count": null,
            "_view_module_version": "1.5.0",
            "description_tooltip": null,
            "_model_module": "@jupyter-widgets/controls",
            "layout": "IPY_MODEL_f30345919dc44c289011103697496a9d"
          }
        },
        "3c60e19d55034e67850c8c1571f4f5cd": {
          "model_module": "@jupyter-widgets/controls",
          "model_name": "FloatProgressModel",
          "model_module_version": "1.5.0",
          "state": {
            "_view_name": "ProgressView",
            "style": "IPY_MODEL_1fc8f1f41eca450d9622b6eee70e25f5",
            "_dom_classes": [],
            "description": "",
            "_model_name": "FloatProgressModel",
            "bar_style": "success",
            "max": 435797,
            "_view_module": "@jupyter-widgets/controls",
            "_model_module_version": "1.5.0",
            "value": 435797,
            "_view_count": null,
            "_view_module_version": "1.5.0",
            "orientation": "horizontal",
            "min": 0,
            "description_tooltip": null,
            "_model_module": "@jupyter-widgets/controls",
            "layout": "IPY_MODEL_5ee308eb9d5c4e4682d224c4291818cf"
          }
        },
        "b63063bcfacd4cc78b00958eff73628d": {
          "model_module": "@jupyter-widgets/controls",
          "model_name": "HTMLModel",
          "model_module_version": "1.5.0",
          "state": {
            "_view_name": "HTMLView",
            "style": "IPY_MODEL_a6118bf118184c39874ea5b19a220333",
            "_dom_classes": [],
            "description": "",
            "_model_name": "HTMLModel",
            "placeholder": "​",
            "_view_module": "@jupyter-widgets/controls",
            "_model_module_version": "1.5.0",
            "value": " 426k/426k [00:00&lt;00:00, 666kB/s]",
            "_view_count": null,
            "_view_module_version": "1.5.0",
            "description_tooltip": null,
            "_model_module": "@jupyter-widgets/controls",
            "layout": "IPY_MODEL_5d18785a54a34f5d843fc5ccbc372ee0"
          }
        },
        "737eb0a194b54241850b12721f7ebad9": {
          "model_module": "@jupyter-widgets/controls",
          "model_name": "DescriptionStyleModel",
          "model_module_version": "1.5.0",
          "state": {
            "_view_name": "StyleView",
            "_model_name": "DescriptionStyleModel",
            "description_width": "",
            "_view_module": "@jupyter-widgets/base",
            "_model_module_version": "1.5.0",
            "_view_count": null,
            "_view_module_version": "1.2.0",
            "_model_module": "@jupyter-widgets/controls"
          }
        },
        "f30345919dc44c289011103697496a9d": {
          "model_module": "@jupyter-widgets/base",
          "model_name": "LayoutModel",
          "model_module_version": "1.2.0",
          "state": {
            "_view_name": "LayoutView",
            "grid_template_rows": null,
            "right": null,
            "justify_content": null,
            "_view_module": "@jupyter-widgets/base",
            "overflow": null,
            "_model_module_version": "1.2.0",
            "_view_count": null,
            "flex_flow": null,
            "width": null,
            "min_width": null,
            "border": null,
            "align_items": null,
            "bottom": null,
            "_model_module": "@jupyter-widgets/base",
            "top": null,
            "grid_column": null,
            "overflow_y": null,
            "overflow_x": null,
            "grid_auto_flow": null,
            "grid_area": null,
            "grid_template_columns": null,
            "flex": null,
            "_model_name": "LayoutModel",
            "justify_items": null,
            "grid_row": null,
            "max_height": null,
            "align_content": null,
            "visibility": null,
            "align_self": null,
            "height": null,
            "min_height": null,
            "padding": null,
            "grid_auto_rows": null,
            "grid_gap": null,
            "max_width": null,
            "order": null,
            "_view_module_version": "1.2.0",
            "grid_template_areas": null,
            "object_position": null,
            "object_fit": null,
            "grid_auto_columns": null,
            "margin": null,
            "display": null,
            "left": null
          }
        },
        "1fc8f1f41eca450d9622b6eee70e25f5": {
          "model_module": "@jupyter-widgets/controls",
          "model_name": "ProgressStyleModel",
          "model_module_version": "1.5.0",
          "state": {
            "_view_name": "StyleView",
            "_model_name": "ProgressStyleModel",
            "description_width": "",
            "_view_module": "@jupyter-widgets/base",
            "_model_module_version": "1.5.0",
            "_view_count": null,
            "_view_module_version": "1.2.0",
            "bar_color": null,
            "_model_module": "@jupyter-widgets/controls"
          }
        },
        "5ee308eb9d5c4e4682d224c4291818cf": {
          "model_module": "@jupyter-widgets/base",
          "model_name": "LayoutModel",
          "model_module_version": "1.2.0",
          "state": {
            "_view_name": "LayoutView",
            "grid_template_rows": null,
            "right": null,
            "justify_content": null,
            "_view_module": "@jupyter-widgets/base",
            "overflow": null,
            "_model_module_version": "1.2.0",
            "_view_count": null,
            "flex_flow": null,
            "width": null,
            "min_width": null,
            "border": null,
            "align_items": null,
            "bottom": null,
            "_model_module": "@jupyter-widgets/base",
            "top": null,
            "grid_column": null,
            "overflow_y": null,
            "overflow_x": null,
            "grid_auto_flow": null,
            "grid_area": null,
            "grid_template_columns": null,
            "flex": null,
            "_model_name": "LayoutModel",
            "justify_items": null,
            "grid_row": null,
            "max_height": null,
            "align_content": null,
            "visibility": null,
            "align_self": null,
            "height": null,
            "min_height": null,
            "padding": null,
            "grid_auto_rows": null,
            "grid_gap": null,
            "max_width": null,
            "order": null,
            "_view_module_version": "1.2.0",
            "grid_template_areas": null,
            "object_position": null,
            "object_fit": null,
            "grid_auto_columns": null,
            "margin": null,
            "display": null,
            "left": null
          }
        },
        "a6118bf118184c39874ea5b19a220333": {
          "model_module": "@jupyter-widgets/controls",
          "model_name": "DescriptionStyleModel",
          "model_module_version": "1.5.0",
          "state": {
            "_view_name": "StyleView",
            "_model_name": "DescriptionStyleModel",
            "description_width": "",
            "_view_module": "@jupyter-widgets/base",
            "_model_module_version": "1.5.0",
            "_view_count": null,
            "_view_module_version": "1.2.0",
            "_model_module": "@jupyter-widgets/controls"
          }
        },
        "5d18785a54a34f5d843fc5ccbc372ee0": {
          "model_module": "@jupyter-widgets/base",
          "model_name": "LayoutModel",
          "model_module_version": "1.2.0",
          "state": {
            "_view_name": "LayoutView",
            "grid_template_rows": null,
            "right": null,
            "justify_content": null,
            "_view_module": "@jupyter-widgets/base",
            "overflow": null,
            "_model_module_version": "1.2.0",
            "_view_count": null,
            "flex_flow": null,
            "width": null,
            "min_width": null,
            "border": null,
            "align_items": null,
            "bottom": null,
            "_model_module": "@jupyter-widgets/base",
            "top": null,
            "grid_column": null,
            "overflow_y": null,
            "overflow_x": null,
            "grid_auto_flow": null,
            "grid_area": null,
            "grid_template_columns": null,
            "flex": null,
            "_model_name": "LayoutModel",
            "justify_items": null,
            "grid_row": null,
            "max_height": null,
            "align_content": null,
            "visibility": null,
            "align_self": null,
            "height": null,
            "min_height": null,
            "padding": null,
            "grid_auto_rows": null,
            "grid_gap": null,
            "max_width": null,
            "order": null,
            "_view_module_version": "1.2.0",
            "grid_template_areas": null,
            "object_position": null,
            "object_fit": null,
            "grid_auto_columns": null,
            "margin": null,
            "display": null,
            "left": null
          }
        }
      }
    }
  },
  "nbformat": 4,
  "nbformat_minor": 0
}